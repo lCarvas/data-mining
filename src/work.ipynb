{
 "cells": [
  {
   "cell_type": "markdown",
   "id": "b18d1ad5",
   "metadata": {},
   "source": [
    "# DATA EXPLORATION"
   ]
  },
  {
   "cell_type": "code",
   "execution_count": 1,
   "id": "0ec23337",
   "metadata": {},
   "outputs": [],
   "source": [
    "import pandas as pd\n",
    "from pandas import DataFrame\n",
    "import numpy as np\n",
    "import matplotlib.pyplot as plt\n",
    "import seaborn as sns\n",
    "import plotly.express as px\n",
    "from sklearn.impute import KNNImputer\n",
    "from itertools import product\n",
    "from scipy.stats import skewnorm"
   ]
  },
  {
   "cell_type": "code",
   "execution_count": 2,
   "id": "ea359d03",
   "metadata": {},
   "outputs": [],
   "source": [
    "path = \"C:/Users/Asus FX516P 9775/Documents/GitHub/data-mining/src\"\n",
    "\n",
    "dataCustomer: DataFrame = pd.read_csv(path + \"/data/DM_AIAI_CustomerDB.csv\")\n",
    "dataFlights: DataFrame = pd.read_csv(path + \"/data/DM_AIAI_FlightsDB.csv\")"
   ]
  },
  {
   "cell_type": "code",
   "execution_count": 3,
   "id": "eeffcad1",
   "metadata": {},
   "outputs": [
    {
     "data": {
      "text/html": [
       "<div>\n",
       "<style scoped>\n",
       "    .dataframe tbody tr th:only-of-type {\n",
       "        vertical-align: middle;\n",
       "    }\n",
       "\n",
       "    .dataframe tbody tr th {\n",
       "        vertical-align: top;\n",
       "    }\n",
       "\n",
       "    .dataframe thead th {\n",
       "        text-align: right;\n",
       "    }\n",
       "</style>\n",
       "<table border=\"1\" class=\"dataframe\">\n",
       "  <thead>\n",
       "    <tr style=\"text-align: right;\">\n",
       "      <th></th>\n",
       "      <th>Unnamed: 0</th>\n",
       "      <th>Loyalty#</th>\n",
       "      <th>First Name</th>\n",
       "      <th>Last Name</th>\n",
       "      <th>Customer Name</th>\n",
       "      <th>Country</th>\n",
       "      <th>Province or State</th>\n",
       "      <th>City</th>\n",
       "      <th>Latitude</th>\n",
       "      <th>Longitude</th>\n",
       "      <th>...</th>\n",
       "      <th>Gender</th>\n",
       "      <th>Education</th>\n",
       "      <th>Location Code</th>\n",
       "      <th>Income</th>\n",
       "      <th>Marital Status</th>\n",
       "      <th>LoyaltyStatus</th>\n",
       "      <th>EnrollmentDateOpening</th>\n",
       "      <th>CancellationDate</th>\n",
       "      <th>Customer Lifetime Value</th>\n",
       "      <th>EnrollmentType</th>\n",
       "    </tr>\n",
       "  </thead>\n",
       "  <tbody>\n",
       "    <tr>\n",
       "      <th>0</th>\n",
       "      <td>0</td>\n",
       "      <td>480934</td>\n",
       "      <td>Cecilia</td>\n",
       "      <td>Householder</td>\n",
       "      <td>Cecilia Householder</td>\n",
       "      <td>Canada</td>\n",
       "      <td>Ontario</td>\n",
       "      <td>Toronto</td>\n",
       "      <td>43.653225</td>\n",
       "      <td>-79.383186</td>\n",
       "      <td>...</td>\n",
       "      <td>female</td>\n",
       "      <td>Bachelor</td>\n",
       "      <td>Urban</td>\n",
       "      <td>70146.0</td>\n",
       "      <td>Married</td>\n",
       "      <td>Star</td>\n",
       "      <td>2/15/2019</td>\n",
       "      <td>NaN</td>\n",
       "      <td>3839.14</td>\n",
       "      <td>Standard</td>\n",
       "    </tr>\n",
       "    <tr>\n",
       "      <th>1</th>\n",
       "      <td>1</td>\n",
       "      <td>549612</td>\n",
       "      <td>Dayle</td>\n",
       "      <td>Menez</td>\n",
       "      <td>Dayle Menez</td>\n",
       "      <td>Canada</td>\n",
       "      <td>Alberta</td>\n",
       "      <td>Edmonton</td>\n",
       "      <td>53.544388</td>\n",
       "      <td>-113.490930</td>\n",
       "      <td>...</td>\n",
       "      <td>male</td>\n",
       "      <td>College</td>\n",
       "      <td>Rural</td>\n",
       "      <td>0.0</td>\n",
       "      <td>Divorced</td>\n",
       "      <td>Star</td>\n",
       "      <td>3/9/2019</td>\n",
       "      <td>NaN</td>\n",
       "      <td>3839.61</td>\n",
       "      <td>Standard</td>\n",
       "    </tr>\n",
       "    <tr>\n",
       "      <th>2</th>\n",
       "      <td>2</td>\n",
       "      <td>429460</td>\n",
       "      <td>Necole</td>\n",
       "      <td>Hannon</td>\n",
       "      <td>Necole Hannon</td>\n",
       "      <td>Canada</td>\n",
       "      <td>British Columbia</td>\n",
       "      <td>Vancouver</td>\n",
       "      <td>49.282730</td>\n",
       "      <td>-123.120740</td>\n",
       "      <td>...</td>\n",
       "      <td>male</td>\n",
       "      <td>College</td>\n",
       "      <td>Urban</td>\n",
       "      <td>0.0</td>\n",
       "      <td>Single</td>\n",
       "      <td>Star</td>\n",
       "      <td>7/14/2017</td>\n",
       "      <td>1/8/2021</td>\n",
       "      <td>3839.75</td>\n",
       "      <td>Standard</td>\n",
       "    </tr>\n",
       "    <tr>\n",
       "      <th>3</th>\n",
       "      <td>3</td>\n",
       "      <td>608370</td>\n",
       "      <td>Queen</td>\n",
       "      <td>Hagee</td>\n",
       "      <td>Queen Hagee</td>\n",
       "      <td>Canada</td>\n",
       "      <td>Ontario</td>\n",
       "      <td>Toronto</td>\n",
       "      <td>43.653225</td>\n",
       "      <td>-79.383186</td>\n",
       "      <td>...</td>\n",
       "      <td>male</td>\n",
       "      <td>College</td>\n",
       "      <td>Suburban</td>\n",
       "      <td>0.0</td>\n",
       "      <td>Single</td>\n",
       "      <td>Star</td>\n",
       "      <td>2/17/2016</td>\n",
       "      <td>NaN</td>\n",
       "      <td>3839.75</td>\n",
       "      <td>Standard</td>\n",
       "    </tr>\n",
       "    <tr>\n",
       "      <th>4</th>\n",
       "      <td>4</td>\n",
       "      <td>530508</td>\n",
       "      <td>Claire</td>\n",
       "      <td>Latting</td>\n",
       "      <td>Claire Latting</td>\n",
       "      <td>Canada</td>\n",
       "      <td>Quebec</td>\n",
       "      <td>Hull</td>\n",
       "      <td>45.428730</td>\n",
       "      <td>-75.713364</td>\n",
       "      <td>...</td>\n",
       "      <td>male</td>\n",
       "      <td>Bachelor</td>\n",
       "      <td>Suburban</td>\n",
       "      <td>97832.0</td>\n",
       "      <td>Married</td>\n",
       "      <td>Star</td>\n",
       "      <td>10/25/2017</td>\n",
       "      <td>NaN</td>\n",
       "      <td>3842.79</td>\n",
       "      <td>2021 Promotion</td>\n",
       "    </tr>\n",
       "  </tbody>\n",
       "</table>\n",
       "<p>5 rows × 21 columns</p>\n",
       "</div>"
      ],
      "text/plain": [
       "   Unnamed: 0  Loyalty# First Name    Last Name        Customer Name Country  \\\n",
       "0           0    480934    Cecilia  Householder  Cecilia Householder  Canada   \n",
       "1           1    549612      Dayle        Menez          Dayle Menez  Canada   \n",
       "2           2    429460     Necole       Hannon        Necole Hannon  Canada   \n",
       "3           3    608370      Queen        Hagee          Queen Hagee  Canada   \n",
       "4           4    530508     Claire      Latting       Claire Latting  Canada   \n",
       "\n",
       "  Province or State       City   Latitude   Longitude  ...  Gender Education  \\\n",
       "0           Ontario    Toronto  43.653225  -79.383186  ...  female  Bachelor   \n",
       "1           Alberta   Edmonton  53.544388 -113.490930  ...    male   College   \n",
       "2  British Columbia  Vancouver  49.282730 -123.120740  ...    male   College   \n",
       "3           Ontario    Toronto  43.653225  -79.383186  ...    male   College   \n",
       "4            Quebec       Hull  45.428730  -75.713364  ...    male  Bachelor   \n",
       "\n",
       "  Location Code   Income  Marital Status LoyaltyStatus EnrollmentDateOpening  \\\n",
       "0         Urban  70146.0         Married          Star             2/15/2019   \n",
       "1         Rural      0.0        Divorced          Star              3/9/2019   \n",
       "2         Urban      0.0          Single          Star             7/14/2017   \n",
       "3      Suburban      0.0          Single          Star             2/17/2016   \n",
       "4      Suburban  97832.0         Married          Star            10/25/2017   \n",
       "\n",
       "  CancellationDate Customer Lifetime Value  EnrollmentType  \n",
       "0              NaN                 3839.14        Standard  \n",
       "1              NaN                 3839.61        Standard  \n",
       "2         1/8/2021                 3839.75        Standard  \n",
       "3              NaN                 3839.75        Standard  \n",
       "4              NaN                 3842.79  2021 Promotion  \n",
       "\n",
       "[5 rows x 21 columns]"
      ]
     },
     "execution_count": 3,
     "metadata": {},
     "output_type": "execute_result"
    }
   ],
   "source": [
    "dataCustomer.head()\n"
   ]
  },
  {
   "cell_type": "code",
   "execution_count": 4,
   "id": "740c4a1e",
   "metadata": {},
   "outputs": [
    {
     "name": "stdout",
     "output_type": "stream",
     "text": [
      "<class 'pandas.core.frame.DataFrame'>\n",
      "RangeIndex: 16921 entries, 0 to 16920\n",
      "Data columns (total 21 columns):\n",
      " #   Column                   Non-Null Count  Dtype  \n",
      "---  ------                   --------------  -----  \n",
      " 0   Unnamed: 0               16921 non-null  int64  \n",
      " 1   Loyalty#                 16921 non-null  int64  \n",
      " 2   First Name               16921 non-null  object \n",
      " 3   Last Name                16921 non-null  object \n",
      " 4   Customer Name            16921 non-null  object \n",
      " 5   Country                  16921 non-null  object \n",
      " 6   Province or State        16921 non-null  object \n",
      " 7   City                     16921 non-null  object \n",
      " 8   Latitude                 16921 non-null  float64\n",
      " 9   Longitude                16921 non-null  float64\n",
      " 10  Postal code              16921 non-null  object \n",
      " 11  Gender                   16921 non-null  object \n",
      " 12  Education                16921 non-null  object \n",
      " 13  Location Code            16921 non-null  object \n",
      " 14  Income                   16901 non-null  float64\n",
      " 15  Marital Status           16921 non-null  object \n",
      " 16  LoyaltyStatus            16921 non-null  object \n",
      " 17  EnrollmentDateOpening    16921 non-null  object \n",
      " 18  CancellationDate         2310 non-null   object \n",
      " 19  Customer Lifetime Value  16901 non-null  float64\n",
      " 20  EnrollmentType           16921 non-null  object \n",
      "dtypes: float64(4), int64(2), object(15)\n",
      "memory usage: 2.7+ MB\n"
     ]
    }
   ],
   "source": [
    "dataCustomer.info()"
   ]
  },
  {
   "cell_type": "code",
   "execution_count": 5,
   "id": "abe53fa8",
   "metadata": {},
   "outputs": [
    {
     "data": {
      "text/plain": [
       "(16921, 21)"
      ]
     },
     "execution_count": 5,
     "metadata": {},
     "output_type": "execute_result"
    }
   ],
   "source": [
    "dataCustomer.shape"
   ]
  },
  {
   "cell_type": "code",
   "execution_count": 6,
   "id": "ffb390ec",
   "metadata": {},
   "outputs": [
    {
     "data": {
      "text/html": [
       "<div>\n",
       "<style scoped>\n",
       "    .dataframe tbody tr th:only-of-type {\n",
       "        vertical-align: middle;\n",
       "    }\n",
       "\n",
       "    .dataframe tbody tr th {\n",
       "        vertical-align: top;\n",
       "    }\n",
       "\n",
       "    .dataframe thead th {\n",
       "        text-align: right;\n",
       "    }\n",
       "</style>\n",
       "<table border=\"1\" class=\"dataframe\">\n",
       "  <thead>\n",
       "    <tr style=\"text-align: right;\">\n",
       "      <th></th>\n",
       "      <th>Loyalty#</th>\n",
       "      <th>Year</th>\n",
       "      <th>Month</th>\n",
       "      <th>YearMonthDate</th>\n",
       "      <th>NumFlights</th>\n",
       "      <th>NumFlightsWithCompanions</th>\n",
       "      <th>DistanceKM</th>\n",
       "      <th>PointsAccumulated</th>\n",
       "      <th>PointsRedeemed</th>\n",
       "      <th>DollarCostPointsRedeemed</th>\n",
       "    </tr>\n",
       "  </thead>\n",
       "  <tbody>\n",
       "    <tr>\n",
       "      <th>0</th>\n",
       "      <td>413052</td>\n",
       "      <td>2021</td>\n",
       "      <td>12</td>\n",
       "      <td>12/1/2021</td>\n",
       "      <td>2.0</td>\n",
       "      <td>2.0</td>\n",
       "      <td>9384.0</td>\n",
       "      <td>938.0</td>\n",
       "      <td>0.0</td>\n",
       "      <td>0.0</td>\n",
       "    </tr>\n",
       "    <tr>\n",
       "      <th>1</th>\n",
       "      <td>464105</td>\n",
       "      <td>2021</td>\n",
       "      <td>12</td>\n",
       "      <td>12/1/2021</td>\n",
       "      <td>0.0</td>\n",
       "      <td>0.0</td>\n",
       "      <td>0.0</td>\n",
       "      <td>0.0</td>\n",
       "      <td>0.0</td>\n",
       "      <td>0.0</td>\n",
       "    </tr>\n",
       "    <tr>\n",
       "      <th>2</th>\n",
       "      <td>681785</td>\n",
       "      <td>2021</td>\n",
       "      <td>12</td>\n",
       "      <td>12/1/2021</td>\n",
       "      <td>10.0</td>\n",
       "      <td>3.0</td>\n",
       "      <td>14745.0</td>\n",
       "      <td>1474.0</td>\n",
       "      <td>0.0</td>\n",
       "      <td>0.0</td>\n",
       "    </tr>\n",
       "    <tr>\n",
       "      <th>3</th>\n",
       "      <td>185013</td>\n",
       "      <td>2021</td>\n",
       "      <td>12</td>\n",
       "      <td>12/1/2021</td>\n",
       "      <td>16.0</td>\n",
       "      <td>4.0</td>\n",
       "      <td>26311.0</td>\n",
       "      <td>2631.0</td>\n",
       "      <td>3213.0</td>\n",
       "      <td>32.0</td>\n",
       "    </tr>\n",
       "    <tr>\n",
       "      <th>4</th>\n",
       "      <td>216596</td>\n",
       "      <td>2021</td>\n",
       "      <td>12</td>\n",
       "      <td>12/1/2021</td>\n",
       "      <td>9.0</td>\n",
       "      <td>0.0</td>\n",
       "      <td>19275.0</td>\n",
       "      <td>1927.0</td>\n",
       "      <td>0.0</td>\n",
       "      <td>0.0</td>\n",
       "    </tr>\n",
       "  </tbody>\n",
       "</table>\n",
       "</div>"
      ],
      "text/plain": [
       "   Loyalty#  Year  Month YearMonthDate  NumFlights  NumFlightsWithCompanions  \\\n",
       "0    413052  2021     12     12/1/2021         2.0                       2.0   \n",
       "1    464105  2021     12     12/1/2021         0.0                       0.0   \n",
       "2    681785  2021     12     12/1/2021        10.0                       3.0   \n",
       "3    185013  2021     12     12/1/2021        16.0                       4.0   \n",
       "4    216596  2021     12     12/1/2021         9.0                       0.0   \n",
       "\n",
       "   DistanceKM  PointsAccumulated  PointsRedeemed  DollarCostPointsRedeemed  \n",
       "0      9384.0              938.0             0.0                       0.0  \n",
       "1         0.0                0.0             0.0                       0.0  \n",
       "2     14745.0             1474.0             0.0                       0.0  \n",
       "3     26311.0             2631.0          3213.0                      32.0  \n",
       "4     19275.0             1927.0             0.0                       0.0  "
      ]
     },
     "execution_count": 6,
     "metadata": {},
     "output_type": "execute_result"
    }
   ],
   "source": [
    "dataFlights.head()"
   ]
  },
  {
   "cell_type": "code",
   "execution_count": 7,
   "id": "94923b9b",
   "metadata": {},
   "outputs": [
    {
     "name": "stdout",
     "output_type": "stream",
     "text": [
      "<class 'pandas.core.frame.DataFrame'>\n",
      "RangeIndex: 608436 entries, 0 to 608435\n",
      "Data columns (total 10 columns):\n",
      " #   Column                    Non-Null Count   Dtype  \n",
      "---  ------                    --------------   -----  \n",
      " 0   Loyalty#                  608436 non-null  int64  \n",
      " 1   Year                      608436 non-null  int64  \n",
      " 2   Month                     608436 non-null  int64  \n",
      " 3   YearMonthDate             608436 non-null  object \n",
      " 4   NumFlights                608436 non-null  float64\n",
      " 5   NumFlightsWithCompanions  608436 non-null  float64\n",
      " 6   DistanceKM                608436 non-null  float64\n",
      " 7   PointsAccumulated         608436 non-null  float64\n",
      " 8   PointsRedeemed            608436 non-null  float64\n",
      " 9   DollarCostPointsRedeemed  608436 non-null  float64\n",
      "dtypes: float64(6), int64(3), object(1)\n",
      "memory usage: 46.4+ MB\n"
     ]
    }
   ],
   "source": [
    "dataFlights.info()"
   ]
  },
  {
   "cell_type": "code",
   "execution_count": 8,
   "id": "ac2982b2",
   "metadata": {},
   "outputs": [
    {
     "data": {
      "text/plain": [
       "(608436, 10)"
      ]
     },
     "execution_count": 8,
     "metadata": {},
     "output_type": "execute_result"
    }
   ],
   "source": [
    "dataFlights.shape"
   ]
  },
  {
   "cell_type": "code",
   "execution_count": 9,
   "id": "733d5f58",
   "metadata": {},
   "outputs": [
    {
     "data": {
      "text/plain": [
       "Unnamed: 0                     0\n",
       "Loyalty#                       0\n",
       "First Name                     0\n",
       "Last Name                      0\n",
       "Customer Name                  0\n",
       "Country                        0\n",
       "Province or State              0\n",
       "City                           0\n",
       "Latitude                       0\n",
       "Longitude                      0\n",
       "Postal code                    0\n",
       "Gender                         0\n",
       "Education                      0\n",
       "Location Code                  0\n",
       "Income                        20\n",
       "Marital Status                 0\n",
       "LoyaltyStatus                  0\n",
       "EnrollmentDateOpening          0\n",
       "CancellationDate           14611\n",
       "Customer Lifetime Value       20\n",
       "EnrollmentType                 0\n",
       "dtype: int64"
      ]
     },
     "execution_count": 9,
     "metadata": {},
     "output_type": "execute_result"
    }
   ],
   "source": [
    "dataCustomer.isna().sum()"
   ]
  },
  {
   "cell_type": "code",
   "execution_count": 11,
   "id": "f2eeeb16",
   "metadata": {},
   "outputs": [
    {
     "data": {
      "text/plain": [
       "Unnamed: 0                     0\n",
       "Loyalty#                       0\n",
       "First Name                     0\n",
       "Last Name                      0\n",
       "Customer Name                  0\n",
       "Country                        0\n",
       "Province or State              0\n",
       "City                           0\n",
       "Latitude                       0\n",
       "Longitude                      0\n",
       "Postal code                    0\n",
       "Gender                         0\n",
       "Education                      0\n",
       "Location Code                  0\n",
       "Income                         0\n",
       "Marital Status                 0\n",
       "LoyaltyStatus                  0\n",
       "EnrollmentDateOpening          0\n",
       "CancellationDate           14611\n",
       "Customer Lifetime Value        0\n",
       "EnrollmentType                 0\n",
       "dtype: int64"
      ]
     },
     "execution_count": 11,
     "metadata": {},
     "output_type": "execute_result"
    }
   ],
   "source": [
    "dataCustomer_central = dataCustomer.copy()\n",
    "\n",
    "\n",
    "dataCustomer_central['Income'] = dataCustomer_central.groupby('Education')['Income'].transform(lambda x: x.fillna(x.median()))\n",
    "dataCustomer_central['Customer Lifetime Value'] = dataCustomer_central.groupby('Education')['Customer Lifetime Value'].transform(lambda x: x.fillna(x.median()))\n",
    "dataCustomer_central.isna().sum()"
   ]
  },
  {
   "cell_type": "code",
   "execution_count": null,
   "id": "dfed8ce9",
   "metadata": {},
   "outputs": [
    {
     "name": "stderr",
     "output_type": "stream",
     "text": [
      "C:\\Users\\Asus FX516P 9775\\AppData\\Local\\Temp\\ipykernel_4216\\4255677277.py:2: FutureWarning: A value is trying to be set on a copy of a DataFrame or Series through chained assignment using an inplace method.\n",
      "The behavior will change in pandas 3.0. This inplace method will never work because the intermediate object on which we are setting values always behaves as a copy.\n",
      "\n",
      "For example, when doing 'df[col].method(value, inplace=True)', try using 'df.method({col: value}, inplace=True)' or df[col] = df[col].method(value) instead, to perform the operation inplace on the original object.\n",
      "\n",
      "\n",
      "  dataCustomer_central['Income'].fillna(dataCustomer_central['Income'].median(), inplace=True)\n"
     ]
    },
    {
     "data": {
      "text/plain": [
       "np.int64(0)"
      ]
     },
     "execution_count": 13,
     "metadata": {},
     "output_type": "execute_result"
    }
   ],
   "source": [
    "dataCustomer_central.loc[dataCustomer_central['Education'] == 'College', 'Income'] = dataCustomer_central.loc[dataCustomer_central['Education'] == 'College', 'Income'].replace(0, np.nan)\n",
    "dataCustomer_central['Income'].fillna(dataCustomer_central['Income'].median(), inplace=True)\n"
   ]
  },
  {
   "cell_type": "code",
   "execution_count": 14,
   "id": "0ae62639",
   "metadata": {},
   "outputs": [
    {
     "data": {
      "text/plain": [
       "Loyalty#\n",
       "678205    3\n",
       "622975    2\n",
       "746226    2\n",
       "156031    2\n",
       "849813    2\n",
       "         ..\n",
       "612905    1\n",
       "679908    1\n",
       "704150    1\n",
       "869743    1\n",
       "608758    1\n",
       "Name: count, Length: 16757, dtype: int64"
      ]
     },
     "execution_count": 14,
     "metadata": {},
     "output_type": "execute_result"
    }
   ],
   "source": [
    "dataCustomer_central['Loyalty#'].value_counts()"
   ]
  },
  {
   "cell_type": "code",
   "execution_count": 16,
   "id": "cbc25b6e",
   "metadata": {},
   "outputs": [
    {
     "name": "stdout",
     "output_type": "stream",
     "text": [
      "Remaining rows: 16594\n"
     ]
    }
   ],
   "source": [
    "dataCustomer_central = dataCustomer_central[~dataCustomer_central['Loyalty#'].duplicated(keep=False)]\n",
    "dataCustomer_central['Loyalty#'].duplicated().sum()\n",
    "print(\"Remaining rows:\", len(dataCustomer_central))"
   ]
  },
  {
   "cell_type": "code",
   "execution_count": 19,
   "id": "bf566705",
   "metadata": {},
   "outputs": [
    {
     "name": "stdout",
     "output_type": "stream",
     "text": [
      "Number of Customer Lifetime Value outliers: 1467\n"
     ]
    }
   ],
   "source": [
    "Q1 = dataCustomer_central['Customer Lifetime Value'].quantile(0.25)\n",
    "Q3 = dataCustomer_central['Customer Lifetime Value'].quantile(0.75)\n",
    "IQR = Q3 - Q1\n",
    "\n",
    "lower_bound = Q1 - 1.5 * IQR\n",
    "upper_bound = Q3 + 1.5 * IQR\n",
    "\n",
    "outliers = dataCustomer_central[(dataCustomer_central['Customer Lifetime Value'] < lower_bound) | (dataCustomer_central['Customer Lifetime Value'] > upper_bound)]\n",
    "print(f\"Number of Customer Lifetime Value outliers: {len(outliers)}\")"
   ]
  },
  {
   "cell_type": "code",
   "execution_count": 23,
   "id": "8121fbb7",
   "metadata": {},
   "outputs": [
    {
     "data": {
      "image/png": "[encoded data removed]",
      "text/plain": [
       "<Figure size 600x400 with 1 Axes>"
      ]
     },
     "metadata": {},
     "output_type": "display_data"
    },
    {
     "name": "stdout",
     "output_type": "stream",
     "text": [
      "Skewness before log: 3.0796614356370555\n",
      "Skewness after log: 0.5753986074651322\n"
     ]
    }
   ],
   "source": [
    "\n",
    "\n",
    "# Create a new column for visualization only\n",
    "dataCustomer_central['log_CLV'] = np.log1p(dataCustomer_central['Customer Lifetime Value'])  # log1p handles zeros safely\n",
    "\n",
    "plt.figure(figsize=(6,4))\n",
    "sns.boxplot(x=dataCustomer_central['log_CLV'])\n",
    "plt.title('Boxplot of Log-Transformed Customer Lifetime Value')\n",
    "plt.xlabel('Log(Customer Lifetime Value)')\n",
    "plt.show()\n",
    "\n",
    "print(\"Skewness before log:\", dataCustomer_central['Customer Lifetime Value'].skew())\n",
    "print(\"Skewness after log:\", dataCustomer_central['log_CLV'].skew())"
   ]
  },
  {
   "cell_type": "code",
   "execution_count": 25,
   "id": "ee7db76c",
   "metadata": {},
   "outputs": [
    {
     "data": {
      "image/png": "[encoded data removed]",
      "text/plain": [
       "<Figure size 600x400 with 1 Axes>"
      ]
     },
     "metadata": {},
     "output_type": "display_data"
    }
   ],
   "source": [
    "dataCustomer_central = dataCustomer_central[(dataCustomer_central['Customer Lifetime Value'] >= lower_bound) &\n",
    "                    (dataCustomer_central['Customer Lifetime Value'] <= upper_bound)]\n",
    "\n",
    "plt.figure(figsize=(6,4))\n",
    "sns.boxplot(x=dataCustomer_central['Customer Lifetime Value'])\n",
    "plt.title('Customer Lifetime Value (After Removing Outliers)')\n",
    "plt.show()"
   ]
  },
  {
   "cell_type": "code",
   "execution_count": 29,
   "id": "89d106fa",
   "metadata": {},
   "outputs": [
    {
     "data": {
      "text/plain": [
       "np.int64(2903)"
      ]
     },
     "execution_count": 29,
     "metadata": {},
     "output_type": "execute_result"
    }
   ],
   "source": [
    "dataFlights_central = dataFlights.copy()\n",
    "\n",
    "dataFlights.duplicated().sum()"
   ]
  }
 ],
 "metadata": {
  "kernelspec": {
   "display_name": "base",
   "language": "python",
   "name": "python3"
  },
  "language_info": {
   "codemirror_mode": {
    "name": "ipython",
    "version": 3
   },
   "file_extension": ".py",
   "mimetype": "text/x-python",
   "name": "python",
   "nbconvert_exporter": "python",
   "pygments_lexer": "ipython3",
   "version": "3.13.5"
  }
 },
 "nbformat": 4,
 "nbformat_minor": 5
}
