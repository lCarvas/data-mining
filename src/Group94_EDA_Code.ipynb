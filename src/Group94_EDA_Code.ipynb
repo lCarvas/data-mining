{
 "cells": [
  {
   "cell_type": "markdown",
   "id": "49f5b8c4",
   "metadata": {},
   "source": [
    "# <font color='HotPink'>**Data Mining Project 2025/2026 - Group 94** <br></font> Amazing International Airlines Inc.\n",
    "\n",
    "\n",
    "**Diogo Henrique Lopes de Carvalho** ***(20221935)***\n",
    "\n",
    "**Maria Luiza Salum Alves Corrêa** ***(20221902)***\n",
    "\n",
    "**Ricardo Miguel Silva Martins Pereira** ***(20250343)***"
   ]
  },
  {
   "cell_type": "markdown",
   "id": "f6d30a18",
   "metadata": {},
   "source": [
    "*** \n",
    "\n",
    "## **Index**\n",
    "\n",
    "***First Delivery***\n",
    "1. [Business Understanding](#1)\n",
    "1. [Imports](#2)\n",
    "1. [Data Understanding](#3)\n",
    "    1. [The Dataset](#3_1)\n",
    "1. [Data Preparation](#4)\n",
    "    1. [Data Cleaning](#4_1)\n",
    "    1. [Variable Classification](#4_2)\n",
    "    1. [Summary Statistics](#4_3)\n",
    "    1. [Data Visualisation](#4_4)\n",
    "    1. [Feature Engineering](#4_5)\n",
    "\n",
    "***Second Delivery***\n",
    "\n",
    "5. [Clustering](#5)\n",
    "5. [Evaluation](#6)\n",
    "5. [Suggestions](#7)"
   ]
  },
  {
   "cell_type": "markdown",
   "id": "a0bf29f9",
   "metadata": {},
   "source": [
    "#\n",
    "***"
   ]
  },
  {
   "cell_type": "markdown",
   "id": "39191679",
   "metadata": {},
   "source": [
    "## 1. <a id=\"1\">Business Understanding</a>"
   ]
  },
  {
   "cell_type": "markdown",
   "id": "f9308b45",
   "metadata": {},
   "source": [
    "Our client, **Amazing International Airlines Inc.**, tasked our consulting team with the analysis of their customer loyalty membership data and corresponding flight activity collected over a three-year period. <br>\n",
    "\n",
    "The goal of our analysis is to create useful insights through a segmentation process that consists of grouping and viewing the available data by different lenses; such as *economic contribution*, *behaviours in purchases and travels*, and *demographic divisions*. <br>\n",
    "\n",
    "After sharing the insights, our team will evaluate the results and give AIAI suggestions on how to adapt their services, rewards and communications to meet the needs of the most relevant groups found."
   ]
  },
  {
   "cell_type": "markdown",
   "id": "c451d459",
   "metadata": {},
   "source": [
    "***"
   ]
  },
  {
   "cell_type": "markdown",
   "id": "bf222b56",
   "metadata": {},
   "source": [
    "## 2. <a id=\"2\">Imports</a>"
   ]
  },
  {
   "cell_type": "code",
   "execution_count": 305,
   "id": "67ec72c9",
   "metadata": {},
   "outputs": [],
   "source": [
    "import pandas as pd\n",
    "import numpy as np\n",
    "import matplotlib.pyplot as plt\n",
    "import seaborn as sns\n",
    "import math\n",
    "from scipy import stats\n",
    "from itertools import product\n",
    "\n",
    "\n",
    "# import itertools"
   ]
  },
  {
   "cell_type": "markdown",
   "id": "bacdb365",
   "metadata": {},
   "source": [
    "***"
   ]
  },
  {
   "cell_type": "markdown",
   "id": "4d755bf7",
   "metadata": {},
   "source": [
    "## 3. <a id=\"3\">Data Understanding</a>"
   ]
  },
  {
   "cell_type": "markdown",
   "id": "c22e1a63",
   "metadata": {},
   "source": [
    "### 1. <a id=\"3_1\">The Dataset</a>"
   ]
  },
  {
   "cell_type": "markdown",
   "id": "c68da9ac",
   "metadata": {},
   "source": [
    "The dataset given to our team consists of three `csv` files:\n",
    "\n",
    "- `DM_AIAI_CustomerDB.csv`\n",
    "\n",
    "*Three (3) years of data related to Customers in the Loyalty Program*\n",
    "- `DM_AIAI_FlightsDB.csv`\n",
    "\n",
    "*Three (3) years of data related to Flights of the Loyalty Program Members*\n",
    "- `DM_AIAI_Metadata.csv`\n",
    "\n",
    "*Description of the Variables in the CustomerDB and FlightDB Files*"
   ]
  },
  {
   "cell_type": "code",
   "execution_count": 306,
   "id": "96385bb5",
   "metadata": {},
   "outputs": [],
   "source": [
    "customerDB = pd.read_csv(r'data\\DM_AIAI_CustomerDB.csv', sep=',')\n",
    "flightDB = pd.read_csv(r'data\\DM_AIAI_FlightsDB.csv', sep=',')\n",
    "metadata = pd.read_csv(r'data\\DM_AIAI_Metadata.csv', sep=';')\n",
    "\n",
    "customerDB_copy = customerDB.copy()\n",
    "flightDB_copy = flightDB.copy()"
   ]
  },
  {
   "cell_type": "code",
   "execution_count": 307,
   "id": "3d3c988f",
   "metadata": {},
   "outputs": [
    {
     "data": {
      "text/html": [
       "<div>\n",
       "<style scoped>\n",
       "    .dataframe tbody tr th:only-of-type {\n",
       "        vertical-align: middle;\n",
       "    }\n",
       "\n",
       "    .dataframe tbody tr th {\n",
       "        vertical-align: top;\n",
       "    }\n",
       "\n",
       "    .dataframe thead th {\n",
       "        text-align: right;\n",
       "    }\n",
       "</style>\n",
       "<table border=\"1\" class=\"dataframe\">\n",
       "  <thead>\n",
       "    <tr style=\"text-align: right;\">\n",
       "      <th></th>\n",
       "      <th>CustomerDB</th>\n",
       "      <th>Unnamed: 1</th>\n",
       "      <th>Unnamed: 2</th>\n",
       "      <th>Unnamed: 3</th>\n",
       "    </tr>\n",
       "  </thead>\n",
       "  <tbody>\n",
       "    <tr>\n",
       "      <th>0</th>\n",
       "      <td>NaN</td>\n",
       "      <td>Variable</td>\n",
       "      <td>Description</td>\n",
       "      <td>NaN</td>\n",
       "    </tr>\n",
       "    <tr>\n",
       "      <th>1</th>\n",
       "      <td>NaN</td>\n",
       "      <td>Loyalty#</td>\n",
       "      <td>Unique customer identifier for loyalty program members</td>\n",
       "      <td>NaN</td>\n",
       "    </tr>\n",
       "    <tr>\n",
       "      <th>2</th>\n",
       "      <td>NaN</td>\n",
       "      <td>First Name</td>\n",
       "      <td>Customer's first name</td>\n",
       "      <td>NaN</td>\n",
       "    </tr>\n",
       "    <tr>\n",
       "      <th>3</th>\n",
       "      <td>NaN</td>\n",
       "      <td>Last Name</td>\n",
       "      <td>Customer's last name</td>\n",
       "      <td>NaN</td>\n",
       "    </tr>\n",
       "    <tr>\n",
       "      <th>4</th>\n",
       "      <td>NaN</td>\n",
       "      <td>Customer Name</td>\n",
       "      <td>Customer's full name (concatenated)</td>\n",
       "      <td>NaN</td>\n",
       "    </tr>\n",
       "    <tr>\n",
       "      <th>5</th>\n",
       "      <td>NaN</td>\n",
       "      <td>Country</td>\n",
       "      <td>Customer's country of residence</td>\n",
       "      <td>NaN</td>\n",
       "    </tr>\n",
       "    <tr>\n",
       "      <th>6</th>\n",
       "      <td>NaN</td>\n",
       "      <td>Province or State</td>\n",
       "      <td>Customer's province or state</td>\n",
       "      <td>NaN</td>\n",
       "    </tr>\n",
       "    <tr>\n",
       "      <th>7</th>\n",
       "      <td>NaN</td>\n",
       "      <td>City</td>\n",
       "      <td>Customer's city of residence</td>\n",
       "      <td>NaN</td>\n",
       "    </tr>\n",
       "    <tr>\n",
       "      <th>8</th>\n",
       "      <td>NaN</td>\n",
       "      <td>Latitude</td>\n",
       "      <td>Geographic latitude coordinate of customer location</td>\n",
       "      <td>NaN</td>\n",
       "    </tr>\n",
       "    <tr>\n",
       "      <th>9</th>\n",
       "      <td>NaN</td>\n",
       "      <td>Longitude</td>\n",
       "      <td>Geographic longitude coordinate of customer location</td>\n",
       "      <td>NaN</td>\n",
       "    </tr>\n",
       "    <tr>\n",
       "      <th>10</th>\n",
       "      <td>NaN</td>\n",
       "      <td>Postal code</td>\n",
       "      <td>Customer's postal/ZIP code</td>\n",
       "      <td>NaN</td>\n",
       "    </tr>\n",
       "    <tr>\n",
       "      <th>11</th>\n",
       "      <td>NaN</td>\n",
       "      <td>Gender</td>\n",
       "      <td>Customer's gender</td>\n",
       "      <td>NaN</td>\n",
       "    </tr>\n",
       "    <tr>\n",
       "      <th>12</th>\n",
       "      <td>NaN</td>\n",
       "      <td>Education</td>\n",
       "      <td>Customer's highest education level (Bachelor, College, etc.)</td>\n",
       "      <td>NaN</td>\n",
       "    </tr>\n",
       "    <tr>\n",
       "      <th>13</th>\n",
       "      <td>NaN</td>\n",
       "      <td>Location Code</td>\n",
       "      <td>Urban/Suburban/Rural classification of customer residence</td>\n",
       "      <td>NaN</td>\n",
       "    </tr>\n",
       "    <tr>\n",
       "      <th>14</th>\n",
       "      <td>NaN</td>\n",
       "      <td>Income</td>\n",
       "      <td>Customer's annual income</td>\n",
       "      <td>NaN</td>\n",
       "    </tr>\n",
       "    <tr>\n",
       "      <th>15</th>\n",
       "      <td>NaN</td>\n",
       "      <td>Marital Status</td>\n",
       "      <td>Customer's marital status (Married, Single, Divorced)</td>\n",
       "      <td>NaN</td>\n",
       "    </tr>\n",
       "    <tr>\n",
       "      <th>16</th>\n",
       "      <td>NaN</td>\n",
       "      <td>LoyaltyStatus</td>\n",
       "      <td>Current tier status in loyalty program (Star &gt; Nova &gt; Aurora)</td>\n",
       "      <td>NaN</td>\n",
       "    </tr>\n",
       "    <tr>\n",
       "      <th>17</th>\n",
       "      <td>NaN</td>\n",
       "      <td>EnrollmentDateOpening</td>\n",
       "      <td>Date when customer joined the loyalty program</td>\n",
       "      <td>NaN</td>\n",
       "    </tr>\n",
       "    <tr>\n",
       "      <th>18</th>\n",
       "      <td>NaN</td>\n",
       "      <td>CancellationDate</td>\n",
       "      <td>Date when customer left the program</td>\n",
       "      <td>NaN</td>\n",
       "    </tr>\n",
       "    <tr>\n",
       "      <th>19</th>\n",
       "      <td>NaN</td>\n",
       "      <td>Customer Lifetime Value</td>\n",
       "      <td>Total calculated monetary value of customer relationship</td>\n",
       "      <td>NaN</td>\n",
       "    </tr>\n",
       "    <tr>\n",
       "      <th>20</th>\n",
       "      <td>NaN</td>\n",
       "      <td>EnrollmentType</td>\n",
       "      <td>Method of joining loyalty program</td>\n",
       "      <td>NaN</td>\n",
       "    </tr>\n",
       "    <tr>\n",
       "      <th>21</th>\n",
       "      <td>NaN</td>\n",
       "      <td>NaN</td>\n",
       "      <td>NaN</td>\n",
       "      <td>NaN</td>\n",
       "    </tr>\n",
       "    <tr>\n",
       "      <th>22</th>\n",
       "      <td>FlightsDB</td>\n",
       "      <td>NaN</td>\n",
       "      <td>NaN</td>\n",
       "      <td>NaN</td>\n",
       "    </tr>\n",
       "    <tr>\n",
       "      <th>23</th>\n",
       "      <td>NaN</td>\n",
       "      <td>Variable</td>\n",
       "      <td>Description</td>\n",
       "      <td>NaN</td>\n",
       "    </tr>\n",
       "    <tr>\n",
       "      <th>24</th>\n",
       "      <td>NaN</td>\n",
       "      <td>Loyalty#</td>\n",
       "      <td>Unique customer identifier linking to CustomerDB</td>\n",
       "      <td>NaN</td>\n",
       "    </tr>\n",
       "    <tr>\n",
       "      <th>25</th>\n",
       "      <td>NaN</td>\n",
       "      <td>Year</td>\n",
       "      <td>Year of flight activity record</td>\n",
       "      <td>NaN</td>\n",
       "    </tr>\n",
       "    <tr>\n",
       "      <th>26</th>\n",
       "      <td>NaN</td>\n",
       "      <td>Month</td>\n",
       "      <td>Month of flight activity record (1-12)</td>\n",
       "      <td>NaN</td>\n",
       "    </tr>\n",
       "    <tr>\n",
       "      <th>27</th>\n",
       "      <td>NaN</td>\n",
       "      <td>YearMonthDate</td>\n",
       "      <td>First day of the month for the activity period</td>\n",
       "      <td>NaN</td>\n",
       "    </tr>\n",
       "    <tr>\n",
       "      <th>28</th>\n",
       "      <td>NaN</td>\n",
       "      <td>NumFlights</td>\n",
       "      <td>Total number of flights taken by customer in the month</td>\n",
       "      <td>NaN</td>\n",
       "    </tr>\n",
       "    <tr>\n",
       "      <th>29</th>\n",
       "      <td>NaN</td>\n",
       "      <td>NumFlightsWithCompanions</td>\n",
       "      <td>Number of flights where customer traveled with companions</td>\n",
       "      <td>NaN</td>\n",
       "    </tr>\n",
       "    <tr>\n",
       "      <th>30</th>\n",
       "      <td>NaN</td>\n",
       "      <td>DistanceKM</td>\n",
       "      <td>Total distance traveled in kilometers for the month</td>\n",
       "      <td>NaN</td>\n",
       "    </tr>\n",
       "    <tr>\n",
       "      <th>31</th>\n",
       "      <td>NaN</td>\n",
       "      <td>PointsAccumulated</td>\n",
       "      <td>Loyalty points earned by customer during the month</td>\n",
       "      <td>NaN</td>\n",
       "    </tr>\n",
       "    <tr>\n",
       "      <th>32</th>\n",
       "      <td>NaN</td>\n",
       "      <td>PointsRedeemed</td>\n",
       "      <td>Loyalty points spent/redeemed by customer during the month</td>\n",
       "      <td>NaN</td>\n",
       "    </tr>\n",
       "    <tr>\n",
       "      <th>33</th>\n",
       "      <td>NaN</td>\n",
       "      <td>DollarCostPointsRedeemed</td>\n",
       "      <td>Dollar value of points redeemed during the month</td>\n",
       "      <td>NaN</td>\n",
       "    </tr>\n",
       "  </tbody>\n",
       "</table>\n",
       "</div>"
      ],
      "text/plain": [
       "   CustomerDB                Unnamed: 1  \\\n",
       "0         NaN                  Variable   \n",
       "1         NaN                  Loyalty#   \n",
       "2         NaN                First Name   \n",
       "3         NaN                 Last Name   \n",
       "4         NaN             Customer Name   \n",
       "5         NaN                   Country   \n",
       "6         NaN         Province or State   \n",
       "7         NaN                      City   \n",
       "8         NaN                  Latitude   \n",
       "9         NaN                 Longitude   \n",
       "10        NaN               Postal code   \n",
       "11        NaN                    Gender   \n",
       "12        NaN                 Education   \n",
       "13        NaN             Location Code   \n",
       "14        NaN                    Income   \n",
       "15        NaN            Marital Status   \n",
       "16        NaN             LoyaltyStatus   \n",
       "17        NaN     EnrollmentDateOpening   \n",
       "18        NaN          CancellationDate   \n",
       "19        NaN   Customer Lifetime Value   \n",
       "20        NaN            EnrollmentType   \n",
       "21        NaN                       NaN   \n",
       "22  FlightsDB                       NaN   \n",
       "23        NaN                  Variable   \n",
       "24        NaN                  Loyalty#   \n",
       "25        NaN                      Year   \n",
       "26        NaN                     Month   \n",
       "27        NaN             YearMonthDate   \n",
       "28        NaN                NumFlights   \n",
       "29        NaN  NumFlightsWithCompanions   \n",
       "30        NaN                DistanceKM   \n",
       "31        NaN         PointsAccumulated   \n",
       "32        NaN            PointsRedeemed   \n",
       "33        NaN  DollarCostPointsRedeemed   \n",
       "\n",
       "                                                       Unnamed: 2  Unnamed: 3  \n",
       "0                                                     Description         NaN  \n",
       "1          Unique customer identifier for loyalty program members         NaN  \n",
       "2                                           Customer's first name         NaN  \n",
       "3                                            Customer's last name         NaN  \n",
       "4                             Customer's full name (concatenated)         NaN  \n",
       "5                                 Customer's country of residence         NaN  \n",
       "6                                    Customer's province or state         NaN  \n",
       "7                                    Customer's city of residence         NaN  \n",
       "8             Geographic latitude coordinate of customer location         NaN  \n",
       "9            Geographic longitude coordinate of customer location         NaN  \n",
       "10                                     Customer's postal/ZIP code         NaN  \n",
       "11                                              Customer's gender         NaN  \n",
       "12   Customer's highest education level (Bachelor, College, etc.)         NaN  \n",
       "13      Urban/Suburban/Rural classification of customer residence         NaN  \n",
       "14                                       Customer's annual income         NaN  \n",
       "15          Customer's marital status (Married, Single, Divorced)         NaN  \n",
       "16  Current tier status in loyalty program (Star > Nova > Aurora)         NaN  \n",
       "17                  Date when customer joined the loyalty program         NaN  \n",
       "18                            Date when customer left the program         NaN  \n",
       "19       Total calculated monetary value of customer relationship         NaN  \n",
       "20                              Method of joining loyalty program         NaN  \n",
       "21                                                            NaN         NaN  \n",
       "22                                                            NaN         NaN  \n",
       "23                                                    Description         NaN  \n",
       "24               Unique customer identifier linking to CustomerDB         NaN  \n",
       "25                                 Year of flight activity record         NaN  \n",
       "26                         Month of flight activity record (1-12)         NaN  \n",
       "27                 First day of the month for the activity period         NaN  \n",
       "28         Total number of flights taken by customer in the month         NaN  \n",
       "29      Number of flights where customer traveled with companions         NaN  \n",
       "30            Total distance traveled in kilometers for the month         NaN  \n",
       "31             Loyalty points earned by customer during the month         NaN  \n",
       "32     Loyalty points spent/redeemed by customer during the month         NaN  \n",
       "33               Dollar value of points redeemed during the month         NaN  "
      ]
     },
     "execution_count": 307,
     "metadata": {},
     "output_type": "execute_result"
    }
   ],
   "source": [
    "pd.set_option('display.max_colwidth', None)  # To see full descriptions\n",
    "metadata"
   ]
  },
  {
   "cell_type": "markdown",
   "id": "78806286",
   "metadata": {},
   "source": [
    "#### Initial Conclusions\n",
    "*What conclusions can we make from the metadata?*"
   ]
  },
  {
   "cell_type": "markdown",
   "id": "acab1ebe",
   "metadata": {},
   "source": [
    "##### Customer DB"
   ]
  },
  {
   "cell_type": "markdown",
   "id": "bc649c23",
   "metadata": {},
   "source": [
    "**Useful:**\n",
    "- `Loyalty#`: Will be used. Connects Customer's and Flights' information.\n",
    "\n",
    "**Will be Dropped:**\n",
    "- `First Name`, `Last Name`, `Customer Name`: First two are redundant since we have the full name, but this information is irrelevant for clustering anyways. We'll drop everything after data cleaning. *(Keeping `Customer Name` for now to check something with the IDs)*\n",
    "- `Latitude`, `Longitude`, `Postal Code`: No need for specific customer location. *(Spoilers: We checked, some coordinates lead to nowhere and just make no sense overall)*\n",
    "\n",
    "**No Conclusions:** <br>\n",
    "*May be relevant. No conclusions about data quality from metadata.*\n",
    "- `Country`\n",
    "- `Province or State`\n",
    "- `City`\n",
    "- `Postal Code`\n",
    "- `Gender`\n",
    "- `Education`\n",
    "- `Location Code`\n",
    "- `Income`\n",
    "- `Marital Status`\n",
    "- `Loyalty Status`\n",
    "- `EnrollmentDataOpening`\n",
    "- `CancellationDate`\n",
    "- `Customer Lifetime Value`\n",
    "- `EnrollmentType`"
   ]
  },
  {
   "cell_type": "code",
   "execution_count": 308,
   "id": "f0dd66cf",
   "metadata": {},
   "outputs": [
    {
     "name": "stdout",
     "output_type": "stream",
     "text": [
      "<class 'pandas.core.frame.DataFrame'>\n",
      "RangeIndex: 16921 entries, 0 to 16920\n",
      "Data columns (total 16 columns):\n",
      " #   Column                   Non-Null Count  Dtype  \n",
      "---  ------                   --------------  -----  \n",
      " 0   Unnamed: 0               16921 non-null  int64  \n",
      " 1   Loyalty#                 16921 non-null  int64  \n",
      " 2   Customer Name            16921 non-null  object \n",
      " 3   Country                  16921 non-null  object \n",
      " 4   Province or State        16921 non-null  object \n",
      " 5   City                     16921 non-null  object \n",
      " 6   Gender                   16921 non-null  object \n",
      " 7   Education                16921 non-null  object \n",
      " 8   Location Code            16921 non-null  object \n",
      " 9   Income                   16901 non-null  float64\n",
      " 10  Marital Status           16921 non-null  object \n",
      " 11  LoyaltyStatus            16921 non-null  object \n",
      " 12  EnrollmentDateOpening    16921 non-null  object \n",
      " 13  CancellationDate         2310 non-null   object \n",
      " 14  Customer Lifetime Value  16901 non-null  float64\n",
      " 15  EnrollmentType           16921 non-null  object \n",
      "dtypes: float64(2), int64(2), object(12)\n",
      "memory usage: 2.1+ MB\n"
     ]
    }
   ],
   "source": [
    "customerDB_copy.drop(columns=['First Name', 'Last Name', 'Latitude', 'Longitude', 'Postal code'], inplace=True)\n",
    "customerDB_copy.info()"
   ]
  },
  {
   "cell_type": "markdown",
   "id": "4d3e6ec4",
   "metadata": {},
   "source": [
    "From the non-null count, we can see that there are only three variables with missing values: `Income`, `CancellationDate` and `Customer Lifetime Value`. Having null values in `CancellationDate` clearly makes sense as we don't expect all customers in the dataset to have cancelled their membership. For `Income` and `Customer Lifetime Value`, we'll try to understand the reason later."
   ]
  },
  {
   "cell_type": "code",
   "execution_count": 309,
   "id": "9518117f",
   "metadata": {},
   "outputs": [],
   "source": [
    "# There's a random column with no name, let's drop it\n",
    "customerDB_copy.drop(columns=['Unnamed: 0'], inplace=True)"
   ]
  },
  {
   "cell_type": "markdown",
   "id": "eaed8658",
   "metadata": {},
   "source": [
    "##### Flights DB"
   ]
  },
  {
   "cell_type": "markdown",
   "id": "f62ddbd2",
   "metadata": {},
   "source": [
    "**Useful:**\n",
    "- `Loyalty#`: Will be used. Connects Customer's and Flights' information.\n",
    "\n",
    "**Will be Dropped:**\n",
    "- `YearMonthDate`: Contains the same info as `Month` and `Year` with a constant date.\n",
    "- `DollarCostPointsRedeemed`: Redundant. `PointsRedeemed` gives the same information.\n",
    "\n",
    "**No Conclusions:** <br>\n",
    "*May be relevant. No conclusions about data quality from metadata.*\n",
    "- `Year`\n",
    "- `Month`\n",
    "- `NumFlights`\n",
    "- `NumFlightsWithCompanions`*\n",
    "- `DistanceKM`\n",
    "- `PointsAccumulated`\n",
    "- `PointsRedeemed`\n",
    "\n",
    "**We will assume `NumFlightsWithCompanions` is also a \"count by month\" even though it's not mentioned in the metadata.*"
   ]
  },
  {
   "cell_type": "code",
   "execution_count": 310,
   "id": "5f593770",
   "metadata": {},
   "outputs": [
    {
     "name": "stdout",
     "output_type": "stream",
     "text": [
      "<class 'pandas.core.frame.DataFrame'>\n",
      "RangeIndex: 608436 entries, 0 to 608435\n",
      "Data columns (total 8 columns):\n",
      " #   Column                    Non-Null Count   Dtype  \n",
      "---  ------                    --------------   -----  \n",
      " 0   Loyalty#                  608436 non-null  int64  \n",
      " 1   Year                      608436 non-null  int64  \n",
      " 2   Month                     608436 non-null  int64  \n",
      " 3   NumFlights                608436 non-null  float64\n",
      " 4   NumFlightsWithCompanions  608436 non-null  float64\n",
      " 5   DistanceKM                608436 non-null  float64\n",
      " 6   PointsAccumulated         608436 non-null  float64\n",
      " 7   PointsRedeemed            608436 non-null  float64\n",
      "dtypes: float64(5), int64(3)\n",
      "memory usage: 37.1 MB\n"
     ]
    }
   ],
   "source": [
    "flightDB_copy.drop(columns=['YearMonthDate', 'DollarCostPointsRedeemed'], inplace=True)\n",
    "flightDB_copy.info()"
   ]
  },
  {
   "cell_type": "markdown",
   "id": "f1d550ab",
   "metadata": {},
   "source": [
    "There are no null values in any variable. We'll take a closer look into the dataset when preparing the data. There might be missing values that are non-null since they could look like \"-\", \"Null\", \"Missing\", etc."
   ]
  },
  {
   "cell_type": "markdown",
   "id": "9ff663c5",
   "metadata": {},
   "source": [
    "***"
   ]
  },
  {
   "cell_type": "markdown",
   "id": "d8342c42",
   "metadata": {},
   "source": [
    "## 4. <a id=\"4\">Data Preparation</a>"
   ]
  },
  {
   "cell_type": "markdown",
   "id": "436a05ca",
   "metadata": {},
   "source": [
    "There's a possibility of having some rows that the only plausible option is to remove from the dataset due to uncorrectable errors. For this reason, we are going to define variables to keep track of how many rows we are dropping.\n",
    "\n",
    "We are going to assume that an acceptable threshold is 5% of the dataset."
   ]
  },
  {
   "cell_type": "code",
   "execution_count": 311,
   "id": "4bdfa2fc",
   "metadata": {},
   "outputs": [
    {
     "name": "stdout",
     "output_type": "stream",
     "text": [
      "Available rows to drop in customerDB: 846.0500000000001 (5%)\n",
      "Available rows to drop in flightDB: 30421.800000000003 (5%)\n"
     ]
    }
   ],
   "source": [
    "customer_dropped_rows = 0\n",
    "customer_original_rows = customerDB.shape[0]\n",
    "customer_dropped_percentage = 0\n",
    "customer_available_to_drop = (customer_original_rows * 0.05) - customer_dropped_rows\n",
    "print(f\"Available rows to drop in customerDB: {customer_available_to_drop} ({(customer_available_to_drop/customer_original_rows)*100:.0f}%)\")\n",
    "\n",
    "flight_dropped_rows = 0\n",
    "flight_original_rows = flightDB.shape[0]\n",
    "flight_dropped_percentage = 0\n",
    "flight_available_to_drop = (flight_original_rows * 0.05) - flight_dropped_rows\n",
    "print(f\"Available rows to drop in flightDB: {flight_available_to_drop} ({(flight_available_to_drop/flight_original_rows)*100:.0f}%)\")"
   ]
  },
  {
   "cell_type": "code",
   "execution_count": 312,
   "id": "93ee83f9",
   "metadata": {},
   "outputs": [
    {
     "data": {
      "text/html": [
       "<div>\n",
       "<style scoped>\n",
       "    .dataframe tbody tr th:only-of-type {\n",
       "        vertical-align: middle;\n",
       "    }\n",
       "\n",
       "    .dataframe tbody tr th {\n",
       "        vertical-align: top;\n",
       "    }\n",
       "\n",
       "    .dataframe thead th {\n",
       "        text-align: right;\n",
       "    }\n",
       "</style>\n",
       "<table border=\"1\" class=\"dataframe\">\n",
       "  <thead>\n",
       "    <tr style=\"text-align: right;\">\n",
       "      <th></th>\n",
       "      <th>Loyalty#</th>\n",
       "      <th>Customer Name</th>\n",
       "      <th>Country</th>\n",
       "      <th>Province or State</th>\n",
       "      <th>City</th>\n",
       "      <th>Gender</th>\n",
       "      <th>Education</th>\n",
       "      <th>Location Code</th>\n",
       "      <th>Income</th>\n",
       "      <th>Marital Status</th>\n",
       "      <th>LoyaltyStatus</th>\n",
       "      <th>EnrollmentDateOpening</th>\n",
       "      <th>CancellationDate</th>\n",
       "      <th>Customer Lifetime Value</th>\n",
       "      <th>EnrollmentType</th>\n",
       "    </tr>\n",
       "  </thead>\n",
       "  <tbody>\n",
       "    <tr>\n",
       "      <th>0</th>\n",
       "      <td>480934</td>\n",
       "      <td>Cecilia Householder</td>\n",
       "      <td>Canada</td>\n",
       "      <td>Ontario</td>\n",
       "      <td>Toronto</td>\n",
       "      <td>female</td>\n",
       "      <td>Bachelor</td>\n",
       "      <td>Urban</td>\n",
       "      <td>70146.0</td>\n",
       "      <td>Married</td>\n",
       "      <td>Star</td>\n",
       "      <td>2/15/2019</td>\n",
       "      <td>NaN</td>\n",
       "      <td>3839.14</td>\n",
       "      <td>Standard</td>\n",
       "    </tr>\n",
       "    <tr>\n",
       "      <th>1</th>\n",
       "      <td>549612</td>\n",
       "      <td>Dayle Menez</td>\n",
       "      <td>Canada</td>\n",
       "      <td>Alberta</td>\n",
       "      <td>Edmonton</td>\n",
       "      <td>male</td>\n",
       "      <td>College</td>\n",
       "      <td>Rural</td>\n",
       "      <td>0.0</td>\n",
       "      <td>Divorced</td>\n",
       "      <td>Star</td>\n",
       "      <td>3/9/2019</td>\n",
       "      <td>NaN</td>\n",
       "      <td>3839.61</td>\n",
       "      <td>Standard</td>\n",
       "    </tr>\n",
       "    <tr>\n",
       "      <th>2</th>\n",
       "      <td>429460</td>\n",
       "      <td>Necole Hannon</td>\n",
       "      <td>Canada</td>\n",
       "      <td>British Columbia</td>\n",
       "      <td>Vancouver</td>\n",
       "      <td>male</td>\n",
       "      <td>College</td>\n",
       "      <td>Urban</td>\n",
       "      <td>0.0</td>\n",
       "      <td>Single</td>\n",
       "      <td>Star</td>\n",
       "      <td>7/14/2017</td>\n",
       "      <td>1/8/2021</td>\n",
       "      <td>3839.75</td>\n",
       "      <td>Standard</td>\n",
       "    </tr>\n",
       "    <tr>\n",
       "      <th>3</th>\n",
       "      <td>608370</td>\n",
       "      <td>Queen Hagee</td>\n",
       "      <td>Canada</td>\n",
       "      <td>Ontario</td>\n",
       "      <td>Toronto</td>\n",
       "      <td>male</td>\n",
       "      <td>College</td>\n",
       "      <td>Suburban</td>\n",
       "      <td>0.0</td>\n",
       "      <td>Single</td>\n",
       "      <td>Star</td>\n",
       "      <td>2/17/2016</td>\n",
       "      <td>NaN</td>\n",
       "      <td>3839.75</td>\n",
       "      <td>Standard</td>\n",
       "    </tr>\n",
       "    <tr>\n",
       "      <th>4</th>\n",
       "      <td>530508</td>\n",
       "      <td>Claire Latting</td>\n",
       "      <td>Canada</td>\n",
       "      <td>Quebec</td>\n",
       "      <td>Hull</td>\n",
       "      <td>male</td>\n",
       "      <td>Bachelor</td>\n",
       "      <td>Suburban</td>\n",
       "      <td>97832.0</td>\n",
       "      <td>Married</td>\n",
       "      <td>Star</td>\n",
       "      <td>10/25/2017</td>\n",
       "      <td>NaN</td>\n",
       "      <td>3842.79</td>\n",
       "      <td>2021 Promotion</td>\n",
       "    </tr>\n",
       "  </tbody>\n",
       "</table>\n",
       "</div>"
      ],
      "text/plain": [
       "   Loyalty#        Customer Name Country Province or State       City  Gender  \\\n",
       "0    480934  Cecilia Householder  Canada           Ontario    Toronto  female   \n",
       "1    549612          Dayle Menez  Canada           Alberta   Edmonton    male   \n",
       "2    429460        Necole Hannon  Canada  British Columbia  Vancouver    male   \n",
       "3    608370          Queen Hagee  Canada           Ontario    Toronto    male   \n",
       "4    530508       Claire Latting  Canada            Quebec       Hull    male   \n",
       "\n",
       "  Education Location Code   Income Marital Status LoyaltyStatus  \\\n",
       "0  Bachelor         Urban  70146.0        Married          Star   \n",
       "1   College         Rural      0.0       Divorced          Star   \n",
       "2   College         Urban      0.0         Single          Star   \n",
       "3   College      Suburban      0.0         Single          Star   \n",
       "4  Bachelor      Suburban  97832.0        Married          Star   \n",
       "\n",
       "  EnrollmentDateOpening CancellationDate  Customer Lifetime Value  \\\n",
       "0             2/15/2019              NaN                  3839.14   \n",
       "1              3/9/2019              NaN                  3839.61   \n",
       "2             7/14/2017         1/8/2021                  3839.75   \n",
       "3             2/17/2016              NaN                  3839.75   \n",
       "4            10/25/2017              NaN                  3842.79   \n",
       "\n",
       "   EnrollmentType  \n",
       "0        Standard  \n",
       "1        Standard  \n",
       "2        Standard  \n",
       "3        Standard  \n",
       "4  2021 Promotion  "
      ]
     },
     "execution_count": 312,
     "metadata": {},
     "output_type": "execute_result"
    }
   ],
   "source": [
    "customerDB_copy.head()"
   ]
  },
  {
   "cell_type": "code",
   "execution_count": 313,
   "id": "3df9d0af",
   "metadata": {},
   "outputs": [
    {
     "name": "stdout",
     "output_type": "stream",
     "text": [
      "Loyalty#: 16757 unique values\n",
      "\n",
      "Customer Name: 16921 unique values\n",
      "\n",
      "Country: 1 unique values\n",
      "\n",
      "Country\n",
      "Canada    16921\n",
      "Name: count, dtype: int64\n",
      "\n",
      "Province or State: 11 unique values\n",
      "\n",
      "Province or State\n",
      "Ontario                 5468\n",
      "British Columbia        4416\n",
      "Quebec                  3311\n",
      "Alberta                 1008\n",
      "Manitoba                 676\n",
      "New Brunswick            652\n",
      "Nova Scotia              541\n",
      "Saskatchewan             412\n",
      "Newfoundland             258\n",
      "Yukon                    112\n",
      "Prince Edward Island      67\n",
      "Name: count, dtype: int64\n",
      "\n",
      "City: 29 unique values\n",
      "\n",
      "Gender: 2 unique values\n",
      "\n",
      "Gender\n",
      "female    8497\n",
      "male      8424\n",
      "Name: count, dtype: int64\n",
      "\n",
      "Education: 5 unique values\n",
      "\n",
      "Education\n",
      "Bachelor                10586\n",
      "College                  4283\n",
      "High School or Below      792\n",
      "Doctor                    742\n",
      "Master                    518\n",
      "Name: count, dtype: int64\n",
      "\n",
      "Location Code: 3 unique values\n",
      "\n",
      "Location Code\n",
      "Suburban    5716\n",
      "Rural       5668\n",
      "Urban       5537\n",
      "Name: count, dtype: int64\n",
      "\n",
      "Income: 5694 unique values\n",
      "\n",
      "Marital Status: 3 unique values\n",
      "\n",
      "Marital Status\n",
      "Married     9842\n",
      "Single      4539\n",
      "Divorced    2540\n",
      "Name: count, dtype: int64\n",
      "\n",
      "LoyaltyStatus: 3 unique values\n",
      "\n",
      "LoyaltyStatus\n",
      "Star      7761\n",
      "Nova      5722\n",
      "Aurora    3438\n",
      "Name: count, dtype: int64\n",
      "\n",
      "EnrollmentDateOpening: 2449 unique values\n",
      "\n",
      "CancellationDate: 1260 unique values\n",
      "\n",
      "Customer Lifetime Value: 7996 unique values\n",
      "\n",
      "EnrollmentType: 2 unique values\n",
      "\n",
      "EnrollmentType\n",
      "Standard          15773\n",
      "2021 Promotion     1148\n",
      "Name: count, dtype: int64\n",
      "\n"
     ]
    }
   ],
   "source": [
    "# Seeing the different values in each variable and if they're less than 15, printing them bellow\n",
    "for variable in customerDB_copy.columns:\n",
    "    print(f\"{variable}: {customerDB_copy[variable].nunique()} unique values\\n\")\n",
    "    if customerDB_copy[variable].nunique() < 15:\n",
    "        print(f\"{customerDB_copy[variable].value_counts()}\\n\")"
   ]
  },
  {
   "cell_type": "code",
   "execution_count": 314,
   "id": "4fe02475",
   "metadata": {},
   "outputs": [
    {
     "data": {
      "text/html": [
       "<div>\n",
       "<style scoped>\n",
       "    .dataframe tbody tr th:only-of-type {\n",
       "        vertical-align: middle;\n",
       "    }\n",
       "\n",
       "    .dataframe tbody tr th {\n",
       "        vertical-align: top;\n",
       "    }\n",
       "\n",
       "    .dataframe thead th {\n",
       "        text-align: right;\n",
       "    }\n",
       "</style>\n",
       "<table border=\"1\" class=\"dataframe\">\n",
       "  <thead>\n",
       "    <tr style=\"text-align: right;\">\n",
       "      <th></th>\n",
       "      <th>Loyalty#</th>\n",
       "      <th>Year</th>\n",
       "      <th>Month</th>\n",
       "      <th>NumFlights</th>\n",
       "      <th>NumFlightsWithCompanions</th>\n",
       "      <th>DistanceKM</th>\n",
       "      <th>PointsAccumulated</th>\n",
       "      <th>PointsRedeemed</th>\n",
       "    </tr>\n",
       "  </thead>\n",
       "  <tbody>\n",
       "    <tr>\n",
       "      <th>0</th>\n",
       "      <td>413052</td>\n",
       "      <td>2021</td>\n",
       "      <td>12</td>\n",
       "      <td>2.0</td>\n",
       "      <td>2.0</td>\n",
       "      <td>9384.0</td>\n",
       "      <td>938.0</td>\n",
       "      <td>0.0</td>\n",
       "    </tr>\n",
       "    <tr>\n",
       "      <th>1</th>\n",
       "      <td>464105</td>\n",
       "      <td>2021</td>\n",
       "      <td>12</td>\n",
       "      <td>0.0</td>\n",
       "      <td>0.0</td>\n",
       "      <td>0.0</td>\n",
       "      <td>0.0</td>\n",
       "      <td>0.0</td>\n",
       "    </tr>\n",
       "    <tr>\n",
       "      <th>2</th>\n",
       "      <td>681785</td>\n",
       "      <td>2021</td>\n",
       "      <td>12</td>\n",
       "      <td>10.0</td>\n",
       "      <td>3.0</td>\n",
       "      <td>14745.0</td>\n",
       "      <td>1474.0</td>\n",
       "      <td>0.0</td>\n",
       "    </tr>\n",
       "    <tr>\n",
       "      <th>3</th>\n",
       "      <td>185013</td>\n",
       "      <td>2021</td>\n",
       "      <td>12</td>\n",
       "      <td>16.0</td>\n",
       "      <td>4.0</td>\n",
       "      <td>26311.0</td>\n",
       "      <td>2631.0</td>\n",
       "      <td>3213.0</td>\n",
       "    </tr>\n",
       "    <tr>\n",
       "      <th>4</th>\n",
       "      <td>216596</td>\n",
       "      <td>2021</td>\n",
       "      <td>12</td>\n",
       "      <td>9.0</td>\n",
       "      <td>0.0</td>\n",
       "      <td>19275.0</td>\n",
       "      <td>1927.0</td>\n",
       "      <td>0.0</td>\n",
       "    </tr>\n",
       "  </tbody>\n",
       "</table>\n",
       "</div>"
      ],
      "text/plain": [
       "   Loyalty#  Year  Month  NumFlights  NumFlightsWithCompanions  DistanceKM  \\\n",
       "0    413052  2021     12         2.0                       2.0      9384.0   \n",
       "1    464105  2021     12         0.0                       0.0         0.0   \n",
       "2    681785  2021     12        10.0                       3.0     14745.0   \n",
       "3    185013  2021     12        16.0                       4.0     26311.0   \n",
       "4    216596  2021     12         9.0                       0.0     19275.0   \n",
       "\n",
       "   PointsAccumulated  PointsRedeemed  \n",
       "0              938.0             0.0  \n",
       "1                0.0             0.0  \n",
       "2             1474.0             0.0  \n",
       "3             2631.0          3213.0  \n",
       "4             1927.0             0.0  "
      ]
     },
     "execution_count": 314,
     "metadata": {},
     "output_type": "execute_result"
    }
   ],
   "source": [
    "flightDB_copy.head()"
   ]
  },
  {
   "cell_type": "code",
   "execution_count": 315,
   "id": "64c8a3bf",
   "metadata": {},
   "outputs": [
    {
     "name": "stdout",
     "output_type": "stream",
     "text": [
      "Loyalty#: 16737 unique values\n",
      "\n",
      "Year: 3 unique values\n",
      "\n",
      "Year\n",
      "2021    202812\n",
      "2020    202812\n",
      "2019    202812\n",
      "Name: count, dtype: int64\n",
      "\n",
      "Month: 12 unique values\n",
      "\n",
      "Month\n",
      "12    50703\n",
      "6     50703\n",
      "5     50703\n",
      "4     50703\n",
      "3     50703\n",
      "2     50703\n",
      "1     50703\n",
      "11    50703\n",
      "10    50703\n",
      "9     50703\n",
      "8     50703\n",
      "7     50703\n",
      "Name: count, dtype: int64\n",
      "\n",
      "NumFlights: 41 unique values\n",
      "\n",
      "NumFlightsWithCompanions: 22 unique values\n",
      "\n",
      "DistanceKM: 66762 unique values\n",
      "\n",
      "PointsAccumulated: 37064 unique values\n",
      "\n",
      "PointsRedeemed: 8146 unique values\n",
      "\n"
     ]
    }
   ],
   "source": [
    "# Seeing the different values in each variable and if they're less than 15, printing them bellow\n",
    "for variable in flightDB_copy.columns:\n",
    "    print(f\"{variable}: {flightDB_copy[variable].nunique()} unique values\\n\")\n",
    "    if flightDB_copy[variable].nunique() < 15:\n",
    "        print(f\"{flightDB_copy[variable].value_counts()}\\n\")"
   ]
  },
  {
   "cell_type": "markdown",
   "id": "d1bae7bb",
   "metadata": {},
   "source": [
    "### 1. <a id=\"4_1\">Data Cleaning</a>"
   ]
  },
  {
   "cell_type": "markdown",
   "id": "d9b2df38",
   "metadata": {},
   "source": [
    "##### Loyalty# *(+ Customer Name)*"
   ]
  },
  {
   "cell_type": "code",
   "execution_count": 316,
   "id": "bc062c36",
   "metadata": {},
   "outputs": [
    {
     "name": "stdout",
     "output_type": "stream",
     "text": [
      "164\n",
      "0\n"
     ]
    }
   ],
   "source": [
    "# Confirming how many rows have repeated Loyalty#\n",
    "print(customerDB_copy['Loyalty#'].duplicated().sum())\n",
    "# Confirming if the whole row is duplicated\n",
    "print(customerDB_copy.duplicated().sum())"
   ]
  },
  {
   "cell_type": "markdown",
   "id": "9cfa306f",
   "metadata": {},
   "source": [
    "We kept `Customer Name` before so we could check if they're the same for repeated Loyalty IDs, but this is not the case as the unique values count is 16921. This means that we cannot use the name to fix the issue with duplicated IDs (they're not the same person).\n",
    "\n",
    "We could assign new random values to the repeated IDs, but the FlightsDB dataset is connected to each customer through this variable, so it makes no sense to change it in the CustomerDB since this would mean that they have no associated flights.\n",
    "\n",
    "We'll now drop `Customer Name` and remove the rows with repeated Loyalty ID."
   ]
  },
  {
   "cell_type": "code",
   "execution_count": 317,
   "id": "64be3aa8",
   "metadata": {},
   "outputs": [],
   "source": [
    "# Dropping Customer Name\n",
    "customerDB_copy.drop(columns=['Customer Name'], inplace=True)"
   ]
  },
  {
   "cell_type": "code",
   "execution_count": 318,
   "id": "998ee12a",
   "metadata": {},
   "outputs": [
    {
     "name": "stdout",
     "output_type": "stream",
     "text": [
      "Total dropped rows: 164, which is 0.97% of the original dataset. We can still drop 682.0500000000001 rows.\n"
     ]
    }
   ],
   "source": [
    "# Keeping only one of the duplicated rows and adding the number of dropped rows to the counter\n",
    "for loyalty_id in customerDB_copy['Loyalty#'][customerDB_copy['Loyalty#'].duplicated()]: # for each duplicated Loyalty#\n",
    "    duplicated_rows = customerDB_copy[customerDB_copy['Loyalty#'] == loyalty_id] # getting the duplicated rows\n",
    "    customerDB_copy.drop(duplicated_rows.index[1:], inplace=True) # dropping from the second to the last (just in case there are more than 2)\n",
    "    customer_dropped_rows += len(duplicated_rows) - 1 # adding the number of dropped rows to the counter\n",
    "    \n",
    "customer_dropped_percentage = customer_dropped_rows / customer_original_rows * 100\n",
    "customer_available_to_drop -= customer_dropped_rows\n",
    "print(f\"Total dropped rows: {customer_dropped_rows}, which is {customer_dropped_percentage:.2f}% of the original dataset. We can still drop {customer_available_to_drop} rows.\")"
   ]
  },
  {
   "cell_type": "markdown",
   "id": "24e32401",
   "metadata": {},
   "source": [
    "##### Country"
   ]
  },
  {
   "cell_type": "markdown",
   "id": "21bffce4",
   "metadata": {},
   "source": [
    "`Country` is a constant feature (Canada). We'll drop this column."
   ]
  },
  {
   "cell_type": "code",
   "execution_count": 319,
   "id": "075fc7ad",
   "metadata": {},
   "outputs": [],
   "source": [
    "# Dropping Country \n",
    "customerDB_copy.drop(columns=['Country'], inplace=True)"
   ]
  },
  {
   "cell_type": "markdown",
   "id": "747a3c19",
   "metadata": {},
   "source": [
    "#### City"
   ]
  },
  {
   "cell_type": "markdown",
   "id": "51974ff8",
   "metadata": {},
   "source": [
    "Checking if all cities in the list are Canadian cities."
   ]
  },
  {
   "cell_type": "code",
   "execution_count": 320,
   "id": "8f28ba0b",
   "metadata": {},
   "outputs": [
    {
     "data": {
      "text/plain": [
       "array(['Toronto', 'Edmonton', 'Vancouver', 'Hull', 'Whitehorse',\n",
       "       'Trenton', 'Montreal', 'Dawson Creek', 'Quebec City', 'Moncton',\n",
       "       'Fredericton', 'Ottawa', 'Tremblant', 'Calgary', 'Whistler',\n",
       "       'Thunder Bay', 'Peace River', 'Winnipeg', 'Sudbury',\n",
       "       'West Vancouver', 'Halifax', 'London', 'Victoria', 'Regina',\n",
       "       'Kelowna', \"St. John's\", 'Kingston', 'Banff', 'Charlottetown'],\n",
       "      dtype=object)"
      ]
     },
     "execution_count": 320,
     "metadata": {},
     "output_type": "execute_result"
    }
   ],
   "source": [
    "customerDB_copy['City'].unique()"
   ]
  },
  {
   "cell_type": "markdown",
   "id": "4ccd1eb5",
   "metadata": {},
   "source": [
    "#### Income - Customer Lifetime Value"
   ]
  },
  {
   "cell_type": "markdown",
   "id": "7afa1790",
   "metadata": {},
   "source": [
    "We'll see if the null values in `Income` are related to the null values in `Customer Lifetime Value`."
   ]
  },
  {
   "cell_type": "code",
   "execution_count": 321,
   "id": "b692bf88",
   "metadata": {},
   "outputs": [
    {
     "name": "stdout",
     "output_type": "stream",
     "text": [
      "Income null values: 20\n",
      "CLV null values: 20\n",
      "Both null values: 20\n"
     ]
    }
   ],
   "source": [
    "income_null = customerDB_copy[customerDB_copy['Income'].isnull()]\n",
    "clv_null = customerDB_copy[customerDB_copy['Customer Lifetime Value'].isnull()]\n",
    "income_clv_null = customerDB_copy[(customerDB_copy['Income'].isnull()) & (customerDB_copy['Customer Lifetime Value'].isnull())]\n",
    "print(f\"Income null values: {len(income_null)}\\nCLV null values: {len(clv_null)}\\nBoth null values: {len(income_clv_null)}\")"
   ]
  },
  {
   "cell_type": "code",
   "execution_count": 322,
   "id": "7114a025",
   "metadata": {},
   "outputs": [
    {
     "data": {
      "text/html": [
       "<div>\n",
       "<style scoped>\n",
       "    .dataframe tbody tr th:only-of-type {\n",
       "        vertical-align: middle;\n",
       "    }\n",
       "\n",
       "    .dataframe tbody tr th {\n",
       "        vertical-align: top;\n",
       "    }\n",
       "\n",
       "    .dataframe thead th {\n",
       "        text-align: right;\n",
       "    }\n",
       "</style>\n",
       "<table border=\"1\" class=\"dataframe\">\n",
       "  <thead>\n",
       "    <tr style=\"text-align: right;\">\n",
       "      <th></th>\n",
       "      <th>Loyalty#</th>\n",
       "      <th>Province or State</th>\n",
       "      <th>City</th>\n",
       "      <th>Gender</th>\n",
       "      <th>Education</th>\n",
       "      <th>Location Code</th>\n",
       "      <th>Income</th>\n",
       "      <th>Marital Status</th>\n",
       "      <th>LoyaltyStatus</th>\n",
       "      <th>EnrollmentDateOpening</th>\n",
       "      <th>CancellationDate</th>\n",
       "      <th>Customer Lifetime Value</th>\n",
       "      <th>EnrollmentType</th>\n",
       "    </tr>\n",
       "  </thead>\n",
       "  <tbody>\n",
       "    <tr>\n",
       "      <th>16901</th>\n",
       "      <td>999987</td>\n",
       "      <td>New Brunswick</td>\n",
       "      <td>Fredericton</td>\n",
       "      <td>female</td>\n",
       "      <td>Bachelor</td>\n",
       "      <td>Urban</td>\n",
       "      <td>NaN</td>\n",
       "      <td>Single</td>\n",
       "      <td>Star</td>\n",
       "      <td>3/7/2017</td>\n",
       "      <td>3/7/2017</td>\n",
       "      <td>NaN</td>\n",
       "      <td>Standard</td>\n",
       "    </tr>\n",
       "    <tr>\n",
       "      <th>16902</th>\n",
       "      <td>999988</td>\n",
       "      <td>Quebec</td>\n",
       "      <td>Montreal</td>\n",
       "      <td>male</td>\n",
       "      <td>College</td>\n",
       "      <td>Rural</td>\n",
       "      <td>NaN</td>\n",
       "      <td>Single</td>\n",
       "      <td>Star</td>\n",
       "      <td>8/22/2017</td>\n",
       "      <td>8/22/2017</td>\n",
       "      <td>NaN</td>\n",
       "      <td>Standard</td>\n",
       "    </tr>\n",
       "    <tr>\n",
       "      <th>16903</th>\n",
       "      <td>999989</td>\n",
       "      <td>Ontario</td>\n",
       "      <td>Trenton</td>\n",
       "      <td>male</td>\n",
       "      <td>College</td>\n",
       "      <td>Rural</td>\n",
       "      <td>NaN</td>\n",
       "      <td>Married</td>\n",
       "      <td>Star</td>\n",
       "      <td>9/12/2015</td>\n",
       "      <td>9/12/2015</td>\n",
       "      <td>NaN</td>\n",
       "      <td>Standard</td>\n",
       "    </tr>\n",
       "    <tr>\n",
       "      <th>16904</th>\n",
       "      <td>999990</td>\n",
       "      <td>New Brunswick</td>\n",
       "      <td>Moncton</td>\n",
       "      <td>female</td>\n",
       "      <td>College</td>\n",
       "      <td>Rural</td>\n",
       "      <td>NaN</td>\n",
       "      <td>Married</td>\n",
       "      <td>Star</td>\n",
       "      <td>6/10/2019</td>\n",
       "      <td>6/10/2019</td>\n",
       "      <td>NaN</td>\n",
       "      <td>Standard</td>\n",
       "    </tr>\n",
       "    <tr>\n",
       "      <th>16905</th>\n",
       "      <td>999991</td>\n",
       "      <td>New Brunswick</td>\n",
       "      <td>Fredericton</td>\n",
       "      <td>female</td>\n",
       "      <td>College</td>\n",
       "      <td>Suburban</td>\n",
       "      <td>NaN</td>\n",
       "      <td>Married</td>\n",
       "      <td>Star</td>\n",
       "      <td>7/20/2019</td>\n",
       "      <td>7/20/2019</td>\n",
       "      <td>NaN</td>\n",
       "      <td>Standard</td>\n",
       "    </tr>\n",
       "    <tr>\n",
       "      <th>16906</th>\n",
       "      <td>999992</td>\n",
       "      <td>Ontario</td>\n",
       "      <td>Toronto</td>\n",
       "      <td>male</td>\n",
       "      <td>College</td>\n",
       "      <td>Suburban</td>\n",
       "      <td>NaN</td>\n",
       "      <td>Single</td>\n",
       "      <td>Star</td>\n",
       "      <td>3/27/2021</td>\n",
       "      <td>3/27/2021</td>\n",
       "      <td>NaN</td>\n",
       "      <td>Standard</td>\n",
       "    </tr>\n",
       "    <tr>\n",
       "      <th>16907</th>\n",
       "      <td>999993</td>\n",
       "      <td>British Columbia</td>\n",
       "      <td>Dawson Creek</td>\n",
       "      <td>female</td>\n",
       "      <td>College</td>\n",
       "      <td>Suburban</td>\n",
       "      <td>NaN</td>\n",
       "      <td>Married</td>\n",
       "      <td>Star</td>\n",
       "      <td>1/27/2015</td>\n",
       "      <td>1/27/2015</td>\n",
       "      <td>NaN</td>\n",
       "      <td>Standard</td>\n",
       "    </tr>\n",
       "    <tr>\n",
       "      <th>16908</th>\n",
       "      <td>999994</td>\n",
       "      <td>Ontario</td>\n",
       "      <td>Ottawa</td>\n",
       "      <td>female</td>\n",
       "      <td>College</td>\n",
       "      <td>Rural</td>\n",
       "      <td>NaN</td>\n",
       "      <td>Married</td>\n",
       "      <td>Star</td>\n",
       "      <td>5/5/2016</td>\n",
       "      <td>5/5/2016</td>\n",
       "      <td>NaN</td>\n",
       "      <td>Standard</td>\n",
       "    </tr>\n",
       "    <tr>\n",
       "      <th>16909</th>\n",
       "      <td>999995</td>\n",
       "      <td>Ontario</td>\n",
       "      <td>Ottawa</td>\n",
       "      <td>female</td>\n",
       "      <td>College</td>\n",
       "      <td>Suburban</td>\n",
       "      <td>NaN</td>\n",
       "      <td>Married</td>\n",
       "      <td>Star</td>\n",
       "      <td>3/2/2020</td>\n",
       "      <td>3/2/2020</td>\n",
       "      <td>NaN</td>\n",
       "      <td>Standard</td>\n",
       "    </tr>\n",
       "    <tr>\n",
       "      <th>16910</th>\n",
       "      <td>999996</td>\n",
       "      <td>Ontario</td>\n",
       "      <td>Toronto</td>\n",
       "      <td>female</td>\n",
       "      <td>Bachelor</td>\n",
       "      <td>Suburban</td>\n",
       "      <td>NaN</td>\n",
       "      <td>Single</td>\n",
       "      <td>Star</td>\n",
       "      <td>9/14/2018</td>\n",
       "      <td>9/14/2018</td>\n",
       "      <td>NaN</td>\n",
       "      <td>Standard</td>\n",
       "    </tr>\n",
       "    <tr>\n",
       "      <th>16911</th>\n",
       "      <td>999997</td>\n",
       "      <td>New Brunswick</td>\n",
       "      <td>Moncton</td>\n",
       "      <td>male</td>\n",
       "      <td>College</td>\n",
       "      <td>Urban</td>\n",
       "      <td>NaN</td>\n",
       "      <td>Married</td>\n",
       "      <td>Star</td>\n",
       "      <td>1/19/2020</td>\n",
       "      <td>1/19/2020</td>\n",
       "      <td>NaN</td>\n",
       "      <td>Standard</td>\n",
       "    </tr>\n",
       "    <tr>\n",
       "      <th>16912</th>\n",
       "      <td>999998</td>\n",
       "      <td>Quebec</td>\n",
       "      <td>Quebec City</td>\n",
       "      <td>male</td>\n",
       "      <td>Bachelor</td>\n",
       "      <td>Urban</td>\n",
       "      <td>NaN</td>\n",
       "      <td>Single</td>\n",
       "      <td>Star</td>\n",
       "      <td>1/6/2017</td>\n",
       "      <td>1/6/2017</td>\n",
       "      <td>NaN</td>\n",
       "      <td>Standard</td>\n",
       "    </tr>\n",
       "    <tr>\n",
       "      <th>16913</th>\n",
       "      <td>999999</td>\n",
       "      <td>Alberta</td>\n",
       "      <td>Edmonton</td>\n",
       "      <td>male</td>\n",
       "      <td>Bachelor</td>\n",
       "      <td>Rural</td>\n",
       "      <td>NaN</td>\n",
       "      <td>Single</td>\n",
       "      <td>Star</td>\n",
       "      <td>3/20/2016</td>\n",
       "      <td>3/20/2016</td>\n",
       "      <td>NaN</td>\n",
       "      <td>Standard</td>\n",
       "    </tr>\n",
       "    <tr>\n",
       "      <th>16914</th>\n",
       "      <td>100017</td>\n",
       "      <td>British Columbia</td>\n",
       "      <td>Dawson Creek</td>\n",
       "      <td>male</td>\n",
       "      <td>Master</td>\n",
       "      <td>Urban</td>\n",
       "      <td>NaN</td>\n",
       "      <td>Married</td>\n",
       "      <td>Star</td>\n",
       "      <td>4/11/2017</td>\n",
       "      <td>4/11/2017</td>\n",
       "      <td>NaN</td>\n",
       "      <td>Standard</td>\n",
       "    </tr>\n",
       "    <tr>\n",
       "      <th>16915</th>\n",
       "      <td>100011</td>\n",
       "      <td>Ontario</td>\n",
       "      <td>Toronto</td>\n",
       "      <td>female</td>\n",
       "      <td>Bachelor</td>\n",
       "      <td>Suburban</td>\n",
       "      <td>NaN</td>\n",
       "      <td>Married</td>\n",
       "      <td>Star</td>\n",
       "      <td>5/1/2017</td>\n",
       "      <td>5/1/2017</td>\n",
       "      <td>NaN</td>\n",
       "      <td>Standard</td>\n",
       "    </tr>\n",
       "    <tr>\n",
       "      <th>16916</th>\n",
       "      <td>100012</td>\n",
       "      <td>Quebec</td>\n",
       "      <td>Quebec City</td>\n",
       "      <td>male</td>\n",
       "      <td>Bachelor</td>\n",
       "      <td>Suburban</td>\n",
       "      <td>NaN</td>\n",
       "      <td>Single</td>\n",
       "      <td>Star</td>\n",
       "      <td>2/27/2019</td>\n",
       "      <td>2/27/2019</td>\n",
       "      <td>NaN</td>\n",
       "      <td>Standard</td>\n",
       "    </tr>\n",
       "    <tr>\n",
       "      <th>16917</th>\n",
       "      <td>100013</td>\n",
       "      <td>Alberta</td>\n",
       "      <td>Edmonton</td>\n",
       "      <td>female</td>\n",
       "      <td>Bachelor</td>\n",
       "      <td>Rural</td>\n",
       "      <td>NaN</td>\n",
       "      <td>Married</td>\n",
       "      <td>Star</td>\n",
       "      <td>9/20/2017</td>\n",
       "      <td>9/20/2017</td>\n",
       "      <td>NaN</td>\n",
       "      <td>Standard</td>\n",
       "    </tr>\n",
       "    <tr>\n",
       "      <th>16918</th>\n",
       "      <td>100014</td>\n",
       "      <td>New Brunswick</td>\n",
       "      <td>Moncton</td>\n",
       "      <td>male</td>\n",
       "      <td>Bachelor</td>\n",
       "      <td>Rural</td>\n",
       "      <td>NaN</td>\n",
       "      <td>Married</td>\n",
       "      <td>Star</td>\n",
       "      <td>11/28/2020</td>\n",
       "      <td>11/28/2020</td>\n",
       "      <td>NaN</td>\n",
       "      <td>Standard</td>\n",
       "    </tr>\n",
       "    <tr>\n",
       "      <th>16919</th>\n",
       "      <td>100015</td>\n",
       "      <td>Quebec</td>\n",
       "      <td>Quebec City</td>\n",
       "      <td>female</td>\n",
       "      <td>College</td>\n",
       "      <td>Urban</td>\n",
       "      <td>NaN</td>\n",
       "      <td>Married</td>\n",
       "      <td>Star</td>\n",
       "      <td>4/9/2020</td>\n",
       "      <td>4/9/2020</td>\n",
       "      <td>NaN</td>\n",
       "      <td>Standard</td>\n",
       "    </tr>\n",
       "    <tr>\n",
       "      <th>16920</th>\n",
       "      <td>100016</td>\n",
       "      <td>British Columbia</td>\n",
       "      <td>Dawson Creek</td>\n",
       "      <td>female</td>\n",
       "      <td>Master</td>\n",
       "      <td>Suburban</td>\n",
       "      <td>NaN</td>\n",
       "      <td>Single</td>\n",
       "      <td>Star</td>\n",
       "      <td>7/21/2020</td>\n",
       "      <td>7/21/2020</td>\n",
       "      <td>NaN</td>\n",
       "      <td>Standard</td>\n",
       "    </tr>\n",
       "  </tbody>\n",
       "</table>\n",
       "</div>"
      ],
      "text/plain": [
       "       Loyalty# Province or State          City  Gender Education  \\\n",
       "16901    999987     New Brunswick   Fredericton  female  Bachelor   \n",
       "16902    999988            Quebec      Montreal    male   College   \n",
       "16903    999989           Ontario       Trenton    male   College   \n",
       "16904    999990     New Brunswick       Moncton  female   College   \n",
       "16905    999991     New Brunswick   Fredericton  female   College   \n",
       "16906    999992           Ontario       Toronto    male   College   \n",
       "16907    999993  British Columbia  Dawson Creek  female   College   \n",
       "16908    999994           Ontario        Ottawa  female   College   \n",
       "16909    999995           Ontario        Ottawa  female   College   \n",
       "16910    999996           Ontario       Toronto  female  Bachelor   \n",
       "16911    999997     New Brunswick       Moncton    male   College   \n",
       "16912    999998            Quebec   Quebec City    male  Bachelor   \n",
       "16913    999999           Alberta      Edmonton    male  Bachelor   \n",
       "16914    100017  British Columbia  Dawson Creek    male    Master   \n",
       "16915    100011           Ontario       Toronto  female  Bachelor   \n",
       "16916    100012            Quebec   Quebec City    male  Bachelor   \n",
       "16917    100013           Alberta      Edmonton  female  Bachelor   \n",
       "16918    100014     New Brunswick       Moncton    male  Bachelor   \n",
       "16919    100015            Quebec   Quebec City  female   College   \n",
       "16920    100016  British Columbia  Dawson Creek  female    Master   \n",
       "\n",
       "      Location Code  Income Marital Status LoyaltyStatus  \\\n",
       "16901         Urban     NaN         Single          Star   \n",
       "16902         Rural     NaN         Single          Star   \n",
       "16903         Rural     NaN        Married          Star   \n",
       "16904         Rural     NaN        Married          Star   \n",
       "16905      Suburban     NaN        Married          Star   \n",
       "16906      Suburban     NaN         Single          Star   \n",
       "16907      Suburban     NaN        Married          Star   \n",
       "16908         Rural     NaN        Married          Star   \n",
       "16909      Suburban     NaN        Married          Star   \n",
       "16910      Suburban     NaN         Single          Star   \n",
       "16911         Urban     NaN        Married          Star   \n",
       "16912         Urban     NaN         Single          Star   \n",
       "16913         Rural     NaN         Single          Star   \n",
       "16914         Urban     NaN        Married          Star   \n",
       "16915      Suburban     NaN        Married          Star   \n",
       "16916      Suburban     NaN         Single          Star   \n",
       "16917         Rural     NaN        Married          Star   \n",
       "16918         Rural     NaN        Married          Star   \n",
       "16919         Urban     NaN        Married          Star   \n",
       "16920      Suburban     NaN         Single          Star   \n",
       "\n",
       "      EnrollmentDateOpening CancellationDate  Customer Lifetime Value  \\\n",
       "16901              3/7/2017         3/7/2017                      NaN   \n",
       "16902             8/22/2017        8/22/2017                      NaN   \n",
       "16903             9/12/2015        9/12/2015                      NaN   \n",
       "16904             6/10/2019        6/10/2019                      NaN   \n",
       "16905             7/20/2019        7/20/2019                      NaN   \n",
       "16906             3/27/2021        3/27/2021                      NaN   \n",
       "16907             1/27/2015        1/27/2015                      NaN   \n",
       "16908              5/5/2016         5/5/2016                      NaN   \n",
       "16909              3/2/2020         3/2/2020                      NaN   \n",
       "16910             9/14/2018        9/14/2018                      NaN   \n",
       "16911             1/19/2020        1/19/2020                      NaN   \n",
       "16912              1/6/2017         1/6/2017                      NaN   \n",
       "16913             3/20/2016        3/20/2016                      NaN   \n",
       "16914             4/11/2017        4/11/2017                      NaN   \n",
       "16915              5/1/2017         5/1/2017                      NaN   \n",
       "16916             2/27/2019        2/27/2019                      NaN   \n",
       "16917             9/20/2017        9/20/2017                      NaN   \n",
       "16918            11/28/2020       11/28/2020                      NaN   \n",
       "16919              4/9/2020         4/9/2020                      NaN   \n",
       "16920             7/21/2020        7/21/2020                      NaN   \n",
       "\n",
       "      EnrollmentType  \n",
       "16901       Standard  \n",
       "16902       Standard  \n",
       "16903       Standard  \n",
       "16904       Standard  \n",
       "16905       Standard  \n",
       "16906       Standard  \n",
       "16907       Standard  \n",
       "16908       Standard  \n",
       "16909       Standard  \n",
       "16910       Standard  \n",
       "16911       Standard  \n",
       "16912       Standard  \n",
       "16913       Standard  \n",
       "16914       Standard  \n",
       "16915       Standard  \n",
       "16916       Standard  \n",
       "16917       Standard  \n",
       "16918       Standard  \n",
       "16919       Standard  \n",
       "16920       Standard  "
      ]
     },
     "execution_count": 322,
     "metadata": {},
     "output_type": "execute_result"
    }
   ],
   "source": [
    "# seeing these customers in customerDB_copy\n",
    "customerDB_copy.loc[income_clv_null.index]"
   ]
  },
  {
   "cell_type": "markdown",
   "id": "578da0cb",
   "metadata": {},
   "source": [
    "Now we know they're the same customers.\n",
    "\n",
    "Also, we can see that each one of these customers have the same `EnrollmentDateOpening` and `CancellationDate`, which makes us believe that they will have no relevant information in the flight dataset. If they don't, we'll just drop the rows."
   ]
  },
  {
   "cell_type": "code",
   "execution_count": 323,
   "id": "02883850",
   "metadata": {},
   "outputs": [
    {
     "name": "stdout",
     "output_type": "stream",
     "text": [
      "Loyalty# missing in flightDB_copy and null CLV/Income: \n",
      "[16901, 16902, 16903, 16904, 16905, 16906, 16907, 16908, 16909, 16910, 16911, 16912, 16913, 16914, 16915, 16916, 16917, 16918, 16919, 16920]\n",
      "Total: 20\n"
     ]
    }
   ],
   "source": [
    "# seeing if there are any Loyalty# in customerDB_copy that are not in flightDB_copy\n",
    "missing_loyalty = customerDB_copy.index.difference(flightDB_copy['Loyalty#'].unique())\n",
    "# seeing if they're the ones with null values in Customer Lifetime Value\n",
    "clv_null_loyalty = customerDB_copy[customerDB_copy['Customer Lifetime Value'].isnull()].index\n",
    "meets = []\n",
    "for index in missing_loyalty:\n",
    "    if index in clv_null_loyalty:\n",
    "        meets.append(index)\n",
    "print(f'Loyalty# missing in flightDB_copy and null CLV/Income: \\n{meets}\\nTotal: {len(meets)}')"
   ]
  },
  {
   "cell_type": "markdown",
   "id": "e0210375",
   "metadata": {},
   "source": [
    "As expected, they have no flight information at all! Let's drop them."
   ]
  },
  {
   "cell_type": "code",
   "execution_count": 324,
   "id": "748f1be5",
   "metadata": {},
   "outputs": [
    {
     "name": "stdout",
     "output_type": "stream",
     "text": [
      "Total dropped rows: 184, which is 1.09% of the original dataset. We can still drop 662.0500000000001 rows.\n"
     ]
    }
   ],
   "source": [
    "customerDB_copy.drop(index=meets, inplace=True)\n",
    "customer_dropped_rows += len(meets)\n",
    "customer_dropped_percentage = customer_dropped_rows / customer_original_rows * 100\n",
    "customer_available_to_drop -= len(meets)\n",
    "print(f\"Total dropped rows: {customer_dropped_rows}, which is {customer_dropped_percentage:.2f}% of the original dataset. We can still drop {customer_available_to_drop} rows.\")"
   ]
  },
  {
   "cell_type": "markdown",
   "id": "a8903bf2",
   "metadata": {},
   "source": [
    "Let's see the values equal to zero..."
   ]
  },
  {
   "cell_type": "code",
   "execution_count": 325,
   "id": "1e0f0389",
   "metadata": {},
   "outputs": [
    {
     "name": "stdout",
     "output_type": "stream",
     "text": [
      "Income zero values: 4238\n",
      "CLV zero values: 0\n",
      "Both zero values: 0\n",
      "\n",
      "1         3839.61\n",
      "2         3839.75\n",
      "3         3839.75\n",
      "6         3857.95\n",
      "13        3871.07\n",
      "           ...   \n",
      "16885    44771.30\n",
      "16891    52811.49\n",
      "16895    61134.68\n",
      "16896    61850.19\n",
      "16898    74228.52\n",
      "Name: Customer Lifetime Value, Length: 4238, dtype: float64\n"
     ]
    }
   ],
   "source": [
    "income_zero = customerDB_copy[customerDB_copy['Income'] == 0]\n",
    "clv_zero = customerDB_copy[customerDB_copy['Customer Lifetime Value'] == 0]\n",
    "income_clv_zero = customerDB_copy[(customerDB_copy['Income'] == 0) & (customerDB_copy['Customer Lifetime Value'] == 0)]\n",
    "print(f\"Income zero values: {len(income_zero)}\\nCLV zero values: {len(clv_zero)}\\nBoth zero values: {len(income_clv_zero)}\\n\")\n",
    "print(income_zero['Customer Lifetime Value'])"
   ]
  },
  {
   "cell_type": "markdown",
   "id": "382fd23f",
   "metadata": {},
   "source": [
    "We'll try to understand if there's a pattern for the 0€ income values in the Data Visualisation section. Maybe a specific type of customer decided to keep their income a secret..? We don't know yet, but we can see that these customers, even though they have no revealed `Income`, have an estimated CLV."
   ]
  },
  {
   "cell_type": "markdown",
   "id": "3e086725",
   "metadata": {},
   "source": [
    "#### CancellationDate"
   ]
  },
  {
   "cell_type": "markdown",
   "id": "e4b972ed",
   "metadata": {},
   "source": [
    "Checking if there are dates in `CancellationDate` that are earlier than dates in `EnrollmentDateOpening`."
   ]
  },
  {
   "cell_type": "code",
   "execution_count": 326,
   "id": "6508cfe0",
   "metadata": {},
   "outputs": [
    {
     "name": "stdout",
     "output_type": "stream",
     "text": [
      "Number of rows with CancellationDate before EnrollmentDateOpening: 203\n"
     ]
    },
    {
     "data": {
      "text/html": [
       "<div>\n",
       "<style scoped>\n",
       "    .dataframe tbody tr th:only-of-type {\n",
       "        vertical-align: middle;\n",
       "    }\n",
       "\n",
       "    .dataframe tbody tr th {\n",
       "        vertical-align: top;\n",
       "    }\n",
       "\n",
       "    .dataframe thead th {\n",
       "        text-align: right;\n",
       "    }\n",
       "</style>\n",
       "<table border=\"1\" class=\"dataframe\">\n",
       "  <thead>\n",
       "    <tr style=\"text-align: right;\">\n",
       "      <th></th>\n",
       "      <th>Loyalty#</th>\n",
       "      <th>Province or State</th>\n",
       "      <th>City</th>\n",
       "      <th>Gender</th>\n",
       "      <th>Education</th>\n",
       "      <th>Location Code</th>\n",
       "      <th>Income</th>\n",
       "      <th>Marital Status</th>\n",
       "      <th>LoyaltyStatus</th>\n",
       "      <th>EnrollmentDateOpening</th>\n",
       "      <th>CancellationDate</th>\n",
       "      <th>Customer Lifetime Value</th>\n",
       "      <th>EnrollmentType</th>\n",
       "    </tr>\n",
       "  </thead>\n",
       "  <tbody>\n",
       "    <tr>\n",
       "      <th>72</th>\n",
       "      <td>357549</td>\n",
       "      <td>British Columbia</td>\n",
       "      <td>Whistler</td>\n",
       "      <td>female</td>\n",
       "      <td>Bachelor</td>\n",
       "      <td>Rural</td>\n",
       "      <td>60817.0</td>\n",
       "      <td>Single</td>\n",
       "      <td>Star</td>\n",
       "      <td>2021-09-21</td>\n",
       "      <td>2019-05-21</td>\n",
       "      <td>3964.73</td>\n",
       "      <td>Standard</td>\n",
       "    </tr>\n",
       "    <tr>\n",
       "      <th>77</th>\n",
       "      <td>265297</td>\n",
       "      <td>Manitoba</td>\n",
       "      <td>Winnipeg</td>\n",
       "      <td>female</td>\n",
       "      <td>Bachelor</td>\n",
       "      <td>Urban</td>\n",
       "      <td>39101.0</td>\n",
       "      <td>Married</td>\n",
       "      <td>Star</td>\n",
       "      <td>2021-07-17</td>\n",
       "      <td>2019-03-17</td>\n",
       "      <td>3978.67</td>\n",
       "      <td>Standard</td>\n",
       "    </tr>\n",
       "    <tr>\n",
       "      <th>176</th>\n",
       "      <td>845613</td>\n",
       "      <td>Quebec</td>\n",
       "      <td>Montreal</td>\n",
       "      <td>male</td>\n",
       "      <td>Bachelor</td>\n",
       "      <td>Urban</td>\n",
       "      <td>30598.0</td>\n",
       "      <td>Married</td>\n",
       "      <td>Star</td>\n",
       "      <td>2021-10-13</td>\n",
       "      <td>2019-06-13</td>\n",
       "      <td>4198.03</td>\n",
       "      <td>Standard</td>\n",
       "    </tr>\n",
       "    <tr>\n",
       "      <th>210</th>\n",
       "      <td>830547</td>\n",
       "      <td>British Columbia</td>\n",
       "      <td>Vancouver</td>\n",
       "      <td>male</td>\n",
       "      <td>Bachelor</td>\n",
       "      <td>Rural</td>\n",
       "      <td>26245.0</td>\n",
       "      <td>Single</td>\n",
       "      <td>Star</td>\n",
       "      <td>2021-05-11</td>\n",
       "      <td>2019-01-11</td>\n",
       "      <td>4271.20</td>\n",
       "      <td>Standard</td>\n",
       "    </tr>\n",
       "    <tr>\n",
       "      <th>304</th>\n",
       "      <td>514900</td>\n",
       "      <td>Ontario</td>\n",
       "      <td>Toronto</td>\n",
       "      <td>female</td>\n",
       "      <td>Bachelor</td>\n",
       "      <td>Urban</td>\n",
       "      <td>80892.0</td>\n",
       "      <td>Married</td>\n",
       "      <td>Star</td>\n",
       "      <td>2021-07-20</td>\n",
       "      <td>2019-03-20</td>\n",
       "      <td>4425.91</td>\n",
       "      <td>Standard</td>\n",
       "    </tr>\n",
       "    <tr>\n",
       "      <th>...</th>\n",
       "      <td>...</td>\n",
       "      <td>...</td>\n",
       "      <td>...</td>\n",
       "      <td>...</td>\n",
       "      <td>...</td>\n",
       "      <td>...</td>\n",
       "      <td>...</td>\n",
       "      <td>...</td>\n",
       "      <td>...</td>\n",
       "      <td>...</td>\n",
       "      <td>...</td>\n",
       "      <td>...</td>\n",
       "      <td>...</td>\n",
       "    </tr>\n",
       "    <tr>\n",
       "      <th>16514</th>\n",
       "      <td>584796</td>\n",
       "      <td>British Columbia</td>\n",
       "      <td>Vancouver</td>\n",
       "      <td>male</td>\n",
       "      <td>Bachelor</td>\n",
       "      <td>Rural</td>\n",
       "      <td>59853.0</td>\n",
       "      <td>Single</td>\n",
       "      <td>Star</td>\n",
       "      <td>2021-08-18</td>\n",
       "      <td>2019-04-18</td>\n",
       "      <td>19454.41</td>\n",
       "      <td>Standard</td>\n",
       "    </tr>\n",
       "    <tr>\n",
       "      <th>16522</th>\n",
       "      <td>774931</td>\n",
       "      <td>British Columbia</td>\n",
       "      <td>Whistler</td>\n",
       "      <td>female</td>\n",
       "      <td>Bachelor</td>\n",
       "      <td>Rural</td>\n",
       "      <td>33588.0</td>\n",
       "      <td>Married</td>\n",
       "      <td>Star</td>\n",
       "      <td>2021-07-21</td>\n",
       "      <td>2019-03-21</td>\n",
       "      <td>19731.34</td>\n",
       "      <td>Standard</td>\n",
       "    </tr>\n",
       "    <tr>\n",
       "      <th>16551</th>\n",
       "      <td>275807</td>\n",
       "      <td>Manitoba</td>\n",
       "      <td>Winnipeg</td>\n",
       "      <td>female</td>\n",
       "      <td>Bachelor</td>\n",
       "      <td>Urban</td>\n",
       "      <td>71467.0</td>\n",
       "      <td>Divorced</td>\n",
       "      <td>Star</td>\n",
       "      <td>2021-10-18</td>\n",
       "      <td>2019-06-18</td>\n",
       "      <td>20446.60</td>\n",
       "      <td>Standard</td>\n",
       "    </tr>\n",
       "    <tr>\n",
       "      <th>16634</th>\n",
       "      <td>433307</td>\n",
       "      <td>Manitoba</td>\n",
       "      <td>Winnipeg</td>\n",
       "      <td>male</td>\n",
       "      <td>Bachelor</td>\n",
       "      <td>Suburban</td>\n",
       "      <td>80540.0</td>\n",
       "      <td>Married</td>\n",
       "      <td>Star</td>\n",
       "      <td>2021-08-03</td>\n",
       "      <td>2019-04-03</td>\n",
       "      <td>22758.91</td>\n",
       "      <td>Standard</td>\n",
       "    </tr>\n",
       "    <tr>\n",
       "      <th>16757</th>\n",
       "      <td>893127</td>\n",
       "      <td>British Columbia</td>\n",
       "      <td>Vancouver</td>\n",
       "      <td>female</td>\n",
       "      <td>Bachelor</td>\n",
       "      <td>Urban</td>\n",
       "      <td>33806.0</td>\n",
       "      <td>Divorced</td>\n",
       "      <td>Star</td>\n",
       "      <td>2021-08-20</td>\n",
       "      <td>2019-04-20</td>\n",
       "      <td>27789.69</td>\n",
       "      <td>Standard</td>\n",
       "    </tr>\n",
       "  </tbody>\n",
       "</table>\n",
       "<p>203 rows × 13 columns</p>\n",
       "</div>"
      ],
      "text/plain": [
       "       Loyalty# Province or State       City  Gender Education Location Code  \\\n",
       "72       357549  British Columbia   Whistler  female  Bachelor         Rural   \n",
       "77       265297          Manitoba   Winnipeg  female  Bachelor         Urban   \n",
       "176      845613            Quebec   Montreal    male  Bachelor         Urban   \n",
       "210      830547  British Columbia  Vancouver    male  Bachelor         Rural   \n",
       "304      514900           Ontario    Toronto  female  Bachelor         Urban   \n",
       "...         ...               ...        ...     ...       ...           ...   \n",
       "16514    584796  British Columbia  Vancouver    male  Bachelor         Rural   \n",
       "16522    774931  British Columbia   Whistler  female  Bachelor         Rural   \n",
       "16551    275807          Manitoba   Winnipeg  female  Bachelor         Urban   \n",
       "16634    433307          Manitoba   Winnipeg    male  Bachelor      Suburban   \n",
       "16757    893127  British Columbia  Vancouver  female  Bachelor         Urban   \n",
       "\n",
       "        Income Marital Status LoyaltyStatus EnrollmentDateOpening  \\\n",
       "72     60817.0         Single          Star            2021-09-21   \n",
       "77     39101.0        Married          Star            2021-07-17   \n",
       "176    30598.0        Married          Star            2021-10-13   \n",
       "210    26245.0         Single          Star            2021-05-11   \n",
       "304    80892.0        Married          Star            2021-07-20   \n",
       "...        ...            ...           ...                   ...   \n",
       "16514  59853.0         Single          Star            2021-08-18   \n",
       "16522  33588.0        Married          Star            2021-07-21   \n",
       "16551  71467.0       Divorced          Star            2021-10-18   \n",
       "16634  80540.0        Married          Star            2021-08-03   \n",
       "16757  33806.0       Divorced          Star            2021-08-20   \n",
       "\n",
       "      CancellationDate  Customer Lifetime Value EnrollmentType  \n",
       "72          2019-05-21                  3964.73       Standard  \n",
       "77          2019-03-17                  3978.67       Standard  \n",
       "176         2019-06-13                  4198.03       Standard  \n",
       "210         2019-01-11                  4271.20       Standard  \n",
       "304         2019-03-20                  4425.91       Standard  \n",
       "...                ...                      ...            ...  \n",
       "16514       2019-04-18                 19454.41       Standard  \n",
       "16522       2019-03-21                 19731.34       Standard  \n",
       "16551       2019-06-18                 20446.60       Standard  \n",
       "16634       2019-04-03                 22758.91       Standard  \n",
       "16757       2019-04-20                 27789.69       Standard  \n",
       "\n",
       "[203 rows x 13 columns]"
      ]
     },
     "execution_count": 326,
     "metadata": {},
     "output_type": "execute_result"
    }
   ],
   "source": [
    "customerDB_copy['EnrollmentDateOpening'] = pd.to_datetime(customerDB_copy['EnrollmentDateOpening'], errors='coerce')\n",
    "customerDB_copy['CancellationDate'] = pd.to_datetime(customerDB_copy['CancellationDate'], errors='coerce')\n",
    "invalid_dates = customerDB_copy[customerDB_copy['CancellationDate'] <= customerDB_copy['EnrollmentDateOpening']]\n",
    "print(f\"Number of rows with CancellationDate before EnrollmentDateOpening: {len(invalid_dates)}\")\n",
    "invalid_dates"
   ]
  },
  {
   "cell_type": "code",
   "execution_count": 327,
   "id": "5d6a945c",
   "metadata": {},
   "outputs": [
    {
     "data": {
      "text/html": [
       "<div>\n",
       "<style scoped>\n",
       "    .dataframe tbody tr th:only-of-type {\n",
       "        vertical-align: middle;\n",
       "    }\n",
       "\n",
       "    .dataframe tbody tr th {\n",
       "        vertical-align: top;\n",
       "    }\n",
       "\n",
       "    .dataframe thead th {\n",
       "        text-align: right;\n",
       "    }\n",
       "</style>\n",
       "<table border=\"1\" class=\"dataframe\">\n",
       "  <thead>\n",
       "    <tr style=\"text-align: right;\">\n",
       "      <th></th>\n",
       "      <th>Loyalty#</th>\n",
       "      <th>NumFlights</th>\n",
       "      <th>NumFlightsWithCompanions</th>\n",
       "      <th>DistanceKM</th>\n",
       "      <th>PointsAccumulated</th>\n",
       "    </tr>\n",
       "  </thead>\n",
       "  <tbody>\n",
       "    <tr>\n",
       "      <th>0</th>\n",
       "      <td>102615</td>\n",
       "      <td>8.0</td>\n",
       "      <td>0.0</td>\n",
       "      <td>22608.0</td>\n",
       "      <td>2260.0</td>\n",
       "    </tr>\n",
       "    <tr>\n",
       "      <th>1</th>\n",
       "      <td>103362</td>\n",
       "      <td>9.0</td>\n",
       "      <td>1.0</td>\n",
       "      <td>11840.0</td>\n",
       "      <td>1184.0</td>\n",
       "    </tr>\n",
       "    <tr>\n",
       "      <th>2</th>\n",
       "      <td>103985</td>\n",
       "      <td>18.0</td>\n",
       "      <td>6.0</td>\n",
       "      <td>41615.0</td>\n",
       "      <td>4160.0</td>\n",
       "    </tr>\n",
       "    <tr>\n",
       "      <th>3</th>\n",
       "      <td>116562</td>\n",
       "      <td>35.0</td>\n",
       "      <td>2.0</td>\n",
       "      <td>80284.0</td>\n",
       "      <td>8027.0</td>\n",
       "    </tr>\n",
       "    <tr>\n",
       "      <th>4</th>\n",
       "      <td>122858</td>\n",
       "      <td>32.0</td>\n",
       "      <td>7.0</td>\n",
       "      <td>81345.0</td>\n",
       "      <td>8133.0</td>\n",
       "    </tr>\n",
       "    <tr>\n",
       "      <th>...</th>\n",
       "      <td>...</td>\n",
       "      <td>...</td>\n",
       "      <td>...</td>\n",
       "      <td>...</td>\n",
       "      <td>...</td>\n",
       "    </tr>\n",
       "    <tr>\n",
       "      <th>198</th>\n",
       "      <td>978040</td>\n",
       "      <td>33.0</td>\n",
       "      <td>13.0</td>\n",
       "      <td>73117.0</td>\n",
       "      <td>7309.0</td>\n",
       "    </tr>\n",
       "    <tr>\n",
       "      <th>199</th>\n",
       "      <td>982543</td>\n",
       "      <td>10.0</td>\n",
       "      <td>3.0</td>\n",
       "      <td>14229.0</td>\n",
       "      <td>1422.0</td>\n",
       "    </tr>\n",
       "    <tr>\n",
       "      <th>200</th>\n",
       "      <td>985707</td>\n",
       "      <td>56.0</td>\n",
       "      <td>24.0</td>\n",
       "      <td>92757.0</td>\n",
       "      <td>9273.0</td>\n",
       "    </tr>\n",
       "    <tr>\n",
       "      <th>201</th>\n",
       "      <td>992499</td>\n",
       "      <td>11.0</td>\n",
       "      <td>2.0</td>\n",
       "      <td>28226.0</td>\n",
       "      <td>2822.0</td>\n",
       "    </tr>\n",
       "    <tr>\n",
       "      <th>202</th>\n",
       "      <td>998061</td>\n",
       "      <td>15.0</td>\n",
       "      <td>6.0</td>\n",
       "      <td>41261.0</td>\n",
       "      <td>4124.0</td>\n",
       "    </tr>\n",
       "  </tbody>\n",
       "</table>\n",
       "<p>203 rows × 5 columns</p>\n",
       "</div>"
      ],
      "text/plain": [
       "     Loyalty#  NumFlights  NumFlightsWithCompanions  DistanceKM  \\\n",
       "0      102615         8.0                       0.0     22608.0   \n",
       "1      103362         9.0                       1.0     11840.0   \n",
       "2      103985        18.0                       6.0     41615.0   \n",
       "3      116562        35.0                       2.0     80284.0   \n",
       "4      122858        32.0                       7.0     81345.0   \n",
       "..        ...         ...                       ...         ...   \n",
       "198    978040        33.0                      13.0     73117.0   \n",
       "199    982543        10.0                       3.0     14229.0   \n",
       "200    985707        56.0                      24.0     92757.0   \n",
       "201    992499        11.0                       2.0     28226.0   \n",
       "202    998061        15.0                       6.0     41261.0   \n",
       "\n",
       "     PointsAccumulated  \n",
       "0               2260.0  \n",
       "1               1184.0  \n",
       "2               4160.0  \n",
       "3               8027.0  \n",
       "4               8133.0  \n",
       "..                 ...  \n",
       "198             7309.0  \n",
       "199             1422.0  \n",
       "200             9273.0  \n",
       "201             2822.0  \n",
       "202             4124.0  \n",
       "\n",
       "[203 rows x 5 columns]"
      ]
     },
     "execution_count": 327,
     "metadata": {},
     "output_type": "execute_result"
    }
   ],
   "source": [
    "# Seeing the total flight dataset data per customer in the invalid_dates\n",
    "invalid_loyalty_numbers = invalid_dates['Loyalty#'].values\n",
    "invalid_flights = flightDB_copy[flightDB_copy['Loyalty#'].isin(invalid_loyalty_numbers)]\n",
    "invalid_flights_grouped = invalid_flights.groupby('Loyalty#').agg({\n",
    "    'NumFlights': 'sum',\n",
    "    'NumFlightsWithCompanions': 'sum',\n",
    "    'DistanceKM': 'sum',\n",
    "    'PointsAccumulated': 'sum'\n",
    "}).reset_index()\n",
    "invalid_flights_grouped"
   ]
  },
  {
   "cell_type": "markdown",
   "id": "1ac3fe35",
   "metadata": {},
   "source": [
    "Since we have relevant flight data for customers with invalid dates, we are going to assume that the customer had a previous membership, cancelled it, and then decided to become a member once again.\n",
    "\n",
    "For this reason, we're just going to replace these dates in `CancellationDate` with Na.\n",
    "\n",
    "*We're not adding this to the dropped rows count as we only did a replacement.*"
   ]
  },
  {
   "cell_type": "code",
   "execution_count": 328,
   "id": "050a5783",
   "metadata": {},
   "outputs": [],
   "source": [
    "for row in invalid_dates:\n",
    "    customerDB_copy.loc[invalid_dates.index, 'CancellationDate'] = pd.NaT"
   ]
  },
  {
   "cell_type": "markdown",
   "id": "7b83676e",
   "metadata": {},
   "source": [
    "#### CustomerDB - FlightDB Relation"
   ]
  },
  {
   "cell_type": "code",
   "execution_count": 329,
   "id": "2b9cfcac",
   "metadata": {},
   "outputs": [
    {
     "data": {
      "text/plain": [
       "36.352751389137836"
      ]
     },
     "execution_count": 329,
     "metadata": {},
     "output_type": "execute_result"
    }
   ],
   "source": [
    "flightDB_copy.shape[0]/customerDB_copy.shape[0]"
   ]
  },
  {
   "cell_type": "markdown",
   "id": "071f7efa",
   "metadata": {},
   "source": [
    "Every customer in the loyalty program should have a row for each one of the 36 months in the dataset. The number above shows that there are more months registered than customers. We'll take a look into this."
   ]
  },
  {
   "cell_type": "code",
   "execution_count": 330,
   "id": "07704371",
   "metadata": {},
   "outputs": [
    {
     "name": "stdout",
     "output_type": "stream",
     "text": [
      "Number of Loyalty# with more than 36 rows: 163\n",
      "Number of Loyalty# with less than 36 months: 0\n"
     ]
    }
   ],
   "source": [
    "# for each loyalty number, counting how many rows there are in the flights dataset\n",
    "flight_counts = flightDB_copy['Loyalty#'].value_counts()\n",
    "loyalty_over_36 = flight_counts[flight_counts > 36]\n",
    "print(f\"Number of Loyalty# with more than 36 rows: {len(loyalty_over_36)}\")\n",
    "\n",
    "# for each loyalty number, counting how many months are missing in the flights dataset\n",
    "months_per_loyalty = flightDB_copy.groupby('Loyalty#').size()\n",
    "missing_months = months_per_loyalty[months_per_loyalty < 36]\n",
    "print(f\"Number of Loyalty# with less than 36 months: {len(missing_months)}\")"
   ]
  },
  {
   "cell_type": "code",
   "execution_count": 331,
   "id": "b7ca89a3",
   "metadata": {},
   "outputs": [
    {
     "data": {
      "text/html": [
       "<div>\n",
       "<style scoped>\n",
       "    .dataframe tbody tr th:only-of-type {\n",
       "        vertical-align: middle;\n",
       "    }\n",
       "\n",
       "    .dataframe tbody tr th {\n",
       "        vertical-align: top;\n",
       "    }\n",
       "\n",
       "    .dataframe thead th {\n",
       "        text-align: right;\n",
       "    }\n",
       "</style>\n",
       "<table border=\"1\" class=\"dataframe\">\n",
       "  <thead>\n",
       "    <tr style=\"text-align: right;\">\n",
       "      <th></th>\n",
       "      <th>Loyalty#</th>\n",
       "      <th>Year</th>\n",
       "      <th>Month</th>\n",
       "      <th>NumFlights</th>\n",
       "      <th>NumFlightsWithCompanions</th>\n",
       "      <th>DistanceKM</th>\n",
       "      <th>PointsAccumulated</th>\n",
       "      <th>PointsRedeemed</th>\n",
       "    </tr>\n",
       "  </thead>\n",
       "  <tbody>\n",
       "    <tr>\n",
       "      <th>5211</th>\n",
       "      <td>678205</td>\n",
       "      <td>2020</td>\n",
       "      <td>5</td>\n",
       "      <td>0.0</td>\n",
       "      <td>0.0</td>\n",
       "      <td>0.0</td>\n",
       "      <td>0.0</td>\n",
       "      <td>0.0</td>\n",
       "    </tr>\n",
       "    <tr>\n",
       "      <th>11558</th>\n",
       "      <td>678205</td>\n",
       "      <td>2020</td>\n",
       "      <td>5</td>\n",
       "      <td>0.0</td>\n",
       "      <td>0.0</td>\n",
       "      <td>0.0</td>\n",
       "      <td>0.0</td>\n",
       "      <td>0.0</td>\n",
       "    </tr>\n",
       "    <tr>\n",
       "      <th>19366</th>\n",
       "      <td>678205</td>\n",
       "      <td>2020</td>\n",
       "      <td>5</td>\n",
       "      <td>0.0</td>\n",
       "      <td>0.0</td>\n",
       "      <td>0.0</td>\n",
       "      <td>0.0</td>\n",
       "      <td>0.0</td>\n",
       "    </tr>\n",
       "    <tr>\n",
       "      <th>21029</th>\n",
       "      <td>678205</td>\n",
       "      <td>2020</td>\n",
       "      <td>4</td>\n",
       "      <td>0.0</td>\n",
       "      <td>0.0</td>\n",
       "      <td>0.0</td>\n",
       "      <td>0.0</td>\n",
       "      <td>0.0</td>\n",
       "    </tr>\n",
       "    <tr>\n",
       "      <th>22477</th>\n",
       "      <td>678205</td>\n",
       "      <td>2020</td>\n",
       "      <td>4</td>\n",
       "      <td>0.0</td>\n",
       "      <td>0.0</td>\n",
       "      <td>0.0</td>\n",
       "      <td>0.0</td>\n",
       "      <td>0.0</td>\n",
       "    </tr>\n",
       "    <tr>\n",
       "      <th>...</th>\n",
       "      <td>...</td>\n",
       "      <td>...</td>\n",
       "      <td>...</td>\n",
       "      <td>...</td>\n",
       "      <td>...</td>\n",
       "      <td>...</td>\n",
       "      <td>...</td>\n",
       "      <td>...</td>\n",
       "    </tr>\n",
       "    <tr>\n",
       "      <th>585497</th>\n",
       "      <td>678205</td>\n",
       "      <td>2019</td>\n",
       "      <td>11</td>\n",
       "      <td>0.0</td>\n",
       "      <td>0.0</td>\n",
       "      <td>0.0</td>\n",
       "      <td>0.0</td>\n",
       "      <td>0.0</td>\n",
       "    </tr>\n",
       "    <tr>\n",
       "      <th>585498</th>\n",
       "      <td>678205</td>\n",
       "      <td>2019</td>\n",
       "      <td>11</td>\n",
       "      <td>0.0</td>\n",
       "      <td>0.0</td>\n",
       "      <td>0.0</td>\n",
       "      <td>0.0</td>\n",
       "      <td>0.0</td>\n",
       "    </tr>\n",
       "    <tr>\n",
       "      <th>602397</th>\n",
       "      <td>678205</td>\n",
       "      <td>2019</td>\n",
       "      <td>12</td>\n",
       "      <td>0.0</td>\n",
       "      <td>0.0</td>\n",
       "      <td>0.0</td>\n",
       "      <td>0.0</td>\n",
       "      <td>0.0</td>\n",
       "    </tr>\n",
       "    <tr>\n",
       "      <th>602398</th>\n",
       "      <td>678205</td>\n",
       "      <td>2019</td>\n",
       "      <td>12</td>\n",
       "      <td>0.0</td>\n",
       "      <td>0.0</td>\n",
       "      <td>0.0</td>\n",
       "      <td>0.0</td>\n",
       "      <td>0.0</td>\n",
       "    </tr>\n",
       "    <tr>\n",
       "      <th>602399</th>\n",
       "      <td>678205</td>\n",
       "      <td>2019</td>\n",
       "      <td>12</td>\n",
       "      <td>0.0</td>\n",
       "      <td>0.0</td>\n",
       "      <td>0.0</td>\n",
       "      <td>0.0</td>\n",
       "      <td>0.0</td>\n",
       "    </tr>\n",
       "  </tbody>\n",
       "</table>\n",
       "<p>108 rows × 8 columns</p>\n",
       "</div>"
      ],
      "text/plain": [
       "        Loyalty#  Year  Month  NumFlights  NumFlightsWithCompanions  \\\n",
       "5211      678205  2020      5         0.0                       0.0   \n",
       "11558     678205  2020      5         0.0                       0.0   \n",
       "19366     678205  2020      5         0.0                       0.0   \n",
       "21029     678205  2020      4         0.0                       0.0   \n",
       "22477     678205  2020      4         0.0                       0.0   \n",
       "...          ...   ...    ...         ...                       ...   \n",
       "585497    678205  2019     11         0.0                       0.0   \n",
       "585498    678205  2019     11         0.0                       0.0   \n",
       "602397    678205  2019     12         0.0                       0.0   \n",
       "602398    678205  2019     12         0.0                       0.0   \n",
       "602399    678205  2019     12         0.0                       0.0   \n",
       "\n",
       "        DistanceKM  PointsAccumulated  PointsRedeemed  \n",
       "5211           0.0                0.0             0.0  \n",
       "11558          0.0                0.0             0.0  \n",
       "19366          0.0                0.0             0.0  \n",
       "21029          0.0                0.0             0.0  \n",
       "22477          0.0                0.0             0.0  \n",
       "...            ...                ...             ...  \n",
       "585497         0.0                0.0             0.0  \n",
       "585498         0.0                0.0             0.0  \n",
       "602397         0.0                0.0             0.0  \n",
       "602398         0.0                0.0             0.0  \n",
       "602399         0.0                0.0             0.0  \n",
       "\n",
       "[108 rows x 8 columns]"
      ]
     },
     "execution_count": 331,
     "metadata": {},
     "output_type": "execute_result"
    }
   ],
   "source": [
    "# showing the rows for one Loyalty# with more than 36 rows\n",
    "flightDB_copy[flightDB_copy['Loyalty#'] == loyalty_over_36.index[0]]"
   ]
  },
  {
   "cell_type": "markdown",
   "id": "4ea5e2ba",
   "metadata": {},
   "source": [
    "For each repeated month, we'll keep the row with the less amount of null values."
   ]
  },
  {
   "cell_type": "code",
   "execution_count": 332,
   "id": "6784e4a9",
   "metadata": {},
   "outputs": [
    {
     "name": "stdout",
     "output_type": "stream",
     "text": [
      "Total dropped rows: 5904, which is 0.97% of the original dataset. We can still drop 24517.800000000003 rows.\n"
     ]
    }
   ],
   "source": [
    "non_null_counts = flightDB_copy.notnull().sum(axis=1) # counting non-null values in each row\n",
    "row_to_keep = (flightDB_copy.assign(non_null_count=non_null_counts).groupby(['Loyalty#', 'Year', 'Month'])['non_null_count'].idxmax()) # getting the index of the row with the most non-null values for each Loyalty#, Year, Month\n",
    "flightDB_copy = flightDB_copy.loc[row_to_keep].copy() # keeping only the rows with the most non-null values\n",
    "\n",
    "# updating the dropped rows counter\n",
    "flight_dropped_rows = flight_original_rows - flightDB_copy.shape[0]\n",
    "flight_available_to_drop -= flight_dropped_rows\n",
    "\n",
    "print(f\"Total dropped rows: {flight_dropped_rows}, which is {(flight_dropped_rows/flight_original_rows)*100:.2f}% of the original dataset. We can still drop {flight_available_to_drop} rows.\")"
   ]
  },
  {
   "cell_type": "markdown",
   "id": "c3e129b8",
   "metadata": {},
   "source": [
    "*Side comment: the same percentage of rows was dropped when we were cleaning the duplicate customers... This could mean that the people dropped in this previous step had an already existing ID assigned to them when creating their account. This would have mixed their data with the other customer with the existing ID.*\n",
    "\n",
    "*There's no way of identifying which flight information is related to each one of these customers, so we'll need to work with what we have.*"
   ]
  },
  {
   "cell_type": "code",
   "execution_count": 333,
   "id": "9bcbe9aa",
   "metadata": {},
   "outputs": [
    {
     "name": "stdout",
     "output_type": "stream",
     "text": [
      "Number of Loyalty# with more than 36 rows: 0\n",
      "Number of Loyalty# with less than 36 months: 0\n"
     ]
    }
   ],
   "source": [
    "# for each loyalty number, counting how many rows there are in the flights dataset\n",
    "flight_counts = flightDB_copy['Loyalty#'].value_counts()\n",
    "loyalty_over_36 = flight_counts[flight_counts > 36]\n",
    "print(f\"Number of Loyalty# with more than 36 rows: {len(loyalty_over_36)}\")\n",
    "\n",
    "# for each loyalty number, counting how many months are missing in the flights dataset\n",
    "months_per_loyalty = flightDB_copy.groupby('Loyalty#').size()\n",
    "missing_months = months_per_loyalty[months_per_loyalty < 36]\n",
    "print(f\"Number of Loyalty# with less than 36 months: {len(missing_months)}\")"
   ]
  },
  {
   "cell_type": "markdown",
   "id": "da8d0957",
   "metadata": {},
   "source": [
    "### 2. <a id=\"4_2\">Variable Classification</a>"
   ]
  },
  {
   "cell_type": "markdown",
   "id": "2df3939f",
   "metadata": {},
   "source": [
    "*It makes no sense to make `Loyalty#` the index in the flightDB dataset as the same customer may have multiple flights.*"
   ]
  },
  {
   "cell_type": "code",
   "execution_count": 334,
   "id": "e37ad16b",
   "metadata": {},
   "outputs": [],
   "source": [
    "# Making Loyalty# the index for the customerDB\n",
    "customerDB_copy.set_index('Loyalty#', inplace=True)"
   ]
  },
  {
   "cell_type": "markdown",
   "id": "2ccfe509",
   "metadata": {},
   "source": [
    "We're going to categorise the different variables in both datasets.\n",
    "\n",
    "\n",
    "For `customerDB`, we'll have Nominal, Ordinal, Numerical, and DateTime variables. We're diving the categorical variables in Nominal and Ordinal because the latter will have its variables used for the Encoded category.\n",
    "\n",
    "For `flightDB`, we'll only have Numerical and DateTime variables since this dataset has no categorical variables."
   ]
  },
  {
   "cell_type": "code",
   "execution_count": 335,
   "id": "9198b557",
   "metadata": {},
   "outputs": [
    {
     "name": "stdout",
     "output_type": "stream",
     "text": [
      "<class 'pandas.core.frame.DataFrame'>\n",
      "Index: 16737 entries, 480934 to 652627\n",
      "Data columns (total 12 columns):\n",
      " #   Column                   Non-Null Count  Dtype         \n",
      "---  ------                   --------------  -----         \n",
      " 0   Province or State        16737 non-null  object        \n",
      " 1   City                     16737 non-null  object        \n",
      " 2   Gender                   16737 non-null  object        \n",
      " 3   Education                16737 non-null  object        \n",
      " 4   Location Code            16737 non-null  object        \n",
      " 5   Income                   16737 non-null  float64       \n",
      " 6   Marital Status           16737 non-null  object        \n",
      " 7   LoyaltyStatus            16737 non-null  object        \n",
      " 8   EnrollmentDateOpening    16737 non-null  datetime64[ns]\n",
      " 9   CancellationDate         2063 non-null   datetime64[ns]\n",
      " 10  Customer Lifetime Value  16737 non-null  float64       \n",
      " 11  EnrollmentType           16737 non-null  object        \n",
      "dtypes: datetime64[ns](2), float64(2), object(8)\n",
      "memory usage: 1.7+ MB\n"
     ]
    }
   ],
   "source": [
    "customerDB_copy.info()"
   ]
  },
  {
   "cell_type": "code",
   "execution_count": 336,
   "id": "614b3e66",
   "metadata": {},
   "outputs": [],
   "source": [
    "customer_nominal_variables = ['Province or State', 'City', 'Gender', 'Location Code', 'Marital Status', 'EnrollmentType']\n",
    "customer_ordinal_variables = ['Education', 'LoyaltyStatus']\n",
    "customer_numerical_variables = customerDB_copy.select_dtypes(include=[np.number]).columns.tolist()\n",
    "customer_datetime_variables = customerDB_copy.select_dtypes(include=['datetime']).columns.tolist()"
   ]
  },
  {
   "cell_type": "code",
   "execution_count": 337,
   "id": "af08cdec",
   "metadata": {},
   "outputs": [],
   "source": [
    "# Encoding ordinal variables\n",
    "education_map = {'Bachelor':3, 'College':2, 'High School or Below':1, 'Doctor':5, 'Master':4}\n",
    "loyaltystatus_map = {'Star':1, 'Nova':2, 'Aurora':3}\n",
    "for variable in customer_ordinal_variables:\n",
    "    if variable == 'Education':\n",
    "        customerDB_copy['Education Encoded'] = customerDB_copy[variable].map(education_map)\n",
    "    elif variable == 'LoyaltyStatus':\n",
    "        customerDB_copy['LoyaltyStatus Encoded'] = customerDB_copy[variable].map(loyaltystatus_map)\n",
    "customer_ordinal_variables_encoded = ['Education Encoded', 'LoyaltyStatus Encoded'] # New list of encoded ordinal variables"
   ]
  },
  {
   "cell_type": "code",
   "execution_count": 338,
   "id": "8ad953de",
   "metadata": {},
   "outputs": [
    {
     "name": "stdout",
     "output_type": "stream",
     "text": [
      "<class 'pandas.core.frame.DataFrame'>\n",
      "Index: 602532 entries, 405624 to 169662\n",
      "Data columns (total 8 columns):\n",
      " #   Column                    Non-Null Count   Dtype  \n",
      "---  ------                    --------------   -----  \n",
      " 0   Loyalty#                  602532 non-null  int64  \n",
      " 1   Year                      602532 non-null  int64  \n",
      " 2   Month                     602532 non-null  int64  \n",
      " 3   NumFlights                602532 non-null  float64\n",
      " 4   NumFlightsWithCompanions  602532 non-null  float64\n",
      " 5   DistanceKM                602532 non-null  float64\n",
      " 6   PointsAccumulated         602532 non-null  float64\n",
      " 7   PointsRedeemed            602532 non-null  float64\n",
      "dtypes: float64(5), int64(3)\n",
      "memory usage: 41.4 MB\n"
     ]
    }
   ],
   "source": [
    "flightDB_copy.info()"
   ]
  },
  {
   "cell_type": "code",
   "execution_count": 339,
   "id": "0c819b5e",
   "metadata": {},
   "outputs": [],
   "source": [
    "flight_numerical_variables = flightDB_copy.select_dtypes(include=['float']).columns.tolist()\n",
    "flight_date_variables = ['Year', 'Month']"
   ]
  },
  {
   "cell_type": "markdown",
   "id": "dd890af9",
   "metadata": {},
   "source": [
    "*We could change `Year` and `Month` into a datetime column, but we figured they would be more useful for analysis as separate variables.*"
   ]
  },
  {
   "cell_type": "markdown",
   "id": "daafe462",
   "metadata": {},
   "source": [
    "### 3. <a id=\"4_3\">Summary Statistics</a>"
   ]
  },
  {
   "cell_type": "code",
   "execution_count": 340,
   "id": "03b7775a",
   "metadata": {},
   "outputs": [
    {
     "data": {
      "text/html": [
       "<div>\n",
       "<style scoped>\n",
       "    .dataframe tbody tr th:only-of-type {\n",
       "        vertical-align: middle;\n",
       "    }\n",
       "\n",
       "    .dataframe tbody tr th {\n",
       "        vertical-align: top;\n",
       "    }\n",
       "\n",
       "    .dataframe thead th {\n",
       "        text-align: right;\n",
       "    }\n",
       "</style>\n",
       "<table border=\"1\" class=\"dataframe\">\n",
       "  <thead>\n",
       "    <tr style=\"text-align: right;\">\n",
       "      <th></th>\n",
       "      <th>count</th>\n",
       "      <th>mean</th>\n",
       "      <th>std</th>\n",
       "      <th>min</th>\n",
       "      <th>25%</th>\n",
       "      <th>50%</th>\n",
       "      <th>75%</th>\n",
       "      <th>max</th>\n",
       "    </tr>\n",
       "  </thead>\n",
       "  <tbody>\n",
       "    <tr>\n",
       "      <th>Income</th>\n",
       "      <td>16737.0</td>\n",
       "      <td>37749.877696</td>\n",
       "      <td>30370.336552</td>\n",
       "      <td>0.00</td>\n",
       "      <td>0.00</td>\n",
       "      <td>34148.00</td>\n",
       "      <td>62396.00</td>\n",
       "      <td>99981.00</td>\n",
       "    </tr>\n",
       "    <tr>\n",
       "      <th>Customer Lifetime Value</th>\n",
       "      <td>16737.0</td>\n",
       "      <td>7988.896536</td>\n",
       "      <td>6860.982280</td>\n",
       "      <td>1898.01</td>\n",
       "      <td>3980.84</td>\n",
       "      <td>5780.18</td>\n",
       "      <td>8940.58</td>\n",
       "      <td>83325.38</td>\n",
       "    </tr>\n",
       "  </tbody>\n",
       "</table>\n",
       "</div>"
      ],
      "text/plain": [
       "                           count          mean           std      min  \\\n",
       "Income                   16737.0  37749.877696  30370.336552     0.00   \n",
       "Customer Lifetime Value  16737.0   7988.896536   6860.982280  1898.01   \n",
       "\n",
       "                             25%       50%       75%       max  \n",
       "Income                      0.00  34148.00  62396.00  99981.00  \n",
       "Customer Lifetime Value  3980.84   5780.18   8940.58  83325.38  "
      ]
     },
     "execution_count": 340,
     "metadata": {},
     "output_type": "execute_result"
    }
   ],
   "source": [
    "customerDB_copy[customer_numerical_variables].describe().T"
   ]
  },
  {
   "cell_type": "markdown",
   "id": "2cef308b",
   "metadata": {},
   "source": [
    "`Customer Lifetime Value` seems to have outliers on the right, as the mean is higher than the median. This means that *some* customers have a high Lifetime Value, but the majority doesn't. It makes sense from a logical point of view as we don't see most people having frequent flights. However, we'll try to understand how this variable relates to the rest in the Data Visualisation section.\n",
    "\n",
    "We can see that at least 25% of the customers have an income equal to 0. As said previously, in the visualisation phase, we will try to understand if there's a pattern in the zero-values in `Income` *(i.e. If they're missing completely at random, at random or not at random)* and see the statistics after this."
   ]
  },
  {
   "cell_type": "code",
   "execution_count": 341,
   "id": "b3a09b08",
   "metadata": {},
   "outputs": [
    {
     "data": {
      "text/html": [
       "<div>\n",
       "<style scoped>\n",
       "    .dataframe tbody tr th:only-of-type {\n",
       "        vertical-align: middle;\n",
       "    }\n",
       "\n",
       "    .dataframe tbody tr th {\n",
       "        vertical-align: top;\n",
       "    }\n",
       "\n",
       "    .dataframe thead th {\n",
       "        text-align: right;\n",
       "    }\n",
       "</style>\n",
       "<table border=\"1\" class=\"dataframe\">\n",
       "  <thead>\n",
       "    <tr style=\"text-align: right;\">\n",
       "      <th></th>\n",
       "      <th>count</th>\n",
       "      <th>mean</th>\n",
       "      <th>std</th>\n",
       "      <th>min</th>\n",
       "      <th>25%</th>\n",
       "      <th>50%</th>\n",
       "      <th>75%</th>\n",
       "      <th>max</th>\n",
       "    </tr>\n",
       "  </thead>\n",
       "  <tbody>\n",
       "    <tr>\n",
       "      <th>NumFlights</th>\n",
       "      <td>602532.0</td>\n",
       "      <td>3.917947</td>\n",
       "      <td>5.061262</td>\n",
       "      <td>0.0</td>\n",
       "      <td>0.0</td>\n",
       "      <td>0.900</td>\n",
       "      <td>7.2000</td>\n",
       "      <td>21.0</td>\n",
       "    </tr>\n",
       "    <tr>\n",
       "      <th>NumFlightsWithCompanions</th>\n",
       "      <td>602532.0</td>\n",
       "      <td>0.985944</td>\n",
       "      <td>2.005278</td>\n",
       "      <td>0.0</td>\n",
       "      <td>0.0</td>\n",
       "      <td>0.000</td>\n",
       "      <td>0.9000</td>\n",
       "      <td>11.0</td>\n",
       "    </tr>\n",
       "    <tr>\n",
       "      <th>DistanceKM</th>\n",
       "      <td>602532.0</td>\n",
       "      <td>7955.196144</td>\n",
       "      <td>10263.557090</td>\n",
       "      <td>0.0</td>\n",
       "      <td>0.0</td>\n",
       "      <td>919.000</td>\n",
       "      <td>15367.0000</td>\n",
       "      <td>42040.0</td>\n",
       "    </tr>\n",
       "    <tr>\n",
       "      <th>PointsAccumulated</th>\n",
       "      <td>602532.0</td>\n",
       "      <td>795.362893</td>\n",
       "      <td>1026.232111</td>\n",
       "      <td>0.0</td>\n",
       "      <td>0.0</td>\n",
       "      <td>91.845</td>\n",
       "      <td>1536.3225</td>\n",
       "      <td>4204.0</td>\n",
       "    </tr>\n",
       "    <tr>\n",
       "      <th>PointsRedeemed</th>\n",
       "      <td>602532.0</td>\n",
       "      <td>235.805094</td>\n",
       "      <td>984.379949</td>\n",
       "      <td>0.0</td>\n",
       "      <td>0.0</td>\n",
       "      <td>0.000</td>\n",
       "      <td>0.0000</td>\n",
       "      <td>7496.0</td>\n",
       "    </tr>\n",
       "  </tbody>\n",
       "</table>\n",
       "</div>"
      ],
      "text/plain": [
       "                             count         mean           std  min  25%  \\\n",
       "NumFlights                602532.0     3.917947      5.061262  0.0  0.0   \n",
       "NumFlightsWithCompanions  602532.0     0.985944      2.005278  0.0  0.0   \n",
       "DistanceKM                602532.0  7955.196144  10263.557090  0.0  0.0   \n",
       "PointsAccumulated         602532.0   795.362893   1026.232111  0.0  0.0   \n",
       "PointsRedeemed            602532.0   235.805094    984.379949  0.0  0.0   \n",
       "\n",
       "                              50%         75%      max  \n",
       "NumFlights                  0.900      7.2000     21.0  \n",
       "NumFlightsWithCompanions    0.000      0.9000     11.0  \n",
       "DistanceKM                919.000  15367.0000  42040.0  \n",
       "PointsAccumulated          91.845   1536.3225   4204.0  \n",
       "PointsRedeemed              0.000      0.0000   7496.0  "
      ]
     },
     "execution_count": 341,
     "metadata": {},
     "output_type": "execute_result"
    }
   ],
   "source": [
    "flightDB_copy[flight_numerical_variables].describe().T"
   ]
  },
  {
   "cell_type": "markdown",
   "id": "a83e8966",
   "metadata": {},
   "source": [
    "In the Flights dataset, we can see that most variables have many rows with null values.\n",
    "\n",
    "We can conclude that 25% of the registered *months by customer* have no flights. This could mean that some months have few or no flights or that some customers have no flights in most or all months.\n",
    "\n",
    "The `NumFlightsWithCompanions` variable is clearly related to the `NumFlights`, as one indicates the number of flights *with companions* and the other the number of flights the customer had in the month in total, respectively, so it makes sense that it has even more null values (at least 50%).\n",
    "\n",
    "The remaining values follow the same logic. They're all related to the total number of flights, so it makes sense that at least 25% of their values are null since 25% of `NumFlights`'s values is also null.\n",
    "\n",
    "`PointsRedeemed` and `DollarCostPointsRedeemed` also show that most customers (75% or more) don't redeem their available points.\n",
    "\n",
    "Overall, we can conclude that every numerical variable of this dataset is left-skewed as the mean is much higher than the median in every case."
   ]
  },
  {
   "cell_type": "markdown",
   "id": "86c90bb5",
   "metadata": {},
   "source": [
    "### 4. <a id=\"4_4\">Data Visualisation</a>"
   ]
  },
  {
   "cell_type": "markdown",
   "id": "76bd1ea5",
   "metadata": {},
   "source": [
    "In this section, we’ll visually explore the data to understand the distributions of each variable and the relationships between them. We’ll also use this step to confirm and inspect any outliers identified during the summary statistics stage.\n",
    "\n",
    "Once we’ve gained a solid understanding of the existing variables, we’ll move on to the feature engineering phase, where we’ll create new features and aggregations based on these insights. Afterwards, we’ll do a brief round of statistical and visual checks to ensure the new variables behave as expected and add meaningful value to the dataset."
   ]
  },
  {
   "cell_type": "code",
   "execution_count": 342,
   "id": "ee3eda98",
   "metadata": {},
   "outputs": [],
   "source": [
    "sns.set_palette('pastel')\n",
    "sns.set_style(\"white\")"
   ]
  },
  {
   "cell_type": "markdown",
   "id": "ae5dd5e8",
   "metadata": {},
   "source": [
    "#### Zero-Income Pattern Analysis"
   ]
  },
  {
   "cell_type": "markdown",
   "id": "7b5a88aa",
   "metadata": {},
   "source": [
    "Before doing any exploration, we'll first try to solve an existing problem: The rows where the Income is equal to zero."
   ]
  },
  {
   "cell_type": "code",
   "execution_count": 343,
   "id": "d9811db1",
   "metadata": {},
   "outputs": [
    {
     "data": {
      "image/png": "[encoded data removed]",
      "text/plain": [
       "<Figure size 1800x800 with 8 Axes>"
      ]
     },
     "metadata": {},
     "output_type": "display_data"
    }
   ],
   "source": [
    "# Graphs to see what kind of customer has zero income\n",
    "fig, axes = plt.subplots(nrows=2, ncols=4, figsize=(18, 8))\n",
    "axes = axes.flatten()\n",
    "for i, variable in enumerate(customer_nominal_variables + customer_ordinal_variables):\n",
    "    sns.countplot(data=customerDB_copy[customerDB_copy['Income'] == 0], x=variable, order=customerDB_copy[customerDB_copy['Income'] == 0][variable].value_counts().index, ax=axes[i])\n",
    "    axes[i].set_title(variable)\n",
    "    axes[i].tick_params(axis='x', rotation=45)\n",
    "plt.suptitle(\"Customer Demographics with Zero Income\")\n",
    "plt.tight_layout()\n",
    "plt.show()"
   ]
  },
  {
   "cell_type": "markdown",
   "id": "4f954e3a",
   "metadata": {},
   "source": [
    "We can see here that `Education` is the variable where we only have one category with zero-income value. From a logical point of view, this makes sense, as people who are currently in college (apart from student-workers) don't have a fixed income. We'll replace the zero values with null."
   ]
  },
  {
   "cell_type": "code",
   "execution_count": 344,
   "id": "e4022590",
   "metadata": {},
   "outputs": [
    {
     "name": "stdout",
     "output_type": "stream",
     "text": [
      "0\n"
     ]
    }
   ],
   "source": [
    "# Just checking to see how many college-educated customers have non-zero and non-null income\n",
    "is_college = customerDB_copy['Education'] == 'College'\n",
    "college_count = is_college.sum()\n",
    "college_zero_income_count = (is_college & (customerDB_copy['Income'] == 0)).sum()\n",
    "college_null_income_count = (is_college & customerDB_copy['Income'].isna()).sum()\n",
    "remaining_college_income_count = college_count - (college_zero_income_count + college_null_income_count)\n",
    "print(remaining_college_income_count)"
   ]
  },
  {
   "cell_type": "code",
   "execution_count": 345,
   "id": "6219807c",
   "metadata": {},
   "outputs": [],
   "source": [
    "customerDB_copy.loc[customerDB_copy['Income'] == 0, 'Income'] = np.nan"
   ]
  },
  {
   "cell_type": "markdown",
   "id": "a721dd31",
   "metadata": {},
   "source": [
    "##### Summary Statistics - Cleaned Income"
   ]
  },
  {
   "cell_type": "code",
   "execution_count": 346,
   "id": "ad29392a",
   "metadata": {},
   "outputs": [
    {
     "data": {
      "text/plain": [
       "count    12499.000000\n",
       "mean     50549.620210\n",
       "std      24249.732478\n",
       "min      10037.000000\n",
       "25%      28513.000000\n",
       "50%      48263.000000\n",
       "75%      70252.500000\n",
       "max      99981.000000\n",
       "Name: Income, dtype: float64"
      ]
     },
     "execution_count": 346,
     "metadata": {},
     "output_type": "execute_result"
    }
   ],
   "source": [
    "customerDB_copy['Income'].describe()"
   ]
  },
  {
   "cell_type": "markdown",
   "id": "0b425003",
   "metadata": {},
   "source": [
    "Based on the comparison between the mean and the 50th percentile (median), we can expect the distribution to not have many (or any) outliers. It might be slightly skewed to the right, but nothing very drastic."
   ]
  },
  {
   "cell_type": "markdown",
   "id": "a4426495",
   "metadata": {},
   "source": [
    "#### Numerical Data"
   ]
  },
  {
   "cell_type": "markdown",
   "id": "d2e99ac5",
   "metadata": {},
   "source": [
    "##### Histograms"
   ]
  },
  {
   "cell_type": "code",
   "execution_count": 347,
   "id": "98820f5b",
   "metadata": {},
   "outputs": [
    {
     "data": {
      "image/png": "[encoded data removed]",
      "text/plain": [
       "<Figure size 1600x600 with 8 Axes>"
      ]
     },
     "metadata": {},
     "output_type": "display_data"
    }
   ],
   "source": [
    "fig, axes = plt.subplots(nrows=2, ncols=4, figsize=(16, 6))\n",
    "axes = axes.flatten()\n",
    "for i, variable in enumerate(customer_numerical_variables + customer_ordinal_variables_encoded + flight_numerical_variables[:-1]):\n",
    "    if variable in customer_numerical_variables or variable in customer_ordinal_variables_encoded:\n",
    "        axes[i].hist(customerDB_copy[variable].dropna(), bins=20)\n",
    "    else:\n",
    "        axes[i].hist(flightDB_copy[variable].dropna(), bins=20)\n",
    "    axes[i].set_title(variable)\n",
    "plt.tight_layout()\n",
    "plt.show()"
   ]
  },
  {
   "cell_type": "markdown",
   "id": "84e8745b",
   "metadata": {},
   "source": [
    "**Customer DB**"
   ]
  },
  {
   "cell_type": "markdown",
   "id": "1c28f0d4",
   "metadata": {},
   "source": [
    "- `Income`: The graph peaks around the mark of $20K–$60K yearly income, being somewhat skewed to the right, as expected from the summary statistics analysis. We can see there is a middle‑income customer base with a slightly smaller subset of high earners.\n",
    "- `Customer Lifetime Value`: The distribution is highly right‑skewed, concentrated near lower CLV values and with a long right tail. Most customers contribute modestly to company value, while a limited group drives substantially higher returns.\n",
    "- `Education Encoded`: The distribution is discrete, with a clear concentration around one category level (Bachelor). This suggests that most customers share a similar education background.\n",
    "- `LoyaltyStatus Encoded`: The histogram shows a near‑uniform spread across loyalty tiers, though slightly denser at lower levels. This implies that the customer base is evenly distributed but leans slightly toward the low‑status tier."
   ]
  },
  {
   "cell_type": "markdown",
   "id": "aad80bef",
   "metadata": {},
   "source": [
    "**Flights DB**"
   ]
  },
  {
   "cell_type": "markdown",
   "id": "33e1867e",
   "metadata": {},
   "source": [
    "While these distributions will give us a first look at the overall flight activity, they aren’t enough on their own to explain customer behavior or seasonal trends. To get meaningful insights, we’ll need to merge the flight data with the customer information and create aggregated features. These steps in the following phase will help us move from general distributions to deeper, time‑based and customer‑specific insights.\n",
    "\n",
    "For now, we'll do a general analysis of the variables in the flights dataset."
   ]
  },
  {
   "cell_type": "markdown",
   "id": "55b82012",
   "metadata": {},
   "source": [
    "\n",
    "- `NumFlights`: The distribution is heavily left‑skewed, with most customers registering zero or very few flights. This suggests a large proportion of infrequent or inactive travelers and a small fraction of frequent flyers.\n",
    "- `NumFlightsWithCompanions`: A strong spike at zero indicates that most customers usually travel alone or not at all.\n",
    "- `DistanceKM`: The histogram is right‑skewed, peaking at short‑distance flights with a gradual decline toward long‑distance travel. This suggests that local or domestic trips dominate, while international routes are less common.\n",
    "- `PointsAccumulated`: Interestingly, the distributions of `DistanceKM` and `PointsAccumulated` look basically identical, differing only in scale. This suggests that the two variables are highly correlated. Customers who travel longer distances tend to accumulate more points. Because of this strong relationship, these features may carry redundant information, and it might make sense to drop one of them later in the analysis to reduce overlap."
   ]
  },
  {
   "cell_type": "markdown",
   "id": "36bc3c79",
   "metadata": {},
   "source": [
    "##### Box Plots"
   ]
  },
  {
   "cell_type": "markdown",
   "id": "878d30fd",
   "metadata": {},
   "source": [
    "Box plots are not ideal for discrete or ordinal variables because quartiles and whiskers don’t carry much meaning when the variable only takes a few distinct values. For this reason, we will not include `Education Encoded` and `LoyaltyStatus Encoded` in this visualisation."
   ]
  },
  {
   "cell_type": "code",
   "execution_count": 349,
   "id": "677220d5",
   "metadata": {},
   "outputs": [
    {
     "name": "stdout",
     "output_type": "stream",
     "text": [
      "Number of outliers in Income: 0\n",
      "Number of outliers in Customer Lifetime Value: 1485\n",
      "Number of outliers in NumFlights: 3389\n",
      "Number of outliers in NumFlightsWithCompanions: 105021\n",
      "Number of outliers in DistanceKM: 1911\n",
      "Number of outliers in PointsAccumulated: 1914\n"
     ]
    },
    {
     "data": {
      "image/png": "[encoded data removed]",
      "text/plain": [
       "<Figure size 1200x600 with 6 Axes>"
      ]
     },
     "metadata": {},
     "output_type": "display_data"
    }
   ],
   "source": [
    "fig, axes = plt.subplots(nrows=2, ncols=3, figsize=(12, 6))\n",
    "axes = axes.flatten()\n",
    "for i, variable in enumerate(customer_numerical_variables + flight_numerical_variables[:-1]):\n",
    "    \n",
    "    if variable in customer_numerical_variables:\n",
    "        used_df = customerDB_copy\n",
    "    else:\n",
    "        used_df = flightDB_copy\n",
    "    \n",
    "    axes[i].boxplot(used_df[variable].dropna(), vert=False)\n",
    "    axes[i].set_title(variable)\n",
    "\n",
    "    Q1 = used_df[variable].quantile(0.25)\n",
    "    Q3 = used_df[variable].quantile(0.75)\n",
    "    IQR = Q3 - Q1\n",
    "    \n",
    "    lower_bound = Q1 - 1.5 * IQR\n",
    "    upper_bound = Q3 + 1.5 * IQR\n",
    "\n",
    "    outliers = used_df[(used_df[variable] < lower_bound) |\n",
    "                                   (used_df[variable] > upper_bound)]\n",
    "\n",
    "    print(f\"Number of outliers in {variable}:\", outliers.shape[0])\n",
    "plt.tight_layout()\n",
    "plt.show()"
   ]
  },
  {
   "cell_type": "markdown",
   "id": "082f86bc",
   "metadata": {},
   "source": [
    "**Customer DB**"
   ]
  },
  {
   "cell_type": "markdown",
   "id": "d8a1c51f",
   "metadata": {},
   "source": [
    "- `Income`: The box plot confirms that most incomes cluster in the $20K–$60K range, with no visible outliers. The absence of extreme values suggests the income levels are relatively consistent among customers, reinforcing the idea of a mostly middle‑income population with limited variability.\n",
    "- `Customer Lifetime Value`: The distribution shows a short box and a long upper whisker filled with outliers, confirming a heavily right‑skewed pattern. Only a handful of customers generate significantly higher lifetime value compared to the rest."
   ]
  },
  {
   "cell_type": "markdown",
   "id": "29c7d612",
   "metadata": {},
   "source": [
    "**Flights DB**"
   ]
  },
  {
   "cell_type": "markdown",
   "id": "6fd60bfd",
   "metadata": {},
   "source": [
    "- `NumFlights`: The distribution features a moderate spread and a substantial number of outliers (~3,4K) above the upper whisker. This suggests that most customers take few flights per year, while a small portion of highly active travelers fly much more often than average.\n",
    "- `NumFlightsWithCompanions`: The box plot shows a highly concentrated distribution with an extremely large number of outliers (~105K). At first glance, this suggests that most customers rarely travel with companions while a few do so very frequently. However, it’s important to note that this variable is a subset of NumFlights, so customers who didn’t fly at all will automatically appear with zero companion flights. Therefore, this heavy clustering at zero likely reflects both customers who travel alone and those who simply haven’t flown, rather than a true lack of companion travel among active flyers.\n",
    "- `DistanceKM`: The plot has a clear right‑skewed shape, showing that while most customers travel shorter distances, a small subset takes very long-distance flights. These outliers probably correspond to premium or business travelers who contribute heavily to overall distance and value metrics.\n",
    "- `PointsAccumulated`:  As expected, the distribution mirrors the shape of `DistanceKM`, with a long right tail and very similar proportional spread."
   ]
  },
  {
   "cell_type": "markdown",
   "id": "75029a30",
   "metadata": {},
   "source": [
    "#### Categorical Data"
   ]
  },
  {
   "cell_type": "markdown",
   "id": "b6bd8e80",
   "metadata": {},
   "source": [
    "##### Bar Plots"
   ]
  },
  {
   "cell_type": "code",
   "execution_count": null,
   "id": "fb99bbb0",
   "metadata": {},
   "outputs": [],
   "source": [
    "# for categorical in customer (the ordinal ones as well)"
   ]
  },
  {
   "cell_type": "markdown",
   "id": "a944cdba",
   "metadata": {},
   "source": [
    "#### Correlations"
   ]
  },
  {
   "cell_type": "markdown",
   "id": "f8135b4d",
   "metadata": {},
   "source": [
    "##### Numerical & Numerical Data"
   ]
  },
  {
   "cell_type": "markdown",
   "id": "b53f6f9d",
   "metadata": {},
   "source": [
    "**Correlation Heatmap**"
   ]
  },
  {
   "cell_type": "markdown",
   "id": "a99ccec8",
   "metadata": {},
   "source": [
    "**Hexbin Maps** - Continuous & Continous"
   ]
  },
  {
   "cell_type": "markdown",
   "id": "5b4329de",
   "metadata": {},
   "source": [
    "**Distributed (?) Box Plots** - Continuous & Discrete"
   ]
  },
  {
   "cell_type": "markdown",
   "id": "adde3d09",
   "metadata": {},
   "source": [
    "##### Categorical & Categorical Data"
   ]
  },
  {
   "cell_type": "markdown",
   "id": "c63b8015",
   "metadata": {},
   "source": [
    "**Stacked Bar Plots**"
   ]
  },
  {
   "cell_type": "markdown",
   "id": "b917fd24",
   "metadata": {},
   "source": [
    "##### Numerical & Categorical Data"
   ]
  },
  {
   "cell_type": "markdown",
   "id": "529e77a9",
   "metadata": {},
   "source": [
    "**Histogram w/ Colour Overlay**"
   ]
  },
  {
   "cell_type": "markdown",
   "id": "dc1a72e1",
   "metadata": {},
   "source": [
    "### 5. <a id=\"4_5\">Feature Engineering</a>"
   ]
  },
  {
   "cell_type": "markdown",
   "id": "4a702b6b",
   "metadata": {},
   "source": [
    "To use data on the customer level, we'll have to calculate the total and average values on the flight dataset since we currently have 36 rows (12 months for 3 years) for each customer."
   ]
  },
  {
   "cell_type": "code",
   "execution_count": null,
   "id": "25f30bdd",
   "metadata": {},
   "outputs": [],
   "source": []
  },
  {
   "cell_type": "markdown",
   "id": "71062827",
   "metadata": {},
   "source": [
    "#\n",
    "***"
   ]
  },
  {
   "cell_type": "markdown",
   "id": "a216c3e4",
   "metadata": {},
   "source": [
    "## 5. <a id=\"5\">Clustering</a>"
   ]
  },
  {
   "cell_type": "markdown",
   "id": "fb7b1040",
   "metadata": {},
   "source": [
    "***"
   ]
  },
  {
   "cell_type": "markdown",
   "id": "766b1856",
   "metadata": {},
   "source": [
    "## 6. <a id=\"6\">Evaluation</a>"
   ]
  },
  {
   "cell_type": "markdown",
   "id": "cb88a501",
   "metadata": {},
   "source": [
    "***"
   ]
  },
  {
   "cell_type": "markdown",
   "id": "283a772c",
   "metadata": {},
   "source": [
    "## 7. <a id=\"7\">Suggestions</a>"
   ]
  },
  {
   "cell_type": "markdown",
   "id": "7adf9c75",
   "metadata": {},
   "source": [
    "***"
   ]
  }
 ],
 "metadata": {
  "kernelspec": {
   "display_name": "Fall2526",
   "language": "python",
   "name": "python3"
  },
  "language_info": {
   "codemirror_mode": {
    "name": "ipython",
    "version": 3
   },
   "file_extension": ".py",
   "mimetype": "text/x-python",
   "name": "python",
   "nbconvert_exporter": "python",
   "pygments_lexer": "ipython3",
   "version": "3.12.11"
  }
 },
 "nbformat": 4,
 "nbformat_minor": 5
}
