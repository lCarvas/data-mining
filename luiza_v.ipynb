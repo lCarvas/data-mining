{
 "cells": [
  {
   "cell_type": "markdown",
   "id": "1e9b9924",
   "metadata": {},
   "source": [
    "# **Data Mining Project 2025/2026 - Group 8** <br> Amazing International Airlines Inc.\n",
    "**Maria Luiza Salum Alves Corrêa** ***(20221902)*** <br>"
   ]
  },
  {
   "cell_type": "markdown",
   "id": "44518c2c",
   "metadata": {},
   "source": [
    "*** \n",
    "\n",
    "## **Index**\n",
    "\n",
    "***First Delivery***\n",
    "1. [Business Understanding](#1)\n",
    "1. [Imports](#2)\n",
    "1. [Data Analysis](#3)\n",
    "    1. [The Dataset](#3_1)\n",
    "    1. [Data Interpretation](#3_2)\n",
    "1. [Data Preparation - Exploratory Data Analysis (EDA)](#4)\n",
    "    1. [Data Cleaning](#4_1)\n",
    "    1. [Variable Classification](#4_2)\n",
    "    1. [Summary Statistics](#4_3)\n",
    "    1. [Data Visualisation](#4_4)\n",
    "\n",
    "***Second Delivery***\n",
    "\n",
    "5. [Clustering](#5)\n",
    "5. [Evaluation](#6)\n",
    "5. [Suggestions](#7)"
   ]
  },
  {
   "cell_type": "markdown",
   "id": "b895ee21",
   "metadata": {},
   "source": [
    "#\n",
    "***"
   ]
  },
  {
   "cell_type": "markdown",
   "id": "33f87f7c",
   "metadata": {},
   "source": [
    "## 1. <a id=\"1\">Business Understanding</a>"
   ]
  },
  {
   "cell_type": "markdown",
   "id": "abaa3f9a",
   "metadata": {},
   "source": [
    "Our client, **Amazing International Airlines Inc.**, tasked our consulting team with the analysis of their customer loyalty membership data and corresponding flight activity collected over a three-year period. <br>\n",
    "\n",
    "The goal of our analysis is to create useful insights through a segmentation process that consists of grouping and viewing the available data by different lenses; such as *economic contribution*, *behaviours in purchases and travels*, and *demographic divisions*. <br>\n",
    "\n",
    "After sharing the insights, our team will evaluate the results and give AIAI suggestions on how to adapt their services, rewards and communications to meet the needs of the most relevant groups found."
   ]
  },
  {
   "cell_type": "markdown",
   "id": "05e621fe",
   "metadata": {},
   "source": [
    "***"
   ]
  },
  {
   "cell_type": "markdown",
   "id": "087acd4d",
   "metadata": {},
   "source": [
    "## 2. <a id=\"2\">Imports</a>"
   ]
  },
  {
   "cell_type": "code",
   "execution_count": 100,
   "id": "f2380a9c",
   "metadata": {},
   "outputs": [],
   "source": [
    "import pandas as pd\n",
    "import numpy as np\n",
    "import matplotlib.pyplot as plt\n",
    "import seaborn as sns\n",
    "from scipy import stats\n",
    "\n",
    "# import itertools"
   ]
  },
  {
   "cell_type": "markdown",
   "id": "f06e9378",
   "metadata": {},
   "source": [
    "***"
   ]
  },
  {
   "cell_type": "markdown",
   "id": "d39f7278",
   "metadata": {},
   "source": [
    "## 3. <a id=\"3\">Data Analysis</a>"
   ]
  },
  {
   "cell_type": "markdown",
   "id": "f1409d6c",
   "metadata": {},
   "source": [
    "### 1. <a id=\"3_1\">The Dataset</a>"
   ]
  },
  {
   "cell_type": "markdown",
   "id": "60319577",
   "metadata": {},
   "source": [
    "The dataset given to our team consists of three `csv` files:\n",
    "\n",
    "- `DM_AIAI_CustomerDB.csv`\n",
    "\n",
    "*Three (3) years of data related to Customers in the Loyalty Program*\n",
    "- `DM_AIAI_FlightsDB.csv`\n",
    "\n",
    "*Three (3) years of data related to Flights of the Loyalty Program Members*\n",
    "- `DM_AIAI_Metadata.csv`\n",
    "\n",
    "*Description of the Variables in the CustomerDB and FlightDB Files*"
   ]
  },
  {
   "cell_type": "code",
   "execution_count": 101,
   "id": "a076ac22",
   "metadata": {},
   "outputs": [],
   "source": [
    "customerDB = pd.read_csv(r'src\\data\\DM_AIAI_CustomerDB.csv', sep=',')\n",
    "flightDB = pd.read_csv(r'src\\data\\DM_AIAI_FlightsDB.csv', sep=',')\n",
    "metadata = pd.read_csv(r'src\\data\\DM_AIAI_Metadata.csv', sep=';')\n",
    "\n",
    "customerDB_copy = customerDB.copy()\n",
    "flightDB_copy = flightDB.copy()"
   ]
  },
  {
   "cell_type": "code",
   "execution_count": 102,
   "id": "6a637af3",
   "metadata": {},
   "outputs": [
    {
     "data": {
      "text/html": [
       "<div>\n",
       "<style scoped>\n",
       "    .dataframe tbody tr th:only-of-type {\n",
       "        vertical-align: middle;\n",
       "    }\n",
       "\n",
       "    .dataframe tbody tr th {\n",
       "        vertical-align: top;\n",
       "    }\n",
       "\n",
       "    .dataframe thead th {\n",
       "        text-align: right;\n",
       "    }\n",
       "</style>\n",
       "<table border=\"1\" class=\"dataframe\">\n",
       "  <thead>\n",
       "    <tr style=\"text-align: right;\">\n",
       "      <th></th>\n",
       "      <th>CustomerDB</th>\n",
       "      <th>Unnamed: 1</th>\n",
       "      <th>Unnamed: 2</th>\n",
       "      <th>Unnamed: 3</th>\n",
       "    </tr>\n",
       "  </thead>\n",
       "  <tbody>\n",
       "    <tr>\n",
       "      <th>0</th>\n",
       "      <td>NaN</td>\n",
       "      <td>Variable</td>\n",
       "      <td>Description</td>\n",
       "      <td>NaN</td>\n",
       "    </tr>\n",
       "    <tr>\n",
       "      <th>1</th>\n",
       "      <td>NaN</td>\n",
       "      <td>Loyalty#</td>\n",
       "      <td>Unique customer identifier for loyalty program members</td>\n",
       "      <td>NaN</td>\n",
       "    </tr>\n",
       "    <tr>\n",
       "      <th>2</th>\n",
       "      <td>NaN</td>\n",
       "      <td>First Name</td>\n",
       "      <td>Customer's first name</td>\n",
       "      <td>NaN</td>\n",
       "    </tr>\n",
       "    <tr>\n",
       "      <th>3</th>\n",
       "      <td>NaN</td>\n",
       "      <td>Last Name</td>\n",
       "      <td>Customer's last name</td>\n",
       "      <td>NaN</td>\n",
       "    </tr>\n",
       "    <tr>\n",
       "      <th>4</th>\n",
       "      <td>NaN</td>\n",
       "      <td>Customer Name</td>\n",
       "      <td>Customer's full name (concatenated)</td>\n",
       "      <td>NaN</td>\n",
       "    </tr>\n",
       "    <tr>\n",
       "      <th>5</th>\n",
       "      <td>NaN</td>\n",
       "      <td>Country</td>\n",
       "      <td>Customer's country of residence</td>\n",
       "      <td>NaN</td>\n",
       "    </tr>\n",
       "    <tr>\n",
       "      <th>6</th>\n",
       "      <td>NaN</td>\n",
       "      <td>Province or State</td>\n",
       "      <td>Customer's province or state</td>\n",
       "      <td>NaN</td>\n",
       "    </tr>\n",
       "    <tr>\n",
       "      <th>7</th>\n",
       "      <td>NaN</td>\n",
       "      <td>City</td>\n",
       "      <td>Customer's city of residence</td>\n",
       "      <td>NaN</td>\n",
       "    </tr>\n",
       "    <tr>\n",
       "      <th>8</th>\n",
       "      <td>NaN</td>\n",
       "      <td>Latitude</td>\n",
       "      <td>Geographic latitude coordinate of customer location</td>\n",
       "      <td>NaN</td>\n",
       "    </tr>\n",
       "    <tr>\n",
       "      <th>9</th>\n",
       "      <td>NaN</td>\n",
       "      <td>Longitude</td>\n",
       "      <td>Geographic longitude coordinate of customer location</td>\n",
       "      <td>NaN</td>\n",
       "    </tr>\n",
       "    <tr>\n",
       "      <th>10</th>\n",
       "      <td>NaN</td>\n",
       "      <td>Postal code</td>\n",
       "      <td>Customer's postal/ZIP code</td>\n",
       "      <td>NaN</td>\n",
       "    </tr>\n",
       "    <tr>\n",
       "      <th>11</th>\n",
       "      <td>NaN</td>\n",
       "      <td>Gender</td>\n",
       "      <td>Customer's gender</td>\n",
       "      <td>NaN</td>\n",
       "    </tr>\n",
       "    <tr>\n",
       "      <th>12</th>\n",
       "      <td>NaN</td>\n",
       "      <td>Education</td>\n",
       "      <td>Customer's highest education level (Bachelor, College, etc.)</td>\n",
       "      <td>NaN</td>\n",
       "    </tr>\n",
       "    <tr>\n",
       "      <th>13</th>\n",
       "      <td>NaN</td>\n",
       "      <td>Location Code</td>\n",
       "      <td>Urban/Suburban/Rural classification of customer residence</td>\n",
       "      <td>NaN</td>\n",
       "    </tr>\n",
       "    <tr>\n",
       "      <th>14</th>\n",
       "      <td>NaN</td>\n",
       "      <td>Income</td>\n",
       "      <td>Customer's annual income</td>\n",
       "      <td>NaN</td>\n",
       "    </tr>\n",
       "    <tr>\n",
       "      <th>15</th>\n",
       "      <td>NaN</td>\n",
       "      <td>Marital Status</td>\n",
       "      <td>Customer's marital status (Married, Single, Divorced)</td>\n",
       "      <td>NaN</td>\n",
       "    </tr>\n",
       "    <tr>\n",
       "      <th>16</th>\n",
       "      <td>NaN</td>\n",
       "      <td>LoyaltyStatus</td>\n",
       "      <td>Current tier status in loyalty program (Star &gt; Nova &gt; Aurora)</td>\n",
       "      <td>NaN</td>\n",
       "    </tr>\n",
       "    <tr>\n",
       "      <th>17</th>\n",
       "      <td>NaN</td>\n",
       "      <td>EnrollmentDateOpening</td>\n",
       "      <td>Date when customer joined the loyalty program</td>\n",
       "      <td>NaN</td>\n",
       "    </tr>\n",
       "    <tr>\n",
       "      <th>18</th>\n",
       "      <td>NaN</td>\n",
       "      <td>CancellationDate</td>\n",
       "      <td>Date when customer left the program</td>\n",
       "      <td>NaN</td>\n",
       "    </tr>\n",
       "    <tr>\n",
       "      <th>19</th>\n",
       "      <td>NaN</td>\n",
       "      <td>Customer Lifetime Value</td>\n",
       "      <td>Total calculated monetary value of customer relationship</td>\n",
       "      <td>NaN</td>\n",
       "    </tr>\n",
       "    <tr>\n",
       "      <th>20</th>\n",
       "      <td>NaN</td>\n",
       "      <td>EnrollmentType</td>\n",
       "      <td>Method of joining loyalty program</td>\n",
       "      <td>NaN</td>\n",
       "    </tr>\n",
       "    <tr>\n",
       "      <th>21</th>\n",
       "      <td>NaN</td>\n",
       "      <td>NaN</td>\n",
       "      <td>NaN</td>\n",
       "      <td>NaN</td>\n",
       "    </tr>\n",
       "    <tr>\n",
       "      <th>22</th>\n",
       "      <td>FlightsDB</td>\n",
       "      <td>NaN</td>\n",
       "      <td>NaN</td>\n",
       "      <td>NaN</td>\n",
       "    </tr>\n",
       "    <tr>\n",
       "      <th>23</th>\n",
       "      <td>NaN</td>\n",
       "      <td>Variable</td>\n",
       "      <td>Description</td>\n",
       "      <td>NaN</td>\n",
       "    </tr>\n",
       "    <tr>\n",
       "      <th>24</th>\n",
       "      <td>NaN</td>\n",
       "      <td>Loyalty#</td>\n",
       "      <td>Unique customer identifier linking to CustomerDB</td>\n",
       "      <td>NaN</td>\n",
       "    </tr>\n",
       "    <tr>\n",
       "      <th>25</th>\n",
       "      <td>NaN</td>\n",
       "      <td>Year</td>\n",
       "      <td>Year of flight activity record</td>\n",
       "      <td>NaN</td>\n",
       "    </tr>\n",
       "    <tr>\n",
       "      <th>26</th>\n",
       "      <td>NaN</td>\n",
       "      <td>Month</td>\n",
       "      <td>Month of flight activity record (1-12)</td>\n",
       "      <td>NaN</td>\n",
       "    </tr>\n",
       "    <tr>\n",
       "      <th>27</th>\n",
       "      <td>NaN</td>\n",
       "      <td>YearMonthDate</td>\n",
       "      <td>First day of the month for the activity period</td>\n",
       "      <td>NaN</td>\n",
       "    </tr>\n",
       "    <tr>\n",
       "      <th>28</th>\n",
       "      <td>NaN</td>\n",
       "      <td>NumFlights</td>\n",
       "      <td>Total number of flights taken by customer in the month</td>\n",
       "      <td>NaN</td>\n",
       "    </tr>\n",
       "    <tr>\n",
       "      <th>29</th>\n",
       "      <td>NaN</td>\n",
       "      <td>NumFlightsWithCompanions</td>\n",
       "      <td>Number of flights where customer traveled with companions</td>\n",
       "      <td>NaN</td>\n",
       "    </tr>\n",
       "    <tr>\n",
       "      <th>30</th>\n",
       "      <td>NaN</td>\n",
       "      <td>DistanceKM</td>\n",
       "      <td>Total distance traveled in kilometers for the month</td>\n",
       "      <td>NaN</td>\n",
       "    </tr>\n",
       "    <tr>\n",
       "      <th>31</th>\n",
       "      <td>NaN</td>\n",
       "      <td>PointsAccumulated</td>\n",
       "      <td>Loyalty points earned by customer during the month</td>\n",
       "      <td>NaN</td>\n",
       "    </tr>\n",
       "    <tr>\n",
       "      <th>32</th>\n",
       "      <td>NaN</td>\n",
       "      <td>PointsRedeemed</td>\n",
       "      <td>Loyalty points spent/redeemed by customer during the month</td>\n",
       "      <td>NaN</td>\n",
       "    </tr>\n",
       "    <tr>\n",
       "      <th>33</th>\n",
       "      <td>NaN</td>\n",
       "      <td>DollarCostPointsRedeemed</td>\n",
       "      <td>Dollar value of points redeemed during the month</td>\n",
       "      <td>NaN</td>\n",
       "    </tr>\n",
       "  </tbody>\n",
       "</table>\n",
       "</div>"
      ],
      "text/plain": [
       "   CustomerDB                Unnamed: 1  \\\n",
       "0         NaN                  Variable   \n",
       "1         NaN                  Loyalty#   \n",
       "2         NaN                First Name   \n",
       "3         NaN                 Last Name   \n",
       "4         NaN             Customer Name   \n",
       "5         NaN                   Country   \n",
       "6         NaN         Province or State   \n",
       "7         NaN                      City   \n",
       "8         NaN                  Latitude   \n",
       "9         NaN                 Longitude   \n",
       "10        NaN               Postal code   \n",
       "11        NaN                    Gender   \n",
       "12        NaN                 Education   \n",
       "13        NaN             Location Code   \n",
       "14        NaN                    Income   \n",
       "15        NaN            Marital Status   \n",
       "16        NaN             LoyaltyStatus   \n",
       "17        NaN     EnrollmentDateOpening   \n",
       "18        NaN          CancellationDate   \n",
       "19        NaN   Customer Lifetime Value   \n",
       "20        NaN            EnrollmentType   \n",
       "21        NaN                       NaN   \n",
       "22  FlightsDB                       NaN   \n",
       "23        NaN                  Variable   \n",
       "24        NaN                  Loyalty#   \n",
       "25        NaN                      Year   \n",
       "26        NaN                     Month   \n",
       "27        NaN             YearMonthDate   \n",
       "28        NaN                NumFlights   \n",
       "29        NaN  NumFlightsWithCompanions   \n",
       "30        NaN                DistanceKM   \n",
       "31        NaN         PointsAccumulated   \n",
       "32        NaN            PointsRedeemed   \n",
       "33        NaN  DollarCostPointsRedeemed   \n",
       "\n",
       "                                                       Unnamed: 2  Unnamed: 3  \n",
       "0                                                     Description         NaN  \n",
       "1          Unique customer identifier for loyalty program members         NaN  \n",
       "2                                           Customer's first name         NaN  \n",
       "3                                            Customer's last name         NaN  \n",
       "4                             Customer's full name (concatenated)         NaN  \n",
       "5                                 Customer's country of residence         NaN  \n",
       "6                                    Customer's province or state         NaN  \n",
       "7                                    Customer's city of residence         NaN  \n",
       "8             Geographic latitude coordinate of customer location         NaN  \n",
       "9            Geographic longitude coordinate of customer location         NaN  \n",
       "10                                     Customer's postal/ZIP code         NaN  \n",
       "11                                              Customer's gender         NaN  \n",
       "12   Customer's highest education level (Bachelor, College, etc.)         NaN  \n",
       "13      Urban/Suburban/Rural classification of customer residence         NaN  \n",
       "14                                       Customer's annual income         NaN  \n",
       "15          Customer's marital status (Married, Single, Divorced)         NaN  \n",
       "16  Current tier status in loyalty program (Star > Nova > Aurora)         NaN  \n",
       "17                  Date when customer joined the loyalty program         NaN  \n",
       "18                            Date when customer left the program         NaN  \n",
       "19       Total calculated monetary value of customer relationship         NaN  \n",
       "20                              Method of joining loyalty program         NaN  \n",
       "21                                                            NaN         NaN  \n",
       "22                                                            NaN         NaN  \n",
       "23                                                    Description         NaN  \n",
       "24               Unique customer identifier linking to CustomerDB         NaN  \n",
       "25                                 Year of flight activity record         NaN  \n",
       "26                         Month of flight activity record (1-12)         NaN  \n",
       "27                 First day of the month for the activity period         NaN  \n",
       "28         Total number of flights taken by customer in the month         NaN  \n",
       "29      Number of flights where customer traveled with companions         NaN  \n",
       "30            Total distance traveled in kilometers for the month         NaN  \n",
       "31             Loyalty points earned by customer during the month         NaN  \n",
       "32     Loyalty points spent/redeemed by customer during the month         NaN  \n",
       "33               Dollar value of points redeemed during the month         NaN  "
      ]
     },
     "execution_count": 102,
     "metadata": {},
     "output_type": "execute_result"
    }
   ],
   "source": [
    "pd.set_option('display.max_colwidth', None)  # To see full descriptions\n",
    "metadata"
   ]
  },
  {
   "cell_type": "markdown",
   "id": "1eaf4ef3",
   "metadata": {},
   "source": [
    "#### Initial Conclusions - Feature Selection\n",
    "*What conclusions can we make from the metadata?*"
   ]
  },
  {
   "cell_type": "markdown",
   "id": "2161ed8a",
   "metadata": {},
   "source": [
    "##### Customer DB"
   ]
  },
  {
   "cell_type": "markdown",
   "id": "17dc674a",
   "metadata": {},
   "source": [
    "**Useful:**\n",
    "- `Loyalty#`: Will be used. Connects Customer's and Flights' information.\n",
    "\n",
    "**Will be Dropped:**\n",
    "- `First Name`, `Last Name`, `Customer Name`: First two are redundant since we have the full name, but this information is irrelevant for clustering anyways. We'll drop everything after data cleaning. *(Keeping `Customer Name` for now to check something with the IDs)*\n",
    "- `Latitude`, `Longitude`, `Postal code`: No need for specific customer location. *(Spoilers: We checked, some coordinates lead to nowhere and just make no sense overall)*\n",
    "\n",
    "**No Conclusions:** <br>\n",
    "*May be relevant. No conclusions about data quality from metadata.*\n",
    "- `Country`\n",
    "- `Province or State`\n",
    "- `City`\n",
    "- `Postal Code`\n",
    "- `Gender`\n",
    "- `Education`\n",
    "- `Location Code`\n",
    "- `Income`\n",
    "- `Marital Status`\n",
    "- `Loyalty Status`\n",
    "- `EnrollmentDataOpening`\n",
    "- `CancellationDate`\n",
    "- `Customer Lifetime Value`\n",
    "- `EnrollmentType`"
   ]
  },
  {
   "cell_type": "code",
   "execution_count": 103,
   "id": "f783195b",
   "metadata": {},
   "outputs": [
    {
     "name": "stdout",
     "output_type": "stream",
     "text": [
      "<class 'pandas.core.frame.DataFrame'>\n",
      "RangeIndex: 16921 entries, 0 to 16920\n",
      "Data columns (total 16 columns):\n",
      " #   Column                   Non-Null Count  Dtype  \n",
      "---  ------                   --------------  -----  \n",
      " 0   Unnamed: 0               16921 non-null  int64  \n",
      " 1   Loyalty#                 16921 non-null  int64  \n",
      " 2   Customer Name            16921 non-null  object \n",
      " 3   Country                  16921 non-null  object \n",
      " 4   Province or State        16921 non-null  object \n",
      " 5   City                     16921 non-null  object \n",
      " 6   Gender                   16921 non-null  object \n",
      " 7   Education                16921 non-null  object \n",
      " 8   Location Code            16921 non-null  object \n",
      " 9   Income                   16901 non-null  float64\n",
      " 10  Marital Status           16921 non-null  object \n",
      " 11  LoyaltyStatus            16921 non-null  object \n",
      " 12  EnrollmentDateOpening    16921 non-null  object \n",
      " 13  CancellationDate         2310 non-null   object \n",
      " 14  Customer Lifetime Value  16901 non-null  float64\n",
      " 15  EnrollmentType           16921 non-null  object \n",
      "dtypes: float64(2), int64(2), object(12)\n",
      "memory usage: 2.1+ MB\n"
     ]
    }
   ],
   "source": [
    "customerDB_copy.drop(columns=['First Name', 'Last Name', 'Latitude', 'Longitude', 'Postal code'], inplace=True)\n",
    "customerDB_copy.info()"
   ]
  },
  {
   "cell_type": "markdown",
   "id": "18e5da0b",
   "metadata": {},
   "source": [
    "From the non-null count, we can see that there are only three variables with missing values: `Income`, `CancellationDate` and `Customer Lifetime Value`. Having null values in `CancellationDate` clearly makes sense as we don't expect all customers in the dataset to have cancelled their membership. For `Income` and `Customer Lifetime Value`, we'll try to understand the reason later."
   ]
  },
  {
   "cell_type": "code",
   "execution_count": 104,
   "id": "5f5bbd77",
   "metadata": {},
   "outputs": [],
   "source": [
    "# There's a random column with no name, let's drop it\n",
    "customerDB_copy.drop(columns=['Unnamed: 0'], inplace=True)"
   ]
  },
  {
   "cell_type": "markdown",
   "id": "0ad62d46",
   "metadata": {},
   "source": [
    "##### Flights DB"
   ]
  },
  {
   "cell_type": "markdown",
   "id": "c6d05908",
   "metadata": {},
   "source": [
    "**Useful:**\n",
    "- `Loyalty#`: Will be used. Connects Customer's and Flights' information.\n",
    "\n",
    "**Will be Dropped:**\n",
    "- `YearMonthDate`: Contains the same info as `Month` and `Year` with a constant date.\n",
    "- `DollarCostPointsRedeemed`: Redundant. `PointsRedeemed` gives the same information.\n",
    "\n",
    "**No Conclusions:** <br>\n",
    "*May be relevant. No conclusions about data quality from metadata.*\n",
    "- `Year`\n",
    "- `Month`\n",
    "- `NumFlights`\n",
    "- `NumFlightsWithCompanions`*\n",
    "- `DistanceKM`\n",
    "- `PointsAccumulated`\n",
    "- `PointsRedeemed`\n",
    "\n",
    "**We will assume `NumFlightsWithCompanions` is also a \"count by month\" even though it's not mentioned in the metadata.*"
   ]
  },
  {
   "cell_type": "code",
   "execution_count": 105,
   "id": "bff772a6",
   "metadata": {},
   "outputs": [
    {
     "name": "stdout",
     "output_type": "stream",
     "text": [
      "<class 'pandas.core.frame.DataFrame'>\n",
      "RangeIndex: 608436 entries, 0 to 608435\n",
      "Data columns (total 8 columns):\n",
      " #   Column                    Non-Null Count   Dtype  \n",
      "---  ------                    --------------   -----  \n",
      " 0   Loyalty#                  608436 non-null  int64  \n",
      " 1   Year                      608436 non-null  int64  \n",
      " 2   Month                     608436 non-null  int64  \n",
      " 3   NumFlights                608436 non-null  float64\n",
      " 4   NumFlightsWithCompanions  608436 non-null  float64\n",
      " 5   DistanceKM                608436 non-null  float64\n",
      " 6   PointsAccumulated         608436 non-null  float64\n",
      " 7   PointsRedeemed            608436 non-null  float64\n",
      "dtypes: float64(5), int64(3)\n",
      "memory usage: 37.1 MB\n"
     ]
    }
   ],
   "source": [
    "flightDB_copy.drop(columns=['YearMonthDate', 'DollarCostPointsRedeemed'], inplace=True)\n",
    "flightDB_copy.info()"
   ]
  },
  {
   "cell_type": "markdown",
   "id": "cd9906a6",
   "metadata": {},
   "source": [
    "There are no null values in any variable. We'll take a closer look into the dataset when preparing the data. There might be missing values that are non-null since they could look like \"-\", \"Null\", \"Missing\", etc."
   ]
  },
  {
   "cell_type": "markdown",
   "id": "efd787d4",
   "metadata": {},
   "source": [
    "### 2. <a id=\"3_2\">Data Interpretation</a>"
   ]
  },
  {
   "cell_type": "markdown",
   "id": "1981bd95",
   "metadata": {},
   "source": [
    "<div class=\"alert alert-block alert-info\">\n",
    "ADD YAPPING SESSION HERE\n",
    "</div>"
   ]
  },
  {
   "cell_type": "markdown",
   "id": "da15c74b",
   "metadata": {},
   "source": [
    "***"
   ]
  },
  {
   "cell_type": "markdown",
   "id": "6874c0a2",
   "metadata": {},
   "source": [
    "## 4. <a id=\"4\">Data Preparation - Exploratory Data Analysis (EDA)</a>"
   ]
  },
  {
   "cell_type": "markdown",
   "id": "563fb24c",
   "metadata": {},
   "source": [
    "There's a possibility of having some rows that the only plausible option is removing them from the dataset due to uncorrectable errors. For this reason, we are going to define variables to keep track of how many rows we are dropping.\n",
    "\n",
    "We are going to assume that an acceptable threshold is 3% of the dataset."
   ]
  },
  {
   "cell_type": "code",
   "execution_count": 106,
   "id": "da88b60c",
   "metadata": {},
   "outputs": [
    {
     "name": "stdout",
     "output_type": "stream",
     "text": [
      "Available rows to drop in customerDB: 507.63 (3%)\n",
      "Available rows to drop in flightDB: 18253.079999999998 (3%)\n"
     ]
    }
   ],
   "source": [
    "customer_dropped_rows = 0\n",
    "customer_original_rows = customerDB.shape[0]\n",
    "customer_dropped_percentage = 0\n",
    "customer_available_to_drop = (customer_original_rows * 0.03) - customer_dropped_rows\n",
    "print(f\"Available rows to drop in customerDB: {customer_available_to_drop} ({(customer_available_to_drop/customer_original_rows)*100:.0f}%)\")\n",
    "\n",
    "flight_dropped_rows = 0\n",
    "flight_original_rows = flightDB.shape[0]\n",
    "flight_dropped_percentage = 0\n",
    "flight_available_to_drop = (flight_original_rows * 0.03) - flight_dropped_rows\n",
    "print(f\"Available rows to drop in flightDB: {flight_available_to_drop} ({(flight_available_to_drop/flight_original_rows)*100:.0f}%)\")"
   ]
  },
  {
   "cell_type": "code",
   "execution_count": 107,
   "id": "a07664ab",
   "metadata": {},
   "outputs": [
    {
     "data": {
      "text/html": [
       "<div>\n",
       "<style scoped>\n",
       "    .dataframe tbody tr th:only-of-type {\n",
       "        vertical-align: middle;\n",
       "    }\n",
       "\n",
       "    .dataframe tbody tr th {\n",
       "        vertical-align: top;\n",
       "    }\n",
       "\n",
       "    .dataframe thead th {\n",
       "        text-align: right;\n",
       "    }\n",
       "</style>\n",
       "<table border=\"1\" class=\"dataframe\">\n",
       "  <thead>\n",
       "    <tr style=\"text-align: right;\">\n",
       "      <th></th>\n",
       "      <th>Loyalty#</th>\n",
       "      <th>Customer Name</th>\n",
       "      <th>Country</th>\n",
       "      <th>Province or State</th>\n",
       "      <th>City</th>\n",
       "      <th>Gender</th>\n",
       "      <th>Education</th>\n",
       "      <th>Location Code</th>\n",
       "      <th>Income</th>\n",
       "      <th>Marital Status</th>\n",
       "      <th>LoyaltyStatus</th>\n",
       "      <th>EnrollmentDateOpening</th>\n",
       "      <th>CancellationDate</th>\n",
       "      <th>Customer Lifetime Value</th>\n",
       "      <th>EnrollmentType</th>\n",
       "    </tr>\n",
       "  </thead>\n",
       "  <tbody>\n",
       "    <tr>\n",
       "      <th>0</th>\n",
       "      <td>480934</td>\n",
       "      <td>Cecilia Householder</td>\n",
       "      <td>Canada</td>\n",
       "      <td>Ontario</td>\n",
       "      <td>Toronto</td>\n",
       "      <td>female</td>\n",
       "      <td>Bachelor</td>\n",
       "      <td>Urban</td>\n",
       "      <td>70146.0</td>\n",
       "      <td>Married</td>\n",
       "      <td>Star</td>\n",
       "      <td>2/15/2019</td>\n",
       "      <td>NaN</td>\n",
       "      <td>3839.14</td>\n",
       "      <td>Standard</td>\n",
       "    </tr>\n",
       "    <tr>\n",
       "      <th>1</th>\n",
       "      <td>549612</td>\n",
       "      <td>Dayle Menez</td>\n",
       "      <td>Canada</td>\n",
       "      <td>Alberta</td>\n",
       "      <td>Edmonton</td>\n",
       "      <td>male</td>\n",
       "      <td>College</td>\n",
       "      <td>Rural</td>\n",
       "      <td>0.0</td>\n",
       "      <td>Divorced</td>\n",
       "      <td>Star</td>\n",
       "      <td>3/9/2019</td>\n",
       "      <td>NaN</td>\n",
       "      <td>3839.61</td>\n",
       "      <td>Standard</td>\n",
       "    </tr>\n",
       "    <tr>\n",
       "      <th>2</th>\n",
       "      <td>429460</td>\n",
       "      <td>Necole Hannon</td>\n",
       "      <td>Canada</td>\n",
       "      <td>British Columbia</td>\n",
       "      <td>Vancouver</td>\n",
       "      <td>male</td>\n",
       "      <td>College</td>\n",
       "      <td>Urban</td>\n",
       "      <td>0.0</td>\n",
       "      <td>Single</td>\n",
       "      <td>Star</td>\n",
       "      <td>7/14/2017</td>\n",
       "      <td>1/8/2021</td>\n",
       "      <td>3839.75</td>\n",
       "      <td>Standard</td>\n",
       "    </tr>\n",
       "    <tr>\n",
       "      <th>3</th>\n",
       "      <td>608370</td>\n",
       "      <td>Queen Hagee</td>\n",
       "      <td>Canada</td>\n",
       "      <td>Ontario</td>\n",
       "      <td>Toronto</td>\n",
       "      <td>male</td>\n",
       "      <td>College</td>\n",
       "      <td>Suburban</td>\n",
       "      <td>0.0</td>\n",
       "      <td>Single</td>\n",
       "      <td>Star</td>\n",
       "      <td>2/17/2016</td>\n",
       "      <td>NaN</td>\n",
       "      <td>3839.75</td>\n",
       "      <td>Standard</td>\n",
       "    </tr>\n",
       "    <tr>\n",
       "      <th>4</th>\n",
       "      <td>530508</td>\n",
       "      <td>Claire Latting</td>\n",
       "      <td>Canada</td>\n",
       "      <td>Quebec</td>\n",
       "      <td>Hull</td>\n",
       "      <td>male</td>\n",
       "      <td>Bachelor</td>\n",
       "      <td>Suburban</td>\n",
       "      <td>97832.0</td>\n",
       "      <td>Married</td>\n",
       "      <td>Star</td>\n",
       "      <td>10/25/2017</td>\n",
       "      <td>NaN</td>\n",
       "      <td>3842.79</td>\n",
       "      <td>2021 Promotion</td>\n",
       "    </tr>\n",
       "  </tbody>\n",
       "</table>\n",
       "</div>"
      ],
      "text/plain": [
       "   Loyalty#        Customer Name Country Province or State       City  Gender  \\\n",
       "0    480934  Cecilia Householder  Canada           Ontario    Toronto  female   \n",
       "1    549612          Dayle Menez  Canada           Alberta   Edmonton    male   \n",
       "2    429460        Necole Hannon  Canada  British Columbia  Vancouver    male   \n",
       "3    608370          Queen Hagee  Canada           Ontario    Toronto    male   \n",
       "4    530508       Claire Latting  Canada            Quebec       Hull    male   \n",
       "\n",
       "  Education Location Code   Income Marital Status LoyaltyStatus  \\\n",
       "0  Bachelor         Urban  70146.0        Married          Star   \n",
       "1   College         Rural      0.0       Divorced          Star   \n",
       "2   College         Urban      0.0         Single          Star   \n",
       "3   College      Suburban      0.0         Single          Star   \n",
       "4  Bachelor      Suburban  97832.0        Married          Star   \n",
       "\n",
       "  EnrollmentDateOpening CancellationDate  Customer Lifetime Value  \\\n",
       "0             2/15/2019              NaN                  3839.14   \n",
       "1              3/9/2019              NaN                  3839.61   \n",
       "2             7/14/2017         1/8/2021                  3839.75   \n",
       "3             2/17/2016              NaN                  3839.75   \n",
       "4            10/25/2017              NaN                  3842.79   \n",
       "\n",
       "   EnrollmentType  \n",
       "0        Standard  \n",
       "1        Standard  \n",
       "2        Standard  \n",
       "3        Standard  \n",
       "4  2021 Promotion  "
      ]
     },
     "execution_count": 107,
     "metadata": {},
     "output_type": "execute_result"
    }
   ],
   "source": [
    "customerDB_copy.head()"
   ]
  },
  {
   "cell_type": "code",
   "execution_count": 108,
   "id": "57a50000",
   "metadata": {},
   "outputs": [
    {
     "name": "stdout",
     "output_type": "stream",
     "text": [
      "Loyalty#: 16757 unique values\n",
      "\n",
      "Customer Name: 16921 unique values\n",
      "\n",
      "Country: 1 unique values\n",
      "\n",
      "Country\n",
      "Canada    16921\n",
      "Name: count, dtype: int64\n",
      "\n",
      "Province or State: 11 unique values\n",
      "\n",
      "Province or State\n",
      "Ontario                 5468\n",
      "British Columbia        4416\n",
      "Quebec                  3311\n",
      "Alberta                 1008\n",
      "Manitoba                 676\n",
      "New Brunswick            652\n",
      "Nova Scotia              541\n",
      "Saskatchewan             412\n",
      "Newfoundland             258\n",
      "Yukon                    112\n",
      "Prince Edward Island      67\n",
      "Name: count, dtype: int64\n",
      "\n",
      "City: 29 unique values\n",
      "\n",
      "Gender: 2 unique values\n",
      "\n",
      "Gender\n",
      "female    8497\n",
      "male      8424\n",
      "Name: count, dtype: int64\n",
      "\n",
      "Education: 5 unique values\n",
      "\n",
      "Education\n",
      "Bachelor                10586\n",
      "College                  4283\n",
      "High School or Below      792\n",
      "Doctor                    742\n",
      "Master                    518\n",
      "Name: count, dtype: int64\n",
      "\n",
      "Location Code: 3 unique values\n",
      "\n",
      "Location Code\n",
      "Suburban    5716\n",
      "Rural       5668\n",
      "Urban       5537\n",
      "Name: count, dtype: int64\n",
      "\n",
      "Income: 5694 unique values\n",
      "\n",
      "Marital Status: 3 unique values\n",
      "\n",
      "Marital Status\n",
      "Married     9842\n",
      "Single      4539\n",
      "Divorced    2540\n",
      "Name: count, dtype: int64\n",
      "\n",
      "LoyaltyStatus: 3 unique values\n",
      "\n",
      "LoyaltyStatus\n",
      "Star      7761\n",
      "Nova      5722\n",
      "Aurora    3438\n",
      "Name: count, dtype: int64\n",
      "\n",
      "EnrollmentDateOpening: 2449 unique values\n",
      "\n",
      "CancellationDate: 1260 unique values\n",
      "\n",
      "Customer Lifetime Value: 7996 unique values\n",
      "\n",
      "EnrollmentType: 2 unique values\n",
      "\n",
      "EnrollmentType\n",
      "Standard          15773\n",
      "2021 Promotion     1148\n",
      "Name: count, dtype: int64\n",
      "\n"
     ]
    }
   ],
   "source": [
    "# Seeing the different values in each variable and if they're less than 15, printing them bellow\n",
    "for variable in customerDB_copy.columns:\n",
    "    print(f\"{variable}: {customerDB_copy[variable].nunique()} unique values\\n\")\n",
    "    if customerDB_copy[variable].nunique() < 15:\n",
    "        print(f\"{customerDB_copy[variable].value_counts()}\\n\")"
   ]
  },
  {
   "cell_type": "code",
   "execution_count": 109,
   "id": "948fdc1e",
   "metadata": {},
   "outputs": [
    {
     "data": {
      "text/html": [
       "<div>\n",
       "<style scoped>\n",
       "    .dataframe tbody tr th:only-of-type {\n",
       "        vertical-align: middle;\n",
       "    }\n",
       "\n",
       "    .dataframe tbody tr th {\n",
       "        vertical-align: top;\n",
       "    }\n",
       "\n",
       "    .dataframe thead th {\n",
       "        text-align: right;\n",
       "    }\n",
       "</style>\n",
       "<table border=\"1\" class=\"dataframe\">\n",
       "  <thead>\n",
       "    <tr style=\"text-align: right;\">\n",
       "      <th></th>\n",
       "      <th>Loyalty#</th>\n",
       "      <th>Year</th>\n",
       "      <th>Month</th>\n",
       "      <th>NumFlights</th>\n",
       "      <th>NumFlightsWithCompanions</th>\n",
       "      <th>DistanceKM</th>\n",
       "      <th>PointsAccumulated</th>\n",
       "      <th>PointsRedeemed</th>\n",
       "    </tr>\n",
       "  </thead>\n",
       "  <tbody>\n",
       "    <tr>\n",
       "      <th>0</th>\n",
       "      <td>413052</td>\n",
       "      <td>2021</td>\n",
       "      <td>12</td>\n",
       "      <td>2.0</td>\n",
       "      <td>2.0</td>\n",
       "      <td>9384.0</td>\n",
       "      <td>938.0</td>\n",
       "      <td>0.0</td>\n",
       "    </tr>\n",
       "    <tr>\n",
       "      <th>1</th>\n",
       "      <td>464105</td>\n",
       "      <td>2021</td>\n",
       "      <td>12</td>\n",
       "      <td>0.0</td>\n",
       "      <td>0.0</td>\n",
       "      <td>0.0</td>\n",
       "      <td>0.0</td>\n",
       "      <td>0.0</td>\n",
       "    </tr>\n",
       "    <tr>\n",
       "      <th>2</th>\n",
       "      <td>681785</td>\n",
       "      <td>2021</td>\n",
       "      <td>12</td>\n",
       "      <td>10.0</td>\n",
       "      <td>3.0</td>\n",
       "      <td>14745.0</td>\n",
       "      <td>1474.0</td>\n",
       "      <td>0.0</td>\n",
       "    </tr>\n",
       "    <tr>\n",
       "      <th>3</th>\n",
       "      <td>185013</td>\n",
       "      <td>2021</td>\n",
       "      <td>12</td>\n",
       "      <td>16.0</td>\n",
       "      <td>4.0</td>\n",
       "      <td>26311.0</td>\n",
       "      <td>2631.0</td>\n",
       "      <td>3213.0</td>\n",
       "    </tr>\n",
       "    <tr>\n",
       "      <th>4</th>\n",
       "      <td>216596</td>\n",
       "      <td>2021</td>\n",
       "      <td>12</td>\n",
       "      <td>9.0</td>\n",
       "      <td>0.0</td>\n",
       "      <td>19275.0</td>\n",
       "      <td>1927.0</td>\n",
       "      <td>0.0</td>\n",
       "    </tr>\n",
       "  </tbody>\n",
       "</table>\n",
       "</div>"
      ],
      "text/plain": [
       "   Loyalty#  Year  Month  NumFlights  NumFlightsWithCompanions  DistanceKM  \\\n",
       "0    413052  2021     12         2.0                       2.0      9384.0   \n",
       "1    464105  2021     12         0.0                       0.0         0.0   \n",
       "2    681785  2021     12        10.0                       3.0     14745.0   \n",
       "3    185013  2021     12        16.0                       4.0     26311.0   \n",
       "4    216596  2021     12         9.0                       0.0     19275.0   \n",
       "\n",
       "   PointsAccumulated  PointsRedeemed  \n",
       "0              938.0             0.0  \n",
       "1                0.0             0.0  \n",
       "2             1474.0             0.0  \n",
       "3             2631.0          3213.0  \n",
       "4             1927.0             0.0  "
      ]
     },
     "execution_count": 109,
     "metadata": {},
     "output_type": "execute_result"
    }
   ],
   "source": [
    "flightDB_copy.head()"
   ]
  },
  {
   "cell_type": "code",
   "execution_count": 110,
   "id": "71067e31",
   "metadata": {},
   "outputs": [
    {
     "name": "stdout",
     "output_type": "stream",
     "text": [
      "Loyalty#: 16737 unique values\n",
      "\n",
      "Year: 3 unique values\n",
      "\n",
      "Year\n",
      "2021    202812\n",
      "2020    202812\n",
      "2019    202812\n",
      "Name: count, dtype: int64\n",
      "\n",
      "Month: 12 unique values\n",
      "\n",
      "Month\n",
      "12    50703\n",
      "6     50703\n",
      "5     50703\n",
      "4     50703\n",
      "3     50703\n",
      "2     50703\n",
      "1     50703\n",
      "11    50703\n",
      "10    50703\n",
      "9     50703\n",
      "8     50703\n",
      "7     50703\n",
      "Name: count, dtype: int64\n",
      "\n",
      "NumFlights: 41 unique values\n",
      "\n",
      "NumFlightsWithCompanions: 22 unique values\n",
      "\n",
      "DistanceKM: 66762 unique values\n",
      "\n",
      "PointsAccumulated: 37064 unique values\n",
      "\n",
      "PointsRedeemed: 8146 unique values\n",
      "\n"
     ]
    }
   ],
   "source": [
    "# Seeing the different values in each variable and if they're less than 15, printing them bellow\n",
    "for variable in flightDB_copy.columns:\n",
    "    print(f\"{variable}: {flightDB_copy[variable].nunique()} unique values\\n\")\n",
    "    if flightDB_copy[variable].nunique() < 15:\n",
    "        print(f\"{flightDB_copy[variable].value_counts()}\\n\")"
   ]
  },
  {
   "cell_type": "markdown",
   "id": "e68c1ef4",
   "metadata": {},
   "source": [
    "### 1. <a id=\"4_1\">Data Cleaning</a>"
   ]
  },
  {
   "cell_type": "markdown",
   "id": "790e091d",
   "metadata": {},
   "source": [
    "##### Loyalty# *(+ Customer Name)*"
   ]
  },
  {
   "cell_type": "code",
   "execution_count": 111,
   "id": "e794db35",
   "metadata": {},
   "outputs": [
    {
     "name": "stdout",
     "output_type": "stream",
     "text": [
      "164\n",
      "0\n"
     ]
    }
   ],
   "source": [
    "# Confirming how many rows have repeated Loyalty#\n",
    "print(customerDB_copy['Loyalty#'].duplicated().sum())\n",
    "# Confirming if the whole row is duplicated\n",
    "print(customerDB_copy.duplicated().sum())"
   ]
  },
  {
   "cell_type": "markdown",
   "id": "f3aa03a3",
   "metadata": {},
   "source": [
    "We kept `Customer Name` before so we could check if they're the same for repeated Loyalty IDs, but this is not the case as the unique values count is 16921. This means that we cannot use the name to fix the issue with duplicated IDs (they're not the same person).\n",
    "\n",
    "We could assign new random values to the repeated IDs, but the FlightsDB dataset is connected to each customer through this variable, so it makes no sense to change it in the CustomerDB since this would mean that they have no associated flights.\n",
    "\n",
    "We'll now drop `Customer Name` and remove the rows with repeated Loyalty ID."
   ]
  },
  {
   "cell_type": "code",
   "execution_count": 112,
   "id": "fa04ec4d",
   "metadata": {},
   "outputs": [],
   "source": [
    "# Dropping Customer Name\n",
    "customerDB_copy.drop(columns=['Customer Name'], inplace=True)"
   ]
  },
  {
   "cell_type": "code",
   "execution_count": 113,
   "id": "ea3c034f",
   "metadata": {},
   "outputs": [
    {
     "name": "stdout",
     "output_type": "stream",
     "text": [
      "Total dropped rows: 164, which is 0.97% of the original dataset. We can still drop 343.63 rows.\n"
     ]
    }
   ],
   "source": [
    "# Keeping only one of the duplicated rows and adding the number of dropped rows to the counter\n",
    "for loyalty_id in customerDB_copy['Loyalty#'][customerDB_copy['Loyalty#'].duplicated()]: # for each duplicated Loyalty#\n",
    "    duplicated_rows = customerDB_copy[customerDB_copy['Loyalty#'] == loyalty_id] # getting the duplicated rows\n",
    "    customerDB_copy.drop(duplicated_rows.index[1:], inplace=True) # dropping from the second to the last (just in case there are more than 2)\n",
    "    customer_dropped_rows += len(duplicated_rows) - 1 # adding the number of dropped rows to the counter\n",
    "    \n",
    "customer_dropped_percentage = customer_dropped_rows / customer_original_rows * 100\n",
    "customer_available_to_drop -= customer_dropped_rows\n",
    "print(f\"Total dropped rows: {customer_dropped_rows}, which is {customer_dropped_percentage:.2f}% of the original dataset. We can still drop {customer_available_to_drop} rows.\")"
   ]
  },
  {
   "cell_type": "markdown",
   "id": "6f600a2a",
   "metadata": {},
   "source": [
    "##### Country"
   ]
  },
  {
   "cell_type": "markdown",
   "id": "0d0747ce",
   "metadata": {},
   "source": [
    "`Country` is a constant feature (Canada). We'll drop this column."
   ]
  },
  {
   "cell_type": "code",
   "execution_count": 114,
   "id": "5e13f583",
   "metadata": {},
   "outputs": [],
   "source": [
    "# Dropping Country \n",
    "customerDB_copy.drop(columns=['Country'], inplace=True)"
   ]
  },
  {
   "cell_type": "markdown",
   "id": "f27e7e9c",
   "metadata": {},
   "source": [
    "#### City"
   ]
  },
  {
   "cell_type": "markdown",
   "id": "e3e7b264",
   "metadata": {},
   "source": [
    "Checking if all cities in the list are Canadian cities."
   ]
  },
  {
   "cell_type": "code",
   "execution_count": 115,
   "id": "76db8873",
   "metadata": {},
   "outputs": [
    {
     "data": {
      "text/plain": [
       "array(['Toronto', 'Edmonton', 'Vancouver', 'Hull', 'Whitehorse',\n",
       "       'Trenton', 'Montreal', 'Dawson Creek', 'Quebec City', 'Moncton',\n",
       "       'Fredericton', 'Ottawa', 'Tremblant', 'Calgary', 'Whistler',\n",
       "       'Thunder Bay', 'Peace River', 'Winnipeg', 'Sudbury',\n",
       "       'West Vancouver', 'Halifax', 'London', 'Victoria', 'Regina',\n",
       "       'Kelowna', \"St. John's\", 'Kingston', 'Banff', 'Charlottetown'],\n",
       "      dtype=object)"
      ]
     },
     "execution_count": 115,
     "metadata": {},
     "output_type": "execute_result"
    }
   ],
   "source": [
    "customerDB_copy['City'].unique()"
   ]
  },
  {
   "cell_type": "markdown",
   "id": "666791a6",
   "metadata": {},
   "source": [
    "#### Income - Customer Lifetime Value"
   ]
  },
  {
   "cell_type": "markdown",
   "id": "4cbca8b8",
   "metadata": {},
   "source": [
    "We'll see if the null values in `Income` are related to the null values in `Customer Lifetime Value`."
   ]
  },
  {
   "cell_type": "code",
   "execution_count": 116,
   "id": "88483972",
   "metadata": {},
   "outputs": [
    {
     "name": "stdout",
     "output_type": "stream",
     "text": [
      "Income null values: 20\n",
      "CLV null values: 20\n",
      "Both null values: 20\n"
     ]
    }
   ],
   "source": [
    "income_null = customerDB_copy[customerDB_copy['Income'].isnull()]\n",
    "clv_null = customerDB_copy[customerDB_copy['Customer Lifetime Value'].isnull()]\n",
    "income_clv_null = customerDB_copy[(customerDB_copy['Income'].isnull()) & (customerDB_copy['Customer Lifetime Value'].isnull())]\n",
    "print(f\"Income null values: {len(income_null)}\\nCLV null values: {len(clv_null)}\\nBoth null values: {len(income_clv_null)}\")"
   ]
  },
  {
   "cell_type": "markdown",
   "id": "5a765ec4",
   "metadata": {},
   "source": [
    "When using these variables for analysis, we'll ignore these null rows. The remaining customer information is useful for other analyses, so it makes no sense to drop the whole row."
   ]
  },
  {
   "cell_type": "code",
   "execution_count": 117,
   "id": "c3d9fa3c",
   "metadata": {},
   "outputs": [
    {
     "name": "stdout",
     "output_type": "stream",
     "text": [
      "Income zero values: 4238\n",
      "CLV zero values: 0\n",
      "Both zero values: 0\n",
      "\n",
      "1         3839.61\n",
      "2         3839.75\n",
      "3         3839.75\n",
      "6         3857.95\n",
      "13        3871.07\n",
      "           ...   \n",
      "16885    44771.30\n",
      "16891    52811.49\n",
      "16895    61134.68\n",
      "16896    61850.19\n",
      "16898    74228.52\n",
      "Name: Customer Lifetime Value, Length: 4238, dtype: float64\n"
     ]
    }
   ],
   "source": [
    "income_zero = customerDB_copy[customerDB_copy['Income'] == 0]\n",
    "clv_zero = customerDB_copy[customerDB_copy['Customer Lifetime Value'] == 0]\n",
    "income_clv_zero = customerDB_copy[(customerDB_copy['Income'] == 0) & (customerDB_copy['Customer Lifetime Value'] == 0)]\n",
    "print(f\"Income zero values: {len(income_zero)}\\nCLV zero values: {len(clv_zero)}\\nBoth zero values: {len(income_clv_zero)}\\n\")\n",
    "print(income_zero['Customer Lifetime Value'])"
   ]
  },
  {
   "cell_type": "markdown",
   "id": "ce41d8a4",
   "metadata": {},
   "source": [
    "We'll try to understand if there's a pattern for the 0€ income values in the Data Visualisation section. Maybe a specific type of customer decided to keep their income a secret..? We don't know yet, but we can see that these customers, even though they have no revealed `Income`, have an estimated CLV.\n",
    "\n",
    "If there's no pattern, we'll drop the rows with these null values when doing analysis related to `Income`."
   ]
  },
  {
   "cell_type": "markdown",
   "id": "34d8aa7b",
   "metadata": {},
   "source": [
    "#### CancellationDate"
   ]
  },
  {
   "cell_type": "markdown",
   "id": "1a82de25",
   "metadata": {},
   "source": [
    "Checking if there are dates in `CancellationDate` that are earlier than dates in `EnrollmentDateOpening`."
   ]
  },
  {
   "cell_type": "code",
   "execution_count": 118,
   "id": "e1cab8f6",
   "metadata": {},
   "outputs": [
    {
     "name": "stdout",
     "output_type": "stream",
     "text": [
      "Number of rows with CancellationDate before EnrollmentDateOpening: 201\n"
     ]
    },
    {
     "data": {
      "text/html": [
       "<div>\n",
       "<style scoped>\n",
       "    .dataframe tbody tr th:only-of-type {\n",
       "        vertical-align: middle;\n",
       "    }\n",
       "\n",
       "    .dataframe tbody tr th {\n",
       "        vertical-align: top;\n",
       "    }\n",
       "\n",
       "    .dataframe thead th {\n",
       "        text-align: right;\n",
       "    }\n",
       "</style>\n",
       "<table border=\"1\" class=\"dataframe\">\n",
       "  <thead>\n",
       "    <tr style=\"text-align: right;\">\n",
       "      <th></th>\n",
       "      <th>Loyalty#</th>\n",
       "      <th>Province or State</th>\n",
       "      <th>City</th>\n",
       "      <th>Gender</th>\n",
       "      <th>Education</th>\n",
       "      <th>Location Code</th>\n",
       "      <th>Income</th>\n",
       "      <th>Marital Status</th>\n",
       "      <th>LoyaltyStatus</th>\n",
       "      <th>EnrollmentDateOpening</th>\n",
       "      <th>CancellationDate</th>\n",
       "      <th>Customer Lifetime Value</th>\n",
       "      <th>EnrollmentType</th>\n",
       "    </tr>\n",
       "  </thead>\n",
       "  <tbody>\n",
       "    <tr>\n",
       "      <th>72</th>\n",
       "      <td>357549</td>\n",
       "      <td>British Columbia</td>\n",
       "      <td>Whistler</td>\n",
       "      <td>female</td>\n",
       "      <td>Bachelor</td>\n",
       "      <td>Rural</td>\n",
       "      <td>60817.0</td>\n",
       "      <td>Single</td>\n",
       "      <td>Star</td>\n",
       "      <td>2021-09-21</td>\n",
       "      <td>2019-05-21</td>\n",
       "      <td>3964.73</td>\n",
       "      <td>Standard</td>\n",
       "    </tr>\n",
       "    <tr>\n",
       "      <th>77</th>\n",
       "      <td>265297</td>\n",
       "      <td>Manitoba</td>\n",
       "      <td>Winnipeg</td>\n",
       "      <td>female</td>\n",
       "      <td>Bachelor</td>\n",
       "      <td>Urban</td>\n",
       "      <td>39101.0</td>\n",
       "      <td>Married</td>\n",
       "      <td>Star</td>\n",
       "      <td>2021-07-17</td>\n",
       "      <td>2019-03-17</td>\n",
       "      <td>3978.67</td>\n",
       "      <td>Standard</td>\n",
       "    </tr>\n",
       "    <tr>\n",
       "      <th>176</th>\n",
       "      <td>845613</td>\n",
       "      <td>Quebec</td>\n",
       "      <td>Montreal</td>\n",
       "      <td>male</td>\n",
       "      <td>Bachelor</td>\n",
       "      <td>Urban</td>\n",
       "      <td>30598.0</td>\n",
       "      <td>Married</td>\n",
       "      <td>Star</td>\n",
       "      <td>2021-10-13</td>\n",
       "      <td>2019-06-13</td>\n",
       "      <td>4198.03</td>\n",
       "      <td>Standard</td>\n",
       "    </tr>\n",
       "    <tr>\n",
       "      <th>210</th>\n",
       "      <td>830547</td>\n",
       "      <td>British Columbia</td>\n",
       "      <td>Vancouver</td>\n",
       "      <td>male</td>\n",
       "      <td>Bachelor</td>\n",
       "      <td>Rural</td>\n",
       "      <td>26245.0</td>\n",
       "      <td>Single</td>\n",
       "      <td>Star</td>\n",
       "      <td>2021-05-11</td>\n",
       "      <td>2019-01-11</td>\n",
       "      <td>4271.20</td>\n",
       "      <td>Standard</td>\n",
       "    </tr>\n",
       "    <tr>\n",
       "      <th>304</th>\n",
       "      <td>514900</td>\n",
       "      <td>Ontario</td>\n",
       "      <td>Toronto</td>\n",
       "      <td>female</td>\n",
       "      <td>Bachelor</td>\n",
       "      <td>Urban</td>\n",
       "      <td>80892.0</td>\n",
       "      <td>Married</td>\n",
       "      <td>Star</td>\n",
       "      <td>2021-07-20</td>\n",
       "      <td>2019-03-20</td>\n",
       "      <td>4425.91</td>\n",
       "      <td>Standard</td>\n",
       "    </tr>\n",
       "    <tr>\n",
       "      <th>...</th>\n",
       "      <td>...</td>\n",
       "      <td>...</td>\n",
       "      <td>...</td>\n",
       "      <td>...</td>\n",
       "      <td>...</td>\n",
       "      <td>...</td>\n",
       "      <td>...</td>\n",
       "      <td>...</td>\n",
       "      <td>...</td>\n",
       "      <td>...</td>\n",
       "      <td>...</td>\n",
       "      <td>...</td>\n",
       "      <td>...</td>\n",
       "    </tr>\n",
       "    <tr>\n",
       "      <th>16514</th>\n",
       "      <td>584796</td>\n",
       "      <td>British Columbia</td>\n",
       "      <td>Vancouver</td>\n",
       "      <td>male</td>\n",
       "      <td>Bachelor</td>\n",
       "      <td>Rural</td>\n",
       "      <td>59853.0</td>\n",
       "      <td>Single</td>\n",
       "      <td>Star</td>\n",
       "      <td>2021-08-18</td>\n",
       "      <td>2019-04-18</td>\n",
       "      <td>19454.41</td>\n",
       "      <td>Standard</td>\n",
       "    </tr>\n",
       "    <tr>\n",
       "      <th>16522</th>\n",
       "      <td>774931</td>\n",
       "      <td>British Columbia</td>\n",
       "      <td>Whistler</td>\n",
       "      <td>female</td>\n",
       "      <td>Bachelor</td>\n",
       "      <td>Rural</td>\n",
       "      <td>33588.0</td>\n",
       "      <td>Married</td>\n",
       "      <td>Star</td>\n",
       "      <td>2021-07-21</td>\n",
       "      <td>2019-03-21</td>\n",
       "      <td>19731.34</td>\n",
       "      <td>Standard</td>\n",
       "    </tr>\n",
       "    <tr>\n",
       "      <th>16551</th>\n",
       "      <td>275807</td>\n",
       "      <td>Manitoba</td>\n",
       "      <td>Winnipeg</td>\n",
       "      <td>female</td>\n",
       "      <td>Bachelor</td>\n",
       "      <td>Urban</td>\n",
       "      <td>71467.0</td>\n",
       "      <td>Divorced</td>\n",
       "      <td>Star</td>\n",
       "      <td>2021-10-18</td>\n",
       "      <td>2019-06-18</td>\n",
       "      <td>20446.60</td>\n",
       "      <td>Standard</td>\n",
       "    </tr>\n",
       "    <tr>\n",
       "      <th>16634</th>\n",
       "      <td>433307</td>\n",
       "      <td>Manitoba</td>\n",
       "      <td>Winnipeg</td>\n",
       "      <td>male</td>\n",
       "      <td>Bachelor</td>\n",
       "      <td>Suburban</td>\n",
       "      <td>80540.0</td>\n",
       "      <td>Married</td>\n",
       "      <td>Star</td>\n",
       "      <td>2021-08-03</td>\n",
       "      <td>2019-04-03</td>\n",
       "      <td>22758.91</td>\n",
       "      <td>Standard</td>\n",
       "    </tr>\n",
       "    <tr>\n",
       "      <th>16757</th>\n",
       "      <td>893127</td>\n",
       "      <td>British Columbia</td>\n",
       "      <td>Vancouver</td>\n",
       "      <td>female</td>\n",
       "      <td>Bachelor</td>\n",
       "      <td>Urban</td>\n",
       "      <td>33806.0</td>\n",
       "      <td>Divorced</td>\n",
       "      <td>Star</td>\n",
       "      <td>2021-08-20</td>\n",
       "      <td>2019-04-20</td>\n",
       "      <td>27789.69</td>\n",
       "      <td>Standard</td>\n",
       "    </tr>\n",
       "  </tbody>\n",
       "</table>\n",
       "<p>201 rows × 13 columns</p>\n",
       "</div>"
      ],
      "text/plain": [
       "       Loyalty# Province or State       City  Gender Education Location Code  \\\n",
       "72       357549  British Columbia   Whistler  female  Bachelor         Rural   \n",
       "77       265297          Manitoba   Winnipeg  female  Bachelor         Urban   \n",
       "176      845613            Quebec   Montreal    male  Bachelor         Urban   \n",
       "210      830547  British Columbia  Vancouver    male  Bachelor         Rural   \n",
       "304      514900           Ontario    Toronto  female  Bachelor         Urban   \n",
       "...         ...               ...        ...     ...       ...           ...   \n",
       "16514    584796  British Columbia  Vancouver    male  Bachelor         Rural   \n",
       "16522    774931  British Columbia   Whistler  female  Bachelor         Rural   \n",
       "16551    275807          Manitoba   Winnipeg  female  Bachelor         Urban   \n",
       "16634    433307          Manitoba   Winnipeg    male  Bachelor      Suburban   \n",
       "16757    893127  British Columbia  Vancouver  female  Bachelor         Urban   \n",
       "\n",
       "        Income Marital Status LoyaltyStatus EnrollmentDateOpening  \\\n",
       "72     60817.0         Single          Star            2021-09-21   \n",
       "77     39101.0        Married          Star            2021-07-17   \n",
       "176    30598.0        Married          Star            2021-10-13   \n",
       "210    26245.0         Single          Star            2021-05-11   \n",
       "304    80892.0        Married          Star            2021-07-20   \n",
       "...        ...            ...           ...                   ...   \n",
       "16514  59853.0         Single          Star            2021-08-18   \n",
       "16522  33588.0        Married          Star            2021-07-21   \n",
       "16551  71467.0       Divorced          Star            2021-10-18   \n",
       "16634  80540.0        Married          Star            2021-08-03   \n",
       "16757  33806.0       Divorced          Star            2021-08-20   \n",
       "\n",
       "      CancellationDate  Customer Lifetime Value EnrollmentType  \n",
       "72          2019-05-21                  3964.73       Standard  \n",
       "77          2019-03-17                  3978.67       Standard  \n",
       "176         2019-06-13                  4198.03       Standard  \n",
       "210         2019-01-11                  4271.20       Standard  \n",
       "304         2019-03-20                  4425.91       Standard  \n",
       "...                ...                      ...            ...  \n",
       "16514       2019-04-18                 19454.41       Standard  \n",
       "16522       2019-03-21                 19731.34       Standard  \n",
       "16551       2019-06-18                 20446.60       Standard  \n",
       "16634       2019-04-03                 22758.91       Standard  \n",
       "16757       2019-04-20                 27789.69       Standard  \n",
       "\n",
       "[201 rows x 13 columns]"
      ]
     },
     "execution_count": 118,
     "metadata": {},
     "output_type": "execute_result"
    }
   ],
   "source": [
    "customerDB_copy['EnrollmentDateOpening'] = pd.to_datetime(customerDB_copy['EnrollmentDateOpening'], errors='coerce')\n",
    "customerDB_copy['CancellationDate'] = pd.to_datetime(customerDB_copy['CancellationDate'], errors='coerce')\n",
    "invalid_dates = customerDB_copy[customerDB_copy['CancellationDate'] < customerDB_copy['EnrollmentDateOpening']]\n",
    "print(f\"Number of rows with CancellationDate before EnrollmentDateOpening: {len(invalid_dates)}\")\n",
    "invalid_dates"
   ]
  },
  {
   "cell_type": "markdown",
   "id": "5eddc977",
   "metadata": {},
   "source": [
    "We are going to assume that the customer had a previous membership, cancelled it, and then decided to become a member once again.\n",
    "\n",
    "For this reason, we're just going to replace these dates in `CancellationDate` with Na.\n",
    "\n",
    "*We're not adding this to the dropped rows count as we only did a replacement.*"
   ]
  },
  {
   "cell_type": "code",
   "execution_count": 119,
   "id": "4fdd6a38",
   "metadata": {},
   "outputs": [],
   "source": [
    "for row in invalid_dates:\n",
    "    customerDB_copy.loc[invalid_dates.index, 'CancellationDate'] = pd.NaT"
   ]
  },
  {
   "cell_type": "markdown",
   "id": "c12fbc10",
   "metadata": {},
   "source": [
    "#### CustomerDB - FlightDB Relation"
   ]
  },
  {
   "cell_type": "code",
   "execution_count": 120,
   "id": "461efd5a",
   "metadata": {},
   "outputs": [
    {
     "data": {
      "text/plain": [
       "36.30936325117861"
      ]
     },
     "execution_count": 120,
     "metadata": {},
     "output_type": "execute_result"
    }
   ],
   "source": [
    "flightDB_copy.shape[0]/customerDB_copy.shape[0]"
   ]
  },
  {
   "cell_type": "markdown",
   "id": "86d9ae0e",
   "metadata": {},
   "source": [
    "Every customer in the loyalty program should have a row for each one of the 36 months in the dataset. The number above shows that there are more months registered than customers. We'll take a look into this."
   ]
  },
  {
   "cell_type": "code",
   "execution_count": 121,
   "id": "c986f05a",
   "metadata": {},
   "outputs": [
    {
     "name": "stdout",
     "output_type": "stream",
     "text": [
      "Number of Loyalty# with more than 36 rows: 163"
     ]
    },
    {
     "name": "stdout",
     "output_type": "stream",
     "text": [
      "\n",
      "Number of Loyalty# with less than 36 months: 0\n"
     ]
    }
   ],
   "source": [
    "# for each loyalty number, counting how many rows there are in the flights dataset\n",
    "flight_counts = flightDB_copy['Loyalty#'].value_counts()\n",
    "loyalty_over_36 = flight_counts[flight_counts > 36]\n",
    "print(f\"Number of Loyalty# with more than 36 rows: {len(loyalty_over_36)}\")\n",
    "\n",
    "# for each loyalty number, counting how many months are missing in the flights dataset\n",
    "months_per_loyalty = flightDB_copy.groupby('Loyalty#').size()\n",
    "missing_months = months_per_loyalty[months_per_loyalty < 36]\n",
    "print(f\"Number of Loyalty# with less than 36 months: {len(missing_months)}\")"
   ]
  },
  {
   "cell_type": "code",
   "execution_count": 122,
   "id": "e0e7c601",
   "metadata": {},
   "outputs": [
    {
     "data": {
      "text/html": [
       "<div>\n",
       "<style scoped>\n",
       "    .dataframe tbody tr th:only-of-type {\n",
       "        vertical-align: middle;\n",
       "    }\n",
       "\n",
       "    .dataframe tbody tr th {\n",
       "        vertical-align: top;\n",
       "    }\n",
       "\n",
       "    .dataframe thead th {\n",
       "        text-align: right;\n",
       "    }\n",
       "</style>\n",
       "<table border=\"1\" class=\"dataframe\">\n",
       "  <thead>\n",
       "    <tr style=\"text-align: right;\">\n",
       "      <th></th>\n",
       "      <th>Loyalty#</th>\n",
       "      <th>Year</th>\n",
       "      <th>Month</th>\n",
       "      <th>NumFlights</th>\n",
       "      <th>NumFlightsWithCompanions</th>\n",
       "      <th>DistanceKM</th>\n",
       "      <th>PointsAccumulated</th>\n",
       "      <th>PointsRedeemed</th>\n",
       "    </tr>\n",
       "  </thead>\n",
       "  <tbody>\n",
       "    <tr>\n",
       "      <th>5211</th>\n",
       "      <td>678205</td>\n",
       "      <td>2020</td>\n",
       "      <td>5</td>\n",
       "      <td>0.0</td>\n",
       "      <td>0.0</td>\n",
       "      <td>0.0</td>\n",
       "      <td>0.0</td>\n",
       "      <td>0.0</td>\n",
       "    </tr>\n",
       "    <tr>\n",
       "      <th>11558</th>\n",
       "      <td>678205</td>\n",
       "      <td>2020</td>\n",
       "      <td>5</td>\n",
       "      <td>0.0</td>\n",
       "      <td>0.0</td>\n",
       "      <td>0.0</td>\n",
       "      <td>0.0</td>\n",
       "      <td>0.0</td>\n",
       "    </tr>\n",
       "    <tr>\n",
       "      <th>19366</th>\n",
       "      <td>678205</td>\n",
       "      <td>2020</td>\n",
       "      <td>5</td>\n",
       "      <td>0.0</td>\n",
       "      <td>0.0</td>\n",
       "      <td>0.0</td>\n",
       "      <td>0.0</td>\n",
       "      <td>0.0</td>\n",
       "    </tr>\n",
       "    <tr>\n",
       "      <th>21029</th>\n",
       "      <td>678205</td>\n",
       "      <td>2020</td>\n",
       "      <td>4</td>\n",
       "      <td>0.0</td>\n",
       "      <td>0.0</td>\n",
       "      <td>0.0</td>\n",
       "      <td>0.0</td>\n",
       "      <td>0.0</td>\n",
       "    </tr>\n",
       "    <tr>\n",
       "      <th>22477</th>\n",
       "      <td>678205</td>\n",
       "      <td>2020</td>\n",
       "      <td>4</td>\n",
       "      <td>0.0</td>\n",
       "      <td>0.0</td>\n",
       "      <td>0.0</td>\n",
       "      <td>0.0</td>\n",
       "      <td>0.0</td>\n",
       "    </tr>\n",
       "    <tr>\n",
       "      <th>...</th>\n",
       "      <td>...</td>\n",
       "      <td>...</td>\n",
       "      <td>...</td>\n",
       "      <td>...</td>\n",
       "      <td>...</td>\n",
       "      <td>...</td>\n",
       "      <td>...</td>\n",
       "      <td>...</td>\n",
       "    </tr>\n",
       "    <tr>\n",
       "      <th>585497</th>\n",
       "      <td>678205</td>\n",
       "      <td>2019</td>\n",
       "      <td>11</td>\n",
       "      <td>0.0</td>\n",
       "      <td>0.0</td>\n",
       "      <td>0.0</td>\n",
       "      <td>0.0</td>\n",
       "      <td>0.0</td>\n",
       "    </tr>\n",
       "    <tr>\n",
       "      <th>585498</th>\n",
       "      <td>678205</td>\n",
       "      <td>2019</td>\n",
       "      <td>11</td>\n",
       "      <td>0.0</td>\n",
       "      <td>0.0</td>\n",
       "      <td>0.0</td>\n",
       "      <td>0.0</td>\n",
       "      <td>0.0</td>\n",
       "    </tr>\n",
       "    <tr>\n",
       "      <th>602397</th>\n",
       "      <td>678205</td>\n",
       "      <td>2019</td>\n",
       "      <td>12</td>\n",
       "      <td>0.0</td>\n",
       "      <td>0.0</td>\n",
       "      <td>0.0</td>\n",
       "      <td>0.0</td>\n",
       "      <td>0.0</td>\n",
       "    </tr>\n",
       "    <tr>\n",
       "      <th>602398</th>\n",
       "      <td>678205</td>\n",
       "      <td>2019</td>\n",
       "      <td>12</td>\n",
       "      <td>0.0</td>\n",
       "      <td>0.0</td>\n",
       "      <td>0.0</td>\n",
       "      <td>0.0</td>\n",
       "      <td>0.0</td>\n",
       "    </tr>\n",
       "    <tr>\n",
       "      <th>602399</th>\n",
       "      <td>678205</td>\n",
       "      <td>2019</td>\n",
       "      <td>12</td>\n",
       "      <td>0.0</td>\n",
       "      <td>0.0</td>\n",
       "      <td>0.0</td>\n",
       "      <td>0.0</td>\n",
       "      <td>0.0</td>\n",
       "    </tr>\n",
       "  </tbody>\n",
       "</table>\n",
       "<p>108 rows × 8 columns</p>\n",
       "</div>"
      ],
      "text/plain": [
       "        Loyalty#  Year  Month  NumFlights  NumFlightsWithCompanions  \\\n",
       "5211      678205  2020      5         0.0                       0.0   \n",
       "11558     678205  2020      5         0.0                       0.0   \n",
       "19366     678205  2020      5         0.0                       0.0   \n",
       "21029     678205  2020      4         0.0                       0.0   \n",
       "22477     678205  2020      4         0.0                       0.0   \n",
       "...          ...   ...    ...         ...                       ...   \n",
       "585497    678205  2019     11         0.0                       0.0   \n",
       "585498    678205  2019     11         0.0                       0.0   \n",
       "602397    678205  2019     12         0.0                       0.0   \n",
       "602398    678205  2019     12         0.0                       0.0   \n",
       "602399    678205  2019     12         0.0                       0.0   \n",
       "\n",
       "        DistanceKM  PointsAccumulated  PointsRedeemed  \n",
       "5211           0.0                0.0             0.0  \n",
       "11558          0.0                0.0             0.0  \n",
       "19366          0.0                0.0             0.0  \n",
       "21029          0.0                0.0             0.0  \n",
       "22477          0.0                0.0             0.0  \n",
       "...            ...                ...             ...  \n",
       "585497         0.0                0.0             0.0  \n",
       "585498         0.0                0.0             0.0  \n",
       "602397         0.0                0.0             0.0  \n",
       "602398         0.0                0.0             0.0  \n",
       "602399         0.0                0.0             0.0  \n",
       "\n",
       "[108 rows x 8 columns]"
      ]
     },
     "execution_count": 122,
     "metadata": {},
     "output_type": "execute_result"
    }
   ],
   "source": [
    "# showing the rows for one Loyalty# with more than 36 rows\n",
    "flightDB_copy[flightDB_copy['Loyalty#'] == loyalty_over_36.index[0]]"
   ]
  },
  {
   "cell_type": "markdown",
   "id": "fc83412e",
   "metadata": {},
   "source": [
    "For each repeated month, we'll keep the row with the less amount of null values."
   ]
  },
  {
   "cell_type": "code",
   "execution_count": 123,
   "id": "418cb7e0",
   "metadata": {},
   "outputs": [
    {
     "name": "stdout",
     "output_type": "stream",
     "text": [
      "Total dropped rows: 5904, which is 0.97% of the original dataset. We can still drop 12349.079999999998 rows.\n"
     ]
    }
   ],
   "source": [
    "non_null_counts = flightDB_copy.notnull().sum(axis=1) # counting non-null values in each row\n",
    "row_to_keep = (flightDB_copy.assign(non_null_count=non_null_counts).groupby(['Loyalty#', 'Year', 'Month'])['non_null_count'].idxmax()) # getting the index of the row with the most non-null values for each Loyalty#, Year, Month\n",
    "flightDB_copy = flightDB_copy.loc[row_to_keep].copy() # keeping only the rows with the most non-null values\n",
    "\n",
    "# updating the dropped rows counter\n",
    "flight_dropped_rows = flight_original_rows - flightDB_copy.shape[0]\n",
    "flight_available_to_drop -= flight_dropped_rows\n",
    "\n",
    "print(f\"Total dropped rows: {flight_dropped_rows}, which is {(flight_dropped_rows/flight_original_rows)*100:.2f}% of the original dataset. We can still drop {flight_available_to_drop} rows.\")"
   ]
  },
  {
   "cell_type": "markdown",
   "id": "c7f1b7e4",
   "metadata": {},
   "source": [
    "*Side comment: the same percentage of rows was dropped when we were cleaning the duplicate customers... This could mean that the people dropped in this previous step had an already existing ID assigned to them when creating their account. This would have mixed their data with the other customer with the existing ID.*\n",
    "\n",
    "*There's no way of identifying which flight information is related to each one of these customers, so we'll need to work with what we have.*"
   ]
  },
  {
   "cell_type": "code",
   "execution_count": 124,
   "id": "ac876d92",
   "metadata": {},
   "outputs": [
    {
     "name": "stdout",
     "output_type": "stream",
     "text": [
      "Number of Loyalty# with more than 36 rows: 0\n",
      "Number of Loyalty# with less than 36 months: 0\n"
     ]
    }
   ],
   "source": [
    "# for each loyalty number, counting how many rows there are in the flights dataset\n",
    "flight_counts = flightDB_copy['Loyalty#'].value_counts()\n",
    "loyalty_over_36 = flight_counts[flight_counts > 36]\n",
    "print(f\"Number of Loyalty# with more than 36 rows: {len(loyalty_over_36)}\")\n",
    "\n",
    "# for each loyalty number, counting how many months are missing in the flights dataset\n",
    "months_per_loyalty = flightDB_copy.groupby('Loyalty#').size()\n",
    "missing_months = months_per_loyalty[months_per_loyalty < 36]\n",
    "print(f\"Number of Loyalty# with less than 36 months: {len(missing_months)}\")"
   ]
  },
  {
   "cell_type": "markdown",
   "id": "6f36a972",
   "metadata": {},
   "source": [
    "### 2. <a id=\"4_2\">Variable Classification</a>"
   ]
  },
  {
   "cell_type": "markdown",
   "id": "4fa8526c",
   "metadata": {},
   "source": [
    "*It makes no sense to make `Loyalty#` the index in the flightDB dataset as the same customer may have multiple flights.*"
   ]
  },
  {
   "cell_type": "code",
   "execution_count": 125,
   "id": "e47027e7",
   "metadata": {},
   "outputs": [],
   "source": [
    "# Making Loyalty# the index for the customerDB\n",
    "customerDB_copy.set_index('Loyalty#', inplace=True)"
   ]
  },
  {
   "cell_type": "markdown",
   "id": "b9b6400d",
   "metadata": {},
   "source": [
    "We're going to categorise the different variables in both datasets.\n",
    "\n",
    "\n",
    "For `customerDB`, we'll have Nominal, Ordinal, Numerical, and DateTime variables. We're diving the categorical variables in Nominal and Ordinal because the latter will have its variables used for the Encoded category.\n",
    "\n",
    "For `flightDB`, we'll only have Numerical and DateTime variables since this dataset has no categorical variables."
   ]
  },
  {
   "cell_type": "code",
   "execution_count": 126,
   "id": "f83b6474",
   "metadata": {},
   "outputs": [
    {
     "name": "stdout",
     "output_type": "stream",
     "text": [
      "<class 'pandas.core.frame.DataFrame'>\n",
      "Index: 16757 entries, 480934 to 100016\n",
      "Data columns (total 12 columns):\n",
      " #   Column                   Non-Null Count  Dtype         \n",
      "---  ------                   --------------  -----         \n",
      " 0   Province or State        16757 non-null  object        \n",
      " 1   City                     16757 non-null  object        \n",
      " 2   Gender                   16757 non-null  object        \n",
      " 3   Education                16757 non-null  object        \n",
      " 4   Location Code            16757 non-null  object        \n",
      " 5   Income                   16737 non-null  float64       \n",
      " 6   Marital Status           16757 non-null  object        \n",
      " 7   LoyaltyStatus            16757 non-null  object        \n",
      " 8   EnrollmentDateOpening    16757 non-null  datetime64[ns]\n",
      " 9   CancellationDate         2085 non-null   datetime64[ns]\n",
      " 10  Customer Lifetime Value  16737 non-null  float64       \n",
      " 11  EnrollmentType           16757 non-null  object        \n",
      "dtypes: datetime64[ns](2), float64(2), object(8)\n",
      "memory usage: 1.7+ MB\n"
     ]
    }
   ],
   "source": [
    "customerDB_copy.info()"
   ]
  },
  {
   "cell_type": "code",
   "execution_count": 127,
   "id": "f811562c",
   "metadata": {},
   "outputs": [],
   "source": [
    "customer_nominal_variables = ['Province or State', 'City', 'Gender', 'Location Code', 'Marital Status', 'EnrollmentType']\n",
    "customer_ordinal_variables = ['Education', 'LoyaltyStatus']\n",
    "customer_numerical_variables = customerDB_copy.select_dtypes(include=[np.number]).columns.tolist()\n",
    "customer_datetime_variables = customerDB_copy.select_dtypes(include=['datetime']).columns.tolist()"
   ]
  },
  {
   "cell_type": "code",
   "execution_count": 128,
   "id": "d2fa46e5",
   "metadata": {},
   "outputs": [],
   "source": [
    "# Encoding ordinal variables\n",
    "education_map = {'Bachelor':2, 'College':3, 'High School or Below':1, 'Doctor':5, 'Master':4}\n",
    "loyaltystatus_map = {'Star':1, 'Nova':2, 'Aurora':3}\n",
    "for variable in customer_ordinal_variables:\n",
    "    if variable == 'Education':\n",
    "        customerDB_copy['Education Encoded'] = customerDB_copy[variable].map(education_map)\n",
    "    elif variable == 'LoyaltyStatus':\n",
    "        customerDB_copy['LoyaltyStatus Encoded'] = customerDB_copy[variable].map(loyaltystatus_map)\n",
    "customer_ordinal_variables_encoded = ['Education Encoded', 'LoyaltyStatus Encoded'] # New list of encoded ordinal variables"
   ]
  },
  {
   "cell_type": "code",
   "execution_count": 129,
   "id": "935b1b2d",
   "metadata": {},
   "outputs": [
    {
     "name": "stdout",
     "output_type": "stream",
     "text": [
      "<class 'pandas.core.frame.DataFrame'>\n",
      "Index: 602532 entries, 405624 to 169662\n",
      "Data columns (total 8 columns):\n",
      " #   Column                    Non-Null Count   Dtype  \n",
      "---  ------                    --------------   -----  \n",
      " 0   Loyalty#                  602532 non-null  int64  \n",
      " 1   Year                      602532 non-null  int64  \n",
      " 2   Month                     602532 non-null  int64  \n",
      " 3   NumFlights                602532 non-null  float64\n",
      " 4   NumFlightsWithCompanions  602532 non-null  float64\n",
      " 5   DistanceKM                602532 non-null  float64\n",
      " 6   PointsAccumulated         602532 non-null  float64\n",
      " 7   PointsRedeemed            602532 non-null  float64\n",
      "dtypes: float64(5), int64(3)\n",
      "memory usage: 41.4 MB\n"
     ]
    }
   ],
   "source": [
    "flightDB_copy.info()"
   ]
  },
  {
   "cell_type": "code",
   "execution_count": 130,
   "id": "933d7daf",
   "metadata": {},
   "outputs": [],
   "source": [
    "flight_numerical_variables = flightDB_copy.select_dtypes(include=['float']).columns.tolist()\n",
    "flight_date_variables = ['Year', 'Month']"
   ]
  },
  {
   "cell_type": "markdown",
   "id": "4c6a7559",
   "metadata": {},
   "source": [
    "*We could change `Year` and `Month` into a datetime column, but we figured they would be more useful for analysis as separate variables.*"
   ]
  },
  {
   "cell_type": "markdown",
   "id": "88259558",
   "metadata": {},
   "source": [
    "### 3.<a id=\"4_3\"> Summary Statistics</a>"
   ]
  },
  {
   "cell_type": "code",
   "execution_count": 131,
   "id": "db51ca61",
   "metadata": {},
   "outputs": [
    {
     "data": {
      "text/html": [
       "<div>\n",
       "<style scoped>\n",
       "    .dataframe tbody tr th:only-of-type {\n",
       "        vertical-align: middle;\n",
       "    }\n",
       "\n",
       "    .dataframe tbody tr th {\n",
       "        vertical-align: top;\n",
       "    }\n",
       "\n",
       "    .dataframe thead th {\n",
       "        text-align: right;\n",
       "    }\n",
       "</style>\n",
       "<table border=\"1\" class=\"dataframe\">\n",
       "  <thead>\n",
       "    <tr style=\"text-align: right;\">\n",
       "      <th></th>\n",
       "      <th>count</th>\n",
       "      <th>unique</th>\n",
       "      <th>top</th>\n",
       "      <th>freq</th>\n",
       "    </tr>\n",
       "  </thead>\n",
       "  <tbody>\n",
       "    <tr>\n",
       "      <th>Education</th>\n",
       "      <td>16757</td>\n",
       "      <td>5</td>\n",
       "      <td>Bachelor</td>\n",
       "      <td>10483</td>\n",
       "    </tr>\n",
       "    <tr>\n",
       "      <th>LoyaltyStatus</th>\n",
       "      <td>16757</td>\n",
       "      <td>3</td>\n",
       "      <td>Star</td>\n",
       "      <td>7657</td>\n",
       "    </tr>\n",
       "  </tbody>\n",
       "</table>\n",
       "</div>"
      ],
      "text/plain": [
       "               count unique       top   freq\n",
       "Education      16757      5  Bachelor  10483\n",
       "LoyaltyStatus  16757      3      Star   7657"
      ]
     },
     "execution_count": 131,
     "metadata": {},
     "output_type": "execute_result"
    }
   ],
   "source": [
    "customerDB_copy[customer_ordinal_variables].describe().T"
   ]
  },
  {
   "cell_type": "code",
   "execution_count": 132,
   "id": "04118ba9",
   "metadata": {},
   "outputs": [
    {
     "data": {
      "text/html": [
       "<div>\n",
       "<style scoped>\n",
       "    .dataframe tbody tr th:only-of-type {\n",
       "        vertical-align: middle;\n",
       "    }\n",
       "\n",
       "    .dataframe tbody tr th {\n",
       "        vertical-align: top;\n",
       "    }\n",
       "\n",
       "    .dataframe thead th {\n",
       "        text-align: right;\n",
       "    }\n",
       "</style>\n",
       "<table border=\"1\" class=\"dataframe\">\n",
       "  <thead>\n",
       "    <tr style=\"text-align: right;\">\n",
       "      <th></th>\n",
       "      <th>count</th>\n",
       "      <th>mean</th>\n",
       "      <th>std</th>\n",
       "      <th>min</th>\n",
       "      <th>25%</th>\n",
       "      <th>50%</th>\n",
       "      <th>75%</th>\n",
       "      <th>max</th>\n",
       "    </tr>\n",
       "  </thead>\n",
       "  <tbody>\n",
       "    <tr>\n",
       "      <th>Income</th>\n",
       "      <td>16737.0</td>\n",
       "      <td>37749.877696</td>\n",
       "      <td>30370.336552</td>\n",
       "      <td>0.00</td>\n",
       "      <td>0.00</td>\n",
       "      <td>34148.00</td>\n",
       "      <td>62396.00</td>\n",
       "      <td>99981.00</td>\n",
       "    </tr>\n",
       "    <tr>\n",
       "      <th>Customer Lifetime Value</th>\n",
       "      <td>16737.0</td>\n",
       "      <td>7988.896536</td>\n",
       "      <td>6860.982280</td>\n",
       "      <td>1898.01</td>\n",
       "      <td>3980.84</td>\n",
       "      <td>5780.18</td>\n",
       "      <td>8940.58</td>\n",
       "      <td>83325.38</td>\n",
       "    </tr>\n",
       "  </tbody>\n",
       "</table>\n",
       "</div>"
      ],
      "text/plain": [
       "                           count          mean           std      min  \\\n",
       "Income                   16737.0  37749.877696  30370.336552     0.00   \n",
       "Customer Lifetime Value  16737.0   7988.896536   6860.982280  1898.01   \n",
       "\n",
       "                             25%       50%       75%       max  \n",
       "Income                      0.00  34148.00  62396.00  99981.00  \n",
       "Customer Lifetime Value  3980.84   5780.18   8940.58  83325.38  "
      ]
     },
     "execution_count": 132,
     "metadata": {},
     "output_type": "execute_result"
    }
   ],
   "source": [
    "customerDB_copy[customer_numerical_variables].describe().T"
   ]
  },
  {
   "cell_type": "markdown",
   "id": "0db534f6",
   "metadata": {},
   "source": [
    "`Customer Lifetime Value` seems to have outliers on the right, as the mean is higher than the median. This means that *some* customers have a high Lifetime Value, but the majority doesn't. It makes sense from a logical point of view as we don't see most people having frequent flights. However, we'll try to understand how this variable relates to the rest in the Data Visualisation section.\n",
    "\n",
    "As said previously, in clustering, we will try to understand if there's a pattern in the missing values in `Income`. *(i.e. If they're missing completely at random, at random or not at random)*"
   ]
  },
  {
   "cell_type": "code",
   "execution_count": 133,
   "id": "0ad4cb6b",
   "metadata": {},
   "outputs": [
    {
     "data": {
      "text/html": [
       "<div>\n",
       "<style scoped>\n",
       "    .dataframe tbody tr th:only-of-type {\n",
       "        vertical-align: middle;\n",
       "    }\n",
       "\n",
       "    .dataframe tbody tr th {\n",
       "        vertical-align: top;\n",
       "    }\n",
       "\n",
       "    .dataframe thead th {\n",
       "        text-align: right;\n",
       "    }\n",
       "</style>\n",
       "<table border=\"1\" class=\"dataframe\">\n",
       "  <thead>\n",
       "    <tr style=\"text-align: right;\">\n",
       "      <th></th>\n",
       "      <th>count</th>\n",
       "      <th>mean</th>\n",
       "      <th>std</th>\n",
       "      <th>min</th>\n",
       "      <th>25%</th>\n",
       "      <th>50%</th>\n",
       "      <th>75%</th>\n",
       "      <th>max</th>\n",
       "    </tr>\n",
       "  </thead>\n",
       "  <tbody>\n",
       "    <tr>\n",
       "      <th>NumFlights</th>\n",
       "      <td>602532.0</td>\n",
       "      <td>3.917947</td>\n",
       "      <td>5.061262</td>\n",
       "      <td>0.0</td>\n",
       "      <td>0.0</td>\n",
       "      <td>0.900</td>\n",
       "      <td>7.2000</td>\n",
       "      <td>21.0</td>\n",
       "    </tr>\n",
       "    <tr>\n",
       "      <th>NumFlightsWithCompanions</th>\n",
       "      <td>602532.0</td>\n",
       "      <td>0.985944</td>\n",
       "      <td>2.005278</td>\n",
       "      <td>0.0</td>\n",
       "      <td>0.0</td>\n",
       "      <td>0.000</td>\n",
       "      <td>0.9000</td>\n",
       "      <td>11.0</td>\n",
       "    </tr>\n",
       "    <tr>\n",
       "      <th>DistanceKM</th>\n",
       "      <td>602532.0</td>\n",
       "      <td>7955.196144</td>\n",
       "      <td>10263.557090</td>\n",
       "      <td>0.0</td>\n",
       "      <td>0.0</td>\n",
       "      <td>919.000</td>\n",
       "      <td>15367.0000</td>\n",
       "      <td>42040.0</td>\n",
       "    </tr>\n",
       "    <tr>\n",
       "      <th>PointsAccumulated</th>\n",
       "      <td>602532.0</td>\n",
       "      <td>795.362893</td>\n",
       "      <td>1026.232111</td>\n",
       "      <td>0.0</td>\n",
       "      <td>0.0</td>\n",
       "      <td>91.845</td>\n",
       "      <td>1536.3225</td>\n",
       "      <td>4204.0</td>\n",
       "    </tr>\n",
       "    <tr>\n",
       "      <th>PointsRedeemed</th>\n",
       "      <td>602532.0</td>\n",
       "      <td>235.805094</td>\n",
       "      <td>984.379949</td>\n",
       "      <td>0.0</td>\n",
       "      <td>0.0</td>\n",
       "      <td>0.000</td>\n",
       "      <td>0.0000</td>\n",
       "      <td>7496.0</td>\n",
       "    </tr>\n",
       "  </tbody>\n",
       "</table>\n",
       "</div>"
      ],
      "text/plain": [
       "                             count         mean           std  min  25%  \\\n",
       "NumFlights                602532.0     3.917947      5.061262  0.0  0.0   \n",
       "NumFlightsWithCompanions  602532.0     0.985944      2.005278  0.0  0.0   \n",
       "DistanceKM                602532.0  7955.196144  10263.557090  0.0  0.0   \n",
       "PointsAccumulated         602532.0   795.362893   1026.232111  0.0  0.0   \n",
       "PointsRedeemed            602532.0   235.805094    984.379949  0.0  0.0   \n",
       "\n",
       "                              50%         75%      max  \n",
       "NumFlights                  0.900      7.2000     21.0  \n",
       "NumFlightsWithCompanions    0.000      0.9000     11.0  \n",
       "DistanceKM                919.000  15367.0000  42040.0  \n",
       "PointsAccumulated          91.845   1536.3225   4204.0  \n",
       "PointsRedeemed              0.000      0.0000   7496.0  "
      ]
     },
     "execution_count": 133,
     "metadata": {},
     "output_type": "execute_result"
    }
   ],
   "source": [
    "flightDB_copy[flight_numerical_variables].describe().T"
   ]
  },
  {
   "cell_type": "markdown",
   "id": "fd06f746",
   "metadata": {},
   "source": [
    "In the Flights dataset, we can see that most variables have many rows with null values.\n",
    "\n",
    "We can conclude that 25% of the registered *months by customer* have no flights. This could mean that some months have few or no flights or that some customers have no flights in most or all months.\n",
    "\n",
    "The `NumFlightsWithCompanions` variable is clearly related to the `NumFlights`, as one indicates the number of flights *with companions* and the other the number of flights the customer had in the month in total, respectively, so it makes sense that it has even more null values (at least 50%).\n",
    "\n",
    "The remaining values follow the same logic. They're all related to the total number of flights, so it makes sense that at least 25% of their values are null since 25% of `NumFlights`'s values is also null.\n",
    "\n",
    "`PointsRedeemed` and `DollarCostPointsRedeemed` also show that most customers (75% or more) don't redeem their available points.\n",
    "\n",
    "Overall, we can conclude that every numerical variable of this dataset is left-skewed as the mean is much higher than the median in every case."
   ]
  },
  {
   "cell_type": "markdown",
   "id": "5d929209",
   "metadata": {},
   "source": [
    "### 4.<a id=\"4_4\"> Data Visualisation</a>"
   ]
  },
  {
   "cell_type": "code",
   "execution_count": 134,
   "id": "ae1ac66a",
   "metadata": {},
   "outputs": [
    {
     "data": {
      "image/png": "[encoded data removed]",
      "text/plain": [
       "<Figure size 1200x300 with 4 Axes>"
      ]
     },
     "metadata": {},
     "output_type": "display_data"
    }
   ],
   "source": [
    "fig, axes = plt.subplots(nrows=1, ncols=4, figsize=(12, 3))\n",
    "axes = axes.flatten()\n",
    "for i, variable in enumerate(customer_numerical_variables + customer_ordinal_variables_encoded):\n",
    "    axes[i].boxplot(customerDB_copy[variable].dropna(), vert=False)\n",
    "    axes[i].set_title(variable)\n",
    "plt.tight_layout()\n",
    "plt.show()"
   ]
  },
  {
   "cell_type": "code",
   "execution_count": 135,
   "id": "81ee4432",
   "metadata": {},
   "outputs": [
    {
     "data": {
      "image/png": "[encoded data removed]",
      "text/plain": [
       "<Figure size 1200x300 with 4 Axes>"
      ]
     },
     "metadata": {},
     "output_type": "display_data"
    }
   ],
   "source": [
    "fig, axes = plt.subplots(nrows=1, ncols=4, figsize=(12, 3))\n",
    "axes = axes.flatten()\n",
    "for i, variable in enumerate(customer_numerical_variables + customer_ordinal_variables_encoded):\n",
    "    axes[i].hist(customerDB_copy[variable].dropna(), bins=20)\n",
    "    axes[i].set_title(variable)\n",
    "plt.tight_layout()\n",
    "plt.show()"
   ]
  },
  {
   "cell_type": "code",
   "execution_count": 136,
   "id": "1d2f5934",
   "metadata": {},
   "outputs": [
    {
     "data": {
      "image/png": "[encoded data removed]",
      "text/plain": [
       "<Figure size 1200x300 with 4 Axes>"
      ]
     },
     "metadata": {},
     "output_type": "display_data"
    }
   ],
   "source": [
    "fig, axes = plt.subplots(nrows=1, ncols=4, figsize=(12, 3))\n",
    "axes = axes.flatten()\n",
    "for i, variable in enumerate(flight_numerical_variables[:-1]):\n",
    "    axes[i].boxplot(flightDB_copy[variable].dropna(), vert=False)\n",
    "    axes[i].set_title(variable)\n",
    "plt.tight_layout()\n",
    "plt.show()"
   ]
  },
  {
   "cell_type": "code",
   "execution_count": 137,
   "id": "1dc3b9ae",
   "metadata": {},
   "outputs": [
    {
     "data": {
      "image/png": "[encoded data removed]",
      "text/plain": [
       "<Figure size 1200x300 with 4 Axes>"
      ]
     },
     "metadata": {},
     "output_type": "display_data"
    }
   ],
   "source": [
    "fig, axes = plt.subplots(nrows=1, ncols=4, figsize=(12, 3))\n",
    "axes = axes.flatten()\n",
    "for i, variable in enumerate(flight_numerical_variables[:-1]):\n",
    "    axes[i].hist(flightDB_copy[variable].dropna(), bins=20)\n",
    "    axes[i].set_title(variable)\n",
    "plt.tight_layout()\n",
    "plt.show()"
   ]
  },
  {
   "cell_type": "markdown",
   "id": "4d1a2a84",
   "metadata": {},
   "source": [
    "#### Customer Lifetime Value Correlations"
   ]
  },
  {
   "cell_type": "markdown",
   "id": "dc2f5101",
   "metadata": {},
   "source": [
    "We will use different correlations when comparing different variable types with the CLV.\n",
    "\n",
    "Continuous Variables - Spearman: `Income`, `NumFlights`, `NumFlightsWithCompanions`, `DistanceKM`, `PointsAccumulated`, `PointsRedeemed`\n",
    "\n",
    "*(We will not use Pearson since our variables don't have normal distribution.)*\n",
    "\n",
    "Ordinal Variables - Spearman: `Education Encoded`, `LoyaltyStatus Encoded`\n",
    "\n",
    "Correlation Ratio - Categorical Variables: `Education`, `LoyaltyStatus`, `Gender`, `Location Code`, `Marital Status`, `EnrollmentType`"
   ]
  },
  {
   "cell_type": "code",
   "execution_count": 138,
   "id": "24c0e991",
   "metadata": {},
   "outputs": [],
   "source": [
    "# Merging the two datasets to make the correlations easier\n",
    "merged_df = customerDB_copy.merge(flightDB_copy, left_index=True, right_on='Loyalty#', how='left')"
   ]
  },
  {
   "cell_type": "code",
   "execution_count": 139,
   "id": "2e396211",
   "metadata": {},
   "outputs": [
    {
     "data": {
      "image/png": "[encoded data removed]",
      "text/plain": [
       "<Figure size 1200x200 with 8 Axes>"
      ]
     },
     "metadata": {},
     "output_type": "display_data"
    },
    {
     "data": {
      "image/png": "[encoded data removed]",
      "text/plain": [
       "<Figure size 1200x600 with 4 Axes>"
      ]
     },
     "metadata": {},
     "output_type": "display_data"
    }
   ],
   "source": [
    "continuous_vars = ['Income', 'PointsAccumulated', 'PointsRedeemed', 'DistanceKM']\n",
    "discrete_ord_vars = ['NumFlights', 'NumFlightsWithCompanions', \"Education Encoded\", 'LoyaltyStatus Encoded']\n",
    "\n",
    "sns.set_style(\"white\")\n",
    "fig, axes = plt.subplots(nrows=1, ncols=4, figsize=(12, 2))\n",
    "axes = axes.flatten()\n",
    "for i, var in enumerate(continuous_vars):\n",
    "    hb = axes[i].hexbin(merged_df[merged_df[var] != 0][var], merged_df[merged_df[var] != 0]['Customer Lifetime Value'], gridsize=20, cmap='Greys', mincnt=1)\n",
    "    axes[i].set_title(var)\n",
    "    axes[i].set_xlabel(var)\n",
    "    axes[i].set_ylabel('Customer Lifetime Value')\n",
    "    cb = fig.colorbar(hb, ax=axes[i], label='counts')\n",
    "plt.tight_layout()\n",
    "plt.show()\n",
    "\n",
    "fig_2, axes_2 = plt.subplots(nrows=2, ncols=2, figsize=(12, 6))\n",
    "axes_2 = axes_2.flatten()\n",
    "for i, var in enumerate(discrete_ord_vars):\n",
    "    sns.boxplot(x=merged_df[var], y=merged_df['Customer Lifetime Value'], ax=axes_2[i])\n",
    "    axes_2[i].set_title(var)\n",
    "    axes_2[i].set_xlabel(var)\n",
    "    axes_2[i].set_ylabel('Customer Lifetime Value')\n",
    "plt.tight_layout()\n",
    "plt.show()"
   ]
  },
  {
   "cell_type": "code",
   "execution_count": 140,
   "id": "79ee4dc8",
   "metadata": {},
   "outputs": [
    {
     "name": "stdout",
     "output_type": "stream",
     "text": [
      "Spearman Correlation - Income\n",
      "Correlation: 0.0539\n",
      "P-value: 0.0000\n",
      "\n",
      "Spearman Correlation - PointsAccumulated\n",
      "Correlation: -0.0018\n",
      "P-value: 0.1517\n",
      "\n",
      "Spearman Correlation - PointsRedeemed\n",
      "Correlation: -0.0009\n",
      "P-value: 0.4835\n",
      "\n",
      "Spearman Correlation - NumFlights\n",
      "Correlation: -0.0001\n",
      "P-value: 0.9460\n",
      "\n",
      "Spearman Correlation - NumFlightsWithCompanions\n",
      "Correlation: -0.0012\n",
      "P-value: 0.3398\n",
      "\n",
      "Spearman Correlation - DistanceKM\n",
      "Correlation: -0.0018\n",
      "P-value: 0.1517\n",
      "\n",
      "Spearman Correlation - Education Encoded\n",
      "Correlation: -0.0464\n",
      "P-value: 0.0000\n",
      "\n",
      "Spearman Correlation - LoyaltyStatus Encoded\n",
      "Correlation: 0.3527\n",
      "P-value: 0.0000\n",
      "\n"
     ]
    }
   ],
   "source": [
    "spearman_vars = ['Income', 'PointsAccumulated', 'PointsRedeemed', 'NumFlights', 'NumFlightsWithCompanions', 'DistanceKM', 'Education Encoded', 'LoyaltyStatus Encoded']\n",
    "results = {}\n",
    "for var in spearman_vars:\n",
    "    clean_data = merged_df[['Customer Lifetime Value', var]].dropna()\n",
    "    if len(clean_data) > 1:\n",
    "        corr, p_value = stats.spearmanr(clean_data['Customer Lifetime Value'], clean_data[var])\n",
    "        results[var] = (corr, p_value)\n",
    "        print(f\"Spearman Correlation - {var}\\nCorrelation: {results[var][0]:.4f}\\nP-value: {results[var][1]:.4f}\\n\")\n",
    "        results[var] = (np.nan, np.nan)"
   ]
  },
  {
   "cell_type": "code",
   "execution_count": 141,
   "id": "22c79dc8",
   "metadata": {},
   "outputs": [
    {
     "name": "stdout",
     "output_type": "stream",
     "text": [
      "\n",
      "Correlation Ratio for Gender:\n",
      "0.00000\n",
      "\n",
      "Correlation Ratio for Location Code:\n",
      "0.00015\n",
      "\n",
      "Correlation Ratio for Marital Status:\n",
      "0.00062\n",
      "\n",
      "Correlation Ratio for EnrollmentType:\n",
      "0.00001\n"
     ]
    }
   ],
   "source": [
    "customerDB_no_nan = customerDB_copy.dropna(subset=['Customer Lifetime Value'])\n",
    "\n",
    "def correlation_ratio(categories, values):\n",
    "    categories = np.array(categories)\n",
    "    values = np.array(values)\n",
    "    \n",
    "    overall_mean = values.mean()\n",
    "    total_variance = ((values - overall_mean) ** 2).sum()\n",
    "    between_group_variance = 0\n",
    "\n",
    "    for cat in np.unique(categories):\n",
    "        cat_values = values[categories == cat]\n",
    "        n_cat = len(cat_values)\n",
    "        cat_mean = cat_values.mean()\n",
    "        between_group_variance += n_cat * ((cat_mean - overall_mean) ** 2)\n",
    "\n",
    "    # η² = between group variance / total variance\n",
    "    print(f\"{between_group_variance / total_variance:.5f}\")\n",
    "\n",
    "for category in ['Gender', 'Location Code', 'Marital Status', 'EnrollmentType']:\n",
    "    print(f\"\\nCorrelation Ratio for {category}:\")\n",
    "    correlation_ratio(customerDB_no_nan[category], customerDB_no_nan['Customer Lifetime Value'])\n",
    "\n"
   ]
  },
  {
   "cell_type": "code",
   "execution_count": 142,
   "id": "d6a52042",
   "metadata": {},
   "outputs": [
    {
     "data": {
      "image/png": "[encoded data removed]",
      "text/plain": [
       "<Figure size 1200x600 with 6 Axes>"
      ]
     },
     "metadata": {},
     "output_type": "display_data"
    }
   ],
   "source": [
    "# plotting histogram with the CLV variable and using the categorical variables to color the data\n",
    "colour_vars = ['Education', 'LoyaltyStatus', 'Gender', 'Location Code', 'Marital Status', 'EnrollmentType']\n",
    "fig, axes = plt.subplots(nrows=2, ncols=3, figsize=(12, 6))\n",
    "axes = axes.flatten()\n",
    "for i, variable in enumerate(colour_vars):\n",
    "    sns.set_palette('bright')\n",
    "    sns.histplot(data=customerDB_copy, x='Customer Lifetime Value', hue=variable, element='step', stat='density', common_norm=False, ax=axes[i], bins=40)\n",
    "    axes[i].set_title(variable)\n",
    "plt.suptitle('Customer Lifetime Value Distribution by Categorical Variables')\n",
    "plt.tight_layout()\n",
    "plt.show()"
   ]
  },
  {
   "cell_type": "markdown",
   "id": "4799c5b1",
   "metadata": {},
   "source": [
    "#\n",
    "***"
   ]
  },
  {
   "cell_type": "markdown",
   "id": "46bb49d0",
   "metadata": {},
   "source": [
    "## 5. <a id=\"5\">Clustering</a>"
   ]
  },
  {
   "cell_type": "markdown",
   "id": "8e541269",
   "metadata": {},
   "source": [
    "***"
   ]
  },
  {
   "cell_type": "markdown",
   "id": "85a3c2f5",
   "metadata": {},
   "source": [
    "## 6. <a id=\"6\">Evaluation</a>"
   ]
  },
  {
   "cell_type": "markdown",
   "id": "0fdcfec8",
   "metadata": {},
   "source": [
    "***"
   ]
  },
  {
   "cell_type": "markdown",
   "id": "262e83e7",
   "metadata": {},
   "source": [
    "## 7. <a id=\"7\">Suggestions</a>"
   ]
  },
  {
   "cell_type": "markdown",
   "id": "3d4f3716",
   "metadata": {},
   "source": [
    "***"
   ]
  }
 ],
 "metadata": {
  "kernelspec": {
   "display_name": "data-mining",
   "language": "python",
   "name": "python3"
  },
  "language_info": {
   "codemirror_mode": {
    "name": "ipython",
    "version": 3
   },
   "file_extension": ".py",
   "mimetype": "text/x-python",
   "name": "python",
   "nbconvert_exporter": "python",
   "pygments_lexer": "ipython3",
   "version": "3.13.7"
  }
 },
 "nbformat": 4,
 "nbformat_minor": 5
}
